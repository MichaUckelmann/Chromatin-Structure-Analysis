{
 "cells": [
  {
   "attachments": {},
   "cell_type": "markdown",
   "metadata": {},
   "source": [
    "Author: Minrui Li - Monash University"
   ]
  },
  {
   "cell_type": "code",
   "execution_count": null,
   "metadata": {
    "executionInfo": {
     "elapsed": 1,
     "status": "ok",
     "timestamp": 1666302951976,
     "user": {
      "displayName": "Minrui Li",
      "userId": "16054889870722932426"
     },
     "user_tz": -660
    },
    "id": "VsZjOmNhAj8p"
   },
   "outputs": [],
   "source": [
    "# load library\n",
    "import numpy as np\n",
    "import pandas as pd\n",
    "import math\n",
    "from numpy import linalg as LA\n",
    "import matplotlib.pyplot as plt\n",
    "import plotly.express as px\n",
    "\n",
    "import plotly.graph_objs as go\n",
    "import plotly\n",
    "\n",
    "from sklearn import preprocessing # for normalisation\n",
    "\n",
    "import itertools"
   ]
  },
  {
   "cell_type": "code",
   "execution_count": 4,
   "metadata": {
    "executionInfo": {
     "elapsed": 2,
     "status": "ok",
     "timestamp": 1666301627927,
     "user": {
      "displayName": "Minrui Li",
      "userId": "16054889870722932426"
     },
     "user_tz": -660
    },
    "id": "AD3lUyPNYMry"
   },
   "outputs": [],
   "source": [
    "# Unit vector in x direction\n",
    "# column vector \n",
    "u = np.array([[1], [0], [0]])"
   ]
  },
  {
   "cell_type": "markdown",
   "metadata": {
    "id": "G7GV-tz_YNQ7"
   },
   "source": [
    "## Functions"
   ]
  },
  {
   "cell_type": "code",
   "execution_count": 6,
   "metadata": {
    "executionInfo": {
     "elapsed": 312,
     "status": "ok",
     "timestamp": 1666301658392,
     "user": {
      "displayName": "Minrui Li",
      "userId": "16054889870722932426"
     },
     "user_tz": -660
    },
    "id": "iYqNKXDSkwXH"
   },
   "outputs": [],
   "source": [
    "'''\n",
    "from euler_2_matrix.txt\n",
    "Function: euler angle to rotation matrix\n",
    "Input: dataframe row tolist (Euler angle)\n",
    "Output: 3 x 3 matrix\n",
    "\n",
    "'''\n",
    "def euler2rotMat(a_ncp, outputFile=False):\n",
    "    a_row = a_ncp.copy()\n",
    "\n",
    "    # degrees to radians\n",
    "    a_row[0] = np.radians(a_row[0]) # tdrot\n",
    "    a_row[1] = np.radians(a_row[1]) # tilt\n",
    "    a_row[2] = np.radians(a_row[2]) # narot\n",
    "\n",
    "    # cos/sin\n",
    "    costdrot = np.cos(a_row[0])\n",
    "    cosnarot = np.cos(a_row[2])\n",
    "    costilt  = np.cos(a_row[1])\n",
    "    sintdrot = np.sin(a_row[0])\n",
    "    sinnarot = np.sin(a_row[2])\n",
    "    sintilt  = np.sin(a_row[1])\n",
    "\n",
    "\n",
    "    rotMat = np.zeros((3,3))\n",
    "    rotMat[0,0] = costdrot*cosnarot - sintdrot*costilt*sinnarot\n",
    "    rotMat[1,0] = - cosnarot*sintdrot - costdrot*costilt*sinnarot\n",
    "    rotMat[2,0] = sinnarot*sintilt\n",
    "    rotMat[0,1] = costdrot*sinnarot + cosnarot*sintdrot*costilt\n",
    "    rotMat[1,1] = costdrot*cosnarot*costilt - sintdrot*sinnarot\n",
    "    rotMat[2,1] = -cosnarot*sintilt\n",
    "    rotMat[0,2] = sintdrot*sintilt\n",
    "    rotMat[1,2] = costdrot*sintilt\n",
    "    rotMat[2,2] = costilt\n",
    "\n",
    "    rotMat = np.round_(rotMat, decimals = 6)\n",
    "\n",
    "    if outputFile == True:\n",
    "        rotMat = np.append(rotMat, [[a_row[3]], [a_row[4]], [a_row[5]]], axis=1)\n",
    "    return rotMat"
   ]
  },
  {
   "cell_type": "code",
   "execution_count": 9,
   "metadata": {
    "executionInfo": {
     "elapsed": 320,
     "status": "ok",
     "timestamp": 1666301764259,
     "user": {
      "displayName": "Minrui Li",
      "userId": "16054889870722932426"
     },
     "user_tz": -660
    },
    "id": "2p8DfYN8vB21"
   },
   "outputs": [],
   "source": [
    "'''\n",
    "Function: find orientation\n",
    "Input: anlge (a list)\n",
    "Output: orientation (a list)\n",
    "'''\n",
    "def orientation(angle):\n",
    "    ff_ss = angle[0] < 45 or angle[0] > 135 # a1\n",
    "\n",
    "    fs = not ff_ss\n",
    "\n",
    "    ff = (angle[0] < 45 or angle[0] > 135) and (angle[1] < 45 or angle[1] > 135 or angle[2] < 45 or angle[2] > 135)\n",
    "    ss = (not ff) and (not fs)\n",
    "\n",
    "    if fs == 1:\n",
    "        return \"fs\"\n",
    "    elif ff == 1:\n",
    "        return \"ff\"\n",
    "    else:\n",
    "        return \"ss\"\n",
    "    #return [int(fs), int(ff), int(ss)]"
   ]
  },
  {
   "cell_type": "code",
   "execution_count": 8,
   "metadata": {
    "executionInfo": {
     "elapsed": 2,
     "status": "ok",
     "timestamp": 1666301758348,
     "user": {
      "displayName": "Minrui Li",
      "userId": "16054889870722932426"
     },
     "user_tz": -660
    },
    "id": "KpmiI5-XpVsy"
   },
   "outputs": [],
   "source": [
    "\n",
    "'''\n",
    "Function: find angle between neighbour\n",
    "Input: dictionary, index of centre\n",
    "Output: angle (a list)\n",
    "\n",
    "idxx - current dictionary (current centered nucleosome)\n",
    "dic - one of the inner dictionaries (a_dict[key])\n",
    "\n",
    "Angle between centred NCP & i-th NCP\n",
    "'''\n",
    "def angle_nn(dic, idxxx):\n",
    "    # angle list\n",
    "    ang_list = []\n",
    "    for j in range(len(dic[\"k_idx\"])):\n",
    "\n",
    "        if dic[\"k_idx\"][j] != idxxx:\n",
    "            # j-th NCP\n",
    "            cos_alpha = round(np.dot(dic['transp'][0], dic['transp'][j]), 5) # NCP1 transpose * NCP j-th transpose\n",
    "            cos_betai = round(np.dot(dic['normVec'].loc[dic[\"k_idx\"][j]].tolist(), dic['transp'][0]), 5) # normalise vec *  NCP1/current key transpose \n",
    "            cos_betaj = round(np.dot(dic['normVec'].loc[dic[\"k_idx\"][j]].tolist(), dic['transp'][j]), 5) # normalise vec *  NCP j-th transpose\n",
    "\n",
    "            # angles\n",
    "            a1 = math.degrees(math.acos(cos_alpha))\n",
    "\n",
    "            a2 = math.degrees(math.acos(cos_betai))\n",
    "            \n",
    "            a3 = math.degrees(math.acos(cos_betaj))\n",
    "\n",
    "            ang_list.append([a1, a2, a3])\n",
    "        else:\n",
    "            ang_list.append([0, 0, 0])\n",
    "    return ang_list"
   ]
  },
  {
   "cell_type": "code",
   "execution_count": 12,
   "metadata": {
    "executionInfo": {
     "elapsed": 3,
     "status": "ok",
     "timestamp": 1666302093837,
     "user": {
      "displayName": "Minrui Li",
      "userId": "16054889870722932426"
     },
     "user_tz": -660
    },
    "id": "uvlqhPH1OMLo"
   },
   "outputs": [],
   "source": [
    "'''\n",
    "Function: read in data with distance setting and process as proper format\n",
    "distance: in nm\n",
    "scale: to nm\n",
    "mode: csv or tbl or df\n",
    "filename: string or dataframe\n",
    "\n",
    "Output: a dictionary with all the information about neighbours\n",
    "and extracted table from the dataset with additional information\n",
    "e.g. number of neighbours of each nucleosome\n",
    "\n",
    "Output dictionary can access individual nucleosome's dictionary via indexing\n",
    "e.g. dictionary[1] \n",
    "'''\n",
    "\n",
    "def readData(filename, distance, scale, mode='csv'):\n",
    "    if mode == 'csv':\n",
    "        df = pd.read_csv(filename, header=None)\n",
    "    elif mode == 'tbl':\n",
    "        df = pd.read_table(filename, delimiter=' ', header=None)\n",
    "    elif mode == 'df':\n",
    "        df = filename\n",
    "    else:\n",
    "        return \"The file is invalid! Only tbl or csv can be accepted.\"\n",
    "\n",
    "    # extract needed columns\n",
    "    frames = [df.iloc[:, 6:9], df.iloc[:, 23:26], df.iloc[:, 9]]\n",
    "    # len(frames)\n",
    "    df1 = pd.concat(frames, axis=1)\n",
    "\n",
    "    name_list = ['tdrot', 'tilt', 'narot', 'x', 'y', 'z', 'cc']\n",
    "    # Rename column names\n",
    "    df1.columns = name_list\n",
    "\n",
    "    # Get distance to all the points and keep those within the range\n",
    "    a_dict = {}\n",
    "    for index, row in df1.iterrows():\n",
    "        df3 = df1.copy()\n",
    "        df3['dist'] = 0\n",
    "        # current target index\n",
    "        idxx = index\n",
    "        # Calculate distance\n",
    "        for indexx, roww in df1.iterrows():\n",
    "            if indexx != idxx:\n",
    "                df3.loc[indexx, 'dist'] = np.linalg.norm(roww[['x', 'y', 'z']] - df3.loc[idxx, ['x', 'y', 'z']]) * scale\n",
    "        ## 20nm\n",
    "        df3 = df3[df3['dist'] < distance] # \n",
    "\n",
    "        # Sort dataframe according to distance\n",
    "        df3 = df3.sort_values(by=['dist'])\n",
    "\n",
    "        # for central point\n",
    "        # inner dictionary\n",
    "        in_dict = {}\n",
    "\n",
    "        in_dict[\"k_idx\"] = list(df3.index) # row indices with distance less than defined distance\n",
    "        in_dict[\"k_dist\"] = list(df3.loc[list(df3.index), 'dist']) # list(a_dict[\"k_idx\"], 'dist'])\n",
    "        #print(in_dict[\"k_dist\"])\n",
    "        in_dict[\"xyz\"] = df3.loc[in_dict[\"k_idx\"], [\"x\", \"y\", \"z\"]] # k NCP's coordinates\n",
    "        in_dict[\"euler\"] = df3.loc[in_dict[\"k_idx\"], [\"tdrot\", \"tilt\", \"narot\"]] # k NCP's euler angles\n",
    "\n",
    "        in_dict['df'] = df3\n",
    "\n",
    "        a_dict[index] = in_dict\n",
    "\n",
    "    # angle, orientation\n",
    "    for key in a_dict:\n",
    "        # Find vector from neighbour to centre\n",
    "        vec = a_dict[key][\"xyz\"] - a_dict[key][\"xyz\"].loc[key]\n",
    "        normVec = vec.copy()\n",
    "        # Find normalised vector\n",
    "        ## replace the rows \n",
    "        norm_list = []\n",
    "        for index, row in vec.iterrows():\n",
    "            if index != key:\n",
    "                normVec.loc[index] = row/np.linalg.norm(row)\n",
    "            else:\n",
    "                normVec.loc[index] = 0\n",
    "\n",
    "        a_dict[key][\"vector\"] = vec\n",
    "        a_dict[key][\"normVec\"] = normVec  \n",
    "        #print(\"current dict: \", key)\n",
    "        # Find transpose\n",
    "        transp_list = []\n",
    "        for i in range(len(a_dict[key][\"k_idx\"])): #YES\n",
    "            # rotation matrix\n",
    "            mati = euler2rotMat(a_dict[key]['euler'].loc[a_dict[key][\"k_idx\"][i]], outputFile=False) # NCP i-th\n",
    "            # matarix * vector\n",
    "            temp1 = list(np.dot(mati, u).transpose()[0]) # NCP1\n",
    "            # transpose stored in dictionary\n",
    "            transp_list.append(temp1) # a list of lists\n",
    "\n",
    "        a_dict[key]['transp'] = transp_list # in the order of k_idx\n",
    "\n",
    "        # Find angle\n",
    "        # print(\"Current key\", key)\n",
    "        angles = angle_nn(a_dict[key], key)\n",
    "        a_dict[key]['df']['orientation'] = 'centre'\n",
    "        for i in range(len(a_dict[key]['k_idx'])):\n",
    "            if a_dict[key]['k_idx'][i] != key:\n",
    "                a_dict[key]['df'].loc[a_dict[key]['k_idx'][i], 'orientation'] = orientation(angles[i])\n",
    "    \n",
    "    df1['n_ncp'] = 0\n",
    "    num_conn = []\n",
    "    for key in a_dict:\n",
    "        #for index, row in result[key]['df'].iterrows():\n",
    "        num_conn.append(a_dict[key]['df'].shape[0]-1)\n",
    "        df1.loc[key, 'n_ncp'] = (a_dict[key]['df'].shape[0] - 1)\n",
    "    \n",
    "    print(\"The data has been read successfully.\")\n",
    "    print(\"A dictionary containing neighbour information and a dataframe with extracted original data are returned.\")\n",
    "        \n",
    "    return a_dict, df1\n"
   ]
  },
  {
   "cell_type": "code",
   "execution_count": 17,
   "metadata": {
    "executionInfo": {
     "elapsed": 309,
     "status": "ok",
     "timestamp": 1666302892420,
     "user": {
      "displayName": "Minrui Li",
      "userId": "16054889870722932426"
     },
     "user_tz": -660
    },
    "id": "i57aOjUrYj_A"
   },
   "outputs": [],
   "source": [
    "# FOR SUMMARY (NEW: with colours & axis labels)\n",
    "\n",
    "'''\n",
    "Function: plot summary (without duplicates)\n",
    "Input: dictionary & dataframe from readData function\n",
    "Output: angle (a list)\n",
    "\n",
    "\n",
    "'''\n",
    "def plotSummary(dictionary, df):\n",
    "    points_x = []\n",
    "    points_y = []\n",
    "    points_z = []\n",
    "\n",
    "    # store points in list (not neccessary here)\n",
    "    for index, row in df.iterrows():    \n",
    "        points_x.append(df.loc[index, 'x'])\n",
    "        points_y.append(df.loc[index, 'y'])\n",
    "        points_z.append(df.loc[index, 'z'])\n",
    "\n",
    "    # without duplicates\n",
    "    connection = []\n",
    "    oriens = []\n",
    "\n",
    "    # with duplicates\n",
    "    conn = []\n",
    "    orie = []\n",
    "\n",
    "    con_ff = []\n",
    "\n",
    "    con_ss = []\n",
    "\n",
    "    con_fs = []\n",
    "\n",
    "    # store orientation & start/end points\n",
    "    for key in dictionary:\n",
    "        for index, row in dictionary[key]['df'].iterrows():\n",
    "            if index != key:\n",
    "                a_tup = (key, index)\n",
    "                orie.append(row['orientation'])\n",
    "                conn.append(a_tup)\n",
    "\n",
    "    # Find indicies of duplicates in connection\n",
    "    dup_ind = []\n",
    "    for i in range(len(conn)):\n",
    "        temp = conn[i][1]\n",
    "        if i != len(conn): # except the last one\n",
    "            for j in range(i+1, len(conn)):\n",
    "                if conn[j][0] == temp and conn[j][1] == conn[i][0]:# second half has issue??? connection[j][1] == i\n",
    "                    dup_ind.append(j)\n",
    "    # Remove duplicates\n",
    "    for i in range(len(conn)):\n",
    "        if i not in dup_ind:\n",
    "            connection.append(conn[i])\n",
    "            oriens.append(orie[i])\n",
    "            if oriens[-1]=='ff':\n",
    "                con_ff.append(conn[i])\n",
    "            elif oriens[-1]=='ss':\n",
    "                con_ss.append(conn[i])\n",
    "            else:\n",
    "                con_fs.append(conn[i])\n",
    "\n",
    "    # store index of each orientation\n",
    "    ff_idx = []\n",
    "    ss_idx = []\n",
    "    fs_idx = []\n",
    "    for i in range(len(oriens)):\n",
    "        if oriens[i] == 'ff':\n",
    "            ff_idx.append(i)\n",
    "        elif oriens[i] == 'ss':\n",
    "            ss_idx.append(i)\n",
    "        else:\n",
    "            fs_idx.append(i)\n",
    "\n",
    "    num_ori = [len(ff_idx), len(ss_idx), len(fs_idx)]\n",
    "    ori = ['ff', 'ss', 'fs']\n",
    "    bar_color = ['red', 'orange', 'blue']\n",
    "\n",
    "    from matplotlib import pyplot as plt\n",
    "    plt.barh(ori, num_ori, color=bar_color)\n",
    "    plt.rcParams['font.size'] = '16'\n",
    "    plt.xlabel(\"Count of orientations\", fontsize=16)\n",
    "    plt.ylabel(\"Orientation\", fontsize=16)\n",
    "\n",
    "    for index, value in enumerate(num_ori):\n",
    "        plt.text(value, index,\n",
    "                str(value))\n",
    "    \n",
    "    plt.show()"
   ]
  },
  {
   "cell_type": "code",
   "execution_count": 13,
   "metadata": {
    "executionInfo": {
     "elapsed": 286,
     "status": "ok",
     "timestamp": 1666302446362,
     "user": {
      "displayName": "Minrui Li",
      "userId": "16054889870722932426"
     },
     "user_tz": -660
    },
    "id": "1HxU0fL_OcSw"
   },
   "outputs": [],
   "source": [
    "'''\n",
    "Function: plot Edge (without duplicates)\n",
    "Input: dictionary & dataframe from readData function \n",
    "& z_scale (maximum boundary of z direction for better visualisation in graph)\n",
    "scale: pixel to nm or Angstrom scale\n",
    "\n",
    "'''\n",
    "def plotEdges(dictionary, df, z_scale, scale):\n",
    "\n",
    "    # save different connections\n",
    "    points_x = []\n",
    "    points_y = []\n",
    "    points_z = []\n",
    "\n",
    "    count_ = []\n",
    "\n",
    "    # store points in list\n",
    "    for index, row in df.iterrows():    \n",
    "        points_x.append(df.loc[index, 'x'] * scale)\n",
    "        points_y.append(df.loc[index, 'y'] * scale)\n",
    "        points_z.append(df.loc[index, 'z'] * scale)\n",
    "\n",
    "        count_.append(df.loc[index, 'n_ncp'])\n",
    "    # without duplicates\n",
    "    connection = []\n",
    "    oriens = []\n",
    "\n",
    "    # with duplicates\n",
    "    conn = []\n",
    "    orie = []\n",
    "\n",
    "    con_ff = []\n",
    "\n",
    "    con_ss = []\n",
    "\n",
    "    con_fs = []\n",
    "\n",
    "    # store orientation & start/end points\n",
    "    for key in dictionary:\n",
    "        for index, row in dictionary[key]['df'].iterrows():\n",
    "            if index != key:\n",
    "                a_tup = (key, index)\n",
    "                orie.append(row['orientation'])\n",
    "                conn.append(a_tup)\n",
    "\n",
    "    # Find indicies of duplicates in connection\n",
    "    dup_ind = []\n",
    "    for i in range(len(conn)):\n",
    "        temp = conn[i][1]\n",
    "        if i != len(conn): # except the last one\n",
    "            for j in range(i+1, len(conn)):\n",
    "                if conn[j][0] == temp and conn[j][1] == conn[i][0]:# second half has issue??? connection[j][1] == i\n",
    "                    dup_ind.append(j)\n",
    "    # Remove duplicates\n",
    "    for i in range(len(conn)):\n",
    "        if i not in dup_ind:\n",
    "            connection.append(conn[i])\n",
    "            oriens.append(orie[i])\n",
    "            if oriens[-1]=='ff':\n",
    "                con_ff.append(conn[i])\n",
    "            elif oriens[-1]=='ss':\n",
    "                con_ss.append(conn[i])\n",
    "            else:\n",
    "                con_fs.append(conn[i])\n",
    "    # colour\n",
    "    colours = []\n",
    "    for orien in oriens:\n",
    "        if orien == 'ff':\n",
    "            colours.append('green')\n",
    "        elif orien == 'ss':\n",
    "            colours.append('red')\n",
    "        else:\n",
    "            colours.append('blue')\n",
    "\n",
    "    # points\n",
    "    trace1 = go.Scatter3d(\n",
    "        x=points_x,\n",
    "        y=points_y,\n",
    "        z=points_z,\n",
    "        mode='markers',\n",
    "        name='points',\n",
    "        marker=dict(size=2, # 2 6 count_+6 \n",
    "                    color=\"black\")  # black count_\n",
    "    )\n",
    "\n",
    "    # lines\n",
    "    x_lines = list()\n",
    "    y_lines = list()\n",
    "    z_lines = list()\n",
    "\n",
    "    #create the coordinate list for the lines\n",
    "    for p in connection:\n",
    "        for i in range(2):\n",
    "            x_lines.append(points_x[p[i]])\n",
    "            y_lines.append(points_y[p[i]])\n",
    "            z_lines.append(points_z[p[i]])\n",
    "        x_lines.append(None)\n",
    "        y_lines.append(None)\n",
    "        z_lines.append(None)\n",
    "\n",
    "    trace2 = go.Scatter3d(\n",
    "        x=x_lines,\n",
    "        y=y_lines,\n",
    "        z=z_lines,\n",
    "        mode='lines',\n",
    "        name='neighbours',\n",
    "        marker=dict(color=\"#9A86A4\")\n",
    "    #    color = colours\n",
    "    )\n",
    "\n",
    "    # lines\n",
    "    x_lines_ff = list()\n",
    "    y_lines_ff = list()\n",
    "    z_lines_ff = list()\n",
    "\n",
    "    #create the coordinate list for the lines\n",
    "    for p in con_ff:\n",
    "        for i in range(2):\n",
    "            x_lines_ff.append(points_x[p[i]])\n",
    "            y_lines_ff.append(points_y[p[i]])\n",
    "            z_lines_ff.append(points_z[p[i]])\n",
    "        x_lines_ff.append(None)\n",
    "        y_lines_ff.append(None)\n",
    "        z_lines_ff.append(None)\n",
    "\n",
    "    trace3 = go.Scatter3d(\n",
    "        x=x_lines_ff,\n",
    "        y=y_lines_ff,\n",
    "        z=z_lines_ff,\n",
    "        mode='lines',\n",
    "        name='ff',\n",
    "        marker=dict(color=\"red\")\n",
    "    #    color = colours\n",
    "    )\n",
    "\n",
    "    # lines\n",
    "    x_lines_ss = list()\n",
    "    y_lines_ss = list()\n",
    "    z_lines_ss = list()\n",
    "\n",
    "    #create the coordinate list for the lines\n",
    "    for p in con_ss:\n",
    "        for i in range(2):\n",
    "            x_lines_ss.append(points_x[p[i]])\n",
    "            y_lines_ss.append(points_y[p[i]])\n",
    "            z_lines_ss.append(points_z[p[i]])\n",
    "        x_lines_ss.append(None)\n",
    "        y_lines_ss.append(None)\n",
    "        z_lines_ss.append(None)\n",
    "\n",
    "    trace4 = go.Scatter3d(\n",
    "        x=x_lines_ss,\n",
    "        y=y_lines_ss,\n",
    "        z=z_lines_ss,\n",
    "        mode='lines',\n",
    "        name='ss',\n",
    "        marker=dict(color=\"orange\")\n",
    "    #    color = colours\n",
    "    )\n",
    "\n",
    "    # lines\n",
    "    x_lines_fs = list()\n",
    "    y_lines_fs = list()\n",
    "    z_lines_fs = list()\n",
    "\n",
    "    #create the coordinate list for the lines\n",
    "    for p in con_fs:\n",
    "        for i in range(2):\n",
    "            x_lines_fs.append(points_x[p[i]])\n",
    "            y_lines_fs.append(points_y[p[i]])\n",
    "            z_lines_fs.append(points_z[p[i]])\n",
    "        x_lines_fs.append(None)\n",
    "        y_lines_fs.append(None)\n",
    "        z_lines_fs.append(None)\n",
    "\n",
    "    trace5 = go.Scatter3d(\n",
    "        x=x_lines_fs,\n",
    "        y=y_lines_fs,\n",
    "        z=z_lines_fs,\n",
    "        mode='lines',\n",
    "        name='fs',\n",
    "        marker=dict(color=\"blue\")\n",
    "    #    color = colours\n",
    "    )\n",
    "\n",
    "    fig = go.Figure(data=[trace1, trace3, trace4, trace5])\n",
    "    # no scale setting\n",
    "    #fig.show(renderer=\"colab\")\n",
    "    # change z scale\n",
    "    fig.update_layout(\n",
    "    scene = dict(zaxis = dict(nticks=4, range=[0,z_scale], title=\"z-coordinates in nm\"),\n",
    "                 xaxis = dict(title=\"x-coordinates in nm\"),\n",
    "                 yaxis = dict(title=\"y-coordinates in nm\")))\n",
    "    fig.show()"
   ]
  },
  {
   "cell_type": "code",
   "execution_count": 18,
   "metadata": {
    "executionInfo": {
     "elapsed": 303,
     "status": "ok",
     "timestamp": 1666302905839,
     "user": {
      "displayName": "Minrui Li",
      "userId": "16054889870722932426"
     },
     "user_tz": -660
    },
    "id": "_CX3KbesROD0"
   },
   "outputs": [],
   "source": [
    "#  (size & colour)\n",
    "'''\n",
    "Function: show Density Info (without duplicates)\n",
    "\n",
    "dist - distance in nm\n",
    "filter_n=0 - by default, all the points show in the graph\n",
    "scale: pixel to nm or Angstrom scale\n",
    "\n",
    "Output: show a 3D scatter plot & maximum number of neighbour\n",
    "'''\n",
    "def showDensityInfo(z_scale, distance, dictionary, df, scale, filter_n=0):\n",
    "\n",
    "#    if zeroConnect == False: # only show points with connections\n",
    "#        df = df[df['n_ncp']>0]\n",
    "    volume = 4/3 * math.pi * (distance**3)\n",
    "    volume = round(volume, 3)\n",
    "    max_ncp = df['n_ncp'].max()\n",
    "    density = round(max_ncp / volume, 3)\n",
    "    \n",
    "    # Error/warning if filter_n > maximum connection\n",
    "    if filter_n > max_ncp:\n",
    "        return_text = \"Your filter is larger than the maximum number of neighbours!\"\n",
    "        return return_text\n",
    "    else:\n",
    "        df = df[df['n_ncp']>filter_n]   \n",
    "    print(f\"Information of density:\\nMaximum neighbours: {max_ncp}.\\n\" +\n",
    "          f\"{df[df['n_ncp']== df['n_ncp'].max()].shape[0]} have maximum number of neighbours.\\n\") # +\n",
    "          #f\"This means that within a sphere of {volume} nm3, there are maximum {max_ncp} of neighbours of certain nucleosome.\")\n",
    "          \n",
    "    points_x = []\n",
    "    points_y = []\n",
    "    points_z = []\n",
    "\n",
    "    count_ = []\n",
    "    # store points in list\n",
    "    for index, row in df.iterrows():    \n",
    "        points_x.append(df.loc[index, 'x'] * scale)\n",
    "        points_y.append(df.loc[index, 'y'] * scale)\n",
    "        points_z.append(df.loc[index, 'z'] * scale)\n",
    "\n",
    "        count_.append(df.loc[index, 'n_ncp'])\n",
    "    # without duplicates\n",
    "    connection = []\n",
    "    oriens = []\n",
    "    # with duplicates\n",
    "    conn = []\n",
    "    orie = []\n",
    "\n",
    "    con_ff = []\n",
    "\n",
    "    con_ss = []\n",
    "\n",
    "    con_fs = []\n",
    "    # store orientation & start/end points\n",
    "    for key in dictionary:\n",
    "        for index, row in dictionary[key]['df'].iterrows():\n",
    "            if index != key:\n",
    "                a_tup = (key, index)\n",
    "                orie.append(row['orientation'])\n",
    "                conn.append(a_tup)\n",
    "\n",
    "    # Find indicies of duplicates in connection\n",
    "    dup_ind = []\n",
    "    for i in range(len(conn)):\n",
    "        temp = conn[i][1]\n",
    "        if i != len(conn): # except the last one\n",
    "            for j in range(i+1, len(conn)):\n",
    "                if conn[j][0] == temp and conn[j][1] == conn[i][0]:# second half has issue??? connection[j][1] == i\n",
    "                    dup_ind.append(j)\n",
    "    # Remove duplicates\n",
    "    for i in range(len(conn)):\n",
    "        if i not in dup_ind:\n",
    "            connection.append(conn[i])\n",
    "            oriens.append(orie[i])\n",
    "            if oriens[-1]=='ff':\n",
    "                con_ff.append(conn[i])\n",
    "            elif oriens[-1]=='ss':\n",
    "                con_ss.append(conn[i])\n",
    "            else:\n",
    "                con_fs.append(conn[i])\n",
    "    # colour\n",
    "    colours = []\n",
    "    for orien in oriens:\n",
    "        if orien == 'ff':\n",
    "            colours.append('green')\n",
    "        elif orien == 'ss':\n",
    "            colours.append('red')\n",
    "        else:\n",
    "            colours.append('blue')\n",
    "    # points\n",
    "    trace1 = go.Scatter3d(\n",
    "        x=points_x,\n",
    "        y=points_y,\n",
    "        z=points_z,\n",
    "        mode='markers',\n",
    "        name='points',\n",
    "        # change count_ to 2\n",
    "        marker=dict(size=6, # 2 6 count_+6 \n",
    "                    color=count_,\n",
    "                    colorscale='Cividis_r', # Viridis Inferno Cividis_r BrBG\n",
    "                    colorbar=dict(thickness=20, title= \"Number of nucleosomes\"))  # black\n",
    "    )\n",
    "\n",
    "    # no scale setting\n",
    "    fig = go.Figure(data=[trace1])\n",
    "    #fig.show(renderer=\"colab\")\n",
    "\n",
    "    # change z scale\n",
    "    fig.update_layout(\n",
    "    scene = dict(zaxis = dict(nticks=4, range=[0,z_scale], title=\"z-coordinates in nm\"),\n",
    "                 xaxis = dict(title=\"x-coordinates in nm\"),\n",
    "                 yaxis = dict(title=\"y-coordinates in nm\")))\n",
    "\n",
    "    fig.show()"
   ]
  },
  {
   "cell_type": "code",
   "execution_count": 19,
   "metadata": {
    "executionInfo": {
     "elapsed": 302,
     "status": "ok",
     "timestamp": 1666302909188,
     "user": {
      "displayName": "Minrui Li",
      "userId": "16054889870722932426"
     },
     "user_tz": -660
    },
    "id": "vViiPQaJS2QR"
   },
   "outputs": [],
   "source": [
    "'''\n",
    "Function: plot cross correlation coefficient\n",
    "Input: dataframe from readData function\n",
    "scale: pixel to nm or Angstrom scale\n",
    "\n",
    "Output: 3D scatter plot showing cross correlation coefficient\n",
    "\n",
    "'''\n",
    "def plotCC(df, z_scale, scale):\n",
    "\n",
    "    points_x = []\n",
    "    points_y = []\n",
    "    points_z = []\n",
    "\n",
    "    cc_ = []\n",
    "\n",
    "    # store points in list\n",
    "    for index, row in df.iterrows():    \n",
    "        points_x.append(df.loc[index, 'x']*scale)\n",
    "        points_y.append(df.loc[index, 'y']*scale)\n",
    "        points_z.append(df.loc[index, 'z']*scale)\n",
    "\n",
    "        cc_.append(df.loc[index, 'cc'])\n",
    "\n",
    "    # Normalisation may not need\n",
    "\n",
    "    cc_arr = np.array(cc_).reshape(-1,1)\n",
    "    #print('Original List:', npl)\n",
    "    scaler = preprocessing.MinMaxScaler()\n",
    "    normalizedlist=scaler.fit_transform(cc_arr)\n",
    "    #print('Normalized List:',normalizedlist)\n",
    "\n",
    "    cc_list = normalizedlist.tolist()\n",
    "    merged = list(itertools.chain.from_iterable(cc_list))\n",
    "    merged = [np.round(num, 2) for num in merged]\n",
    "    # points\n",
    "    trace1 = go.Scatter3d(\n",
    "        x=points_x,\n",
    "        y=points_y,\n",
    "        z=points_z,\n",
    "        mode='markers',\n",
    "        name='points',\n",
    "        marker=dict(size=6, # 6 count_\n",
    "                    color=cc_, # merged\n",
    "                    colorscale= 'Cividis_r', # Cividis_r Viridis\n",
    "                    colorbar=dict(thickness=20, title=\"Cross correlation coefficient\")) #,\n",
    "                    #opacity= merged)  # black\n",
    "    )\n",
    "\n",
    "    # no scale setting\n",
    "    fig = go.Figure(data=[trace1])\n",
    "    #fig.show(renderer=\"colab\")\n",
    "    # change z scale\n",
    "    fig.update_layout(\n",
    "    scene = dict(zaxis = dict(nticks=4, range=[0,z_scale], title=\"z-coordinates in nm\"),\n",
    "                 xaxis = dict(title=\"x-coordinates in nm\"),\n",
    "                 yaxis = dict(title=\"y-coordinates in nm\")))\n",
    "    fig.show()"
   ]
  },
  {
   "cell_type": "code",
   "execution_count": 20,
   "metadata": {
    "executionInfo": {
     "elapsed": 2,
     "status": "ok",
     "timestamp": 1666302912019,
     "user": {
      "displayName": "Minrui Li",
      "userId": "16054889870722932426"
     },
     "user_tz": -660
    },
    "id": "hosBhz3JYK1p"
   },
   "outputs": [],
   "source": [
    "'''\n",
    "Function: output matrix filie with xyz from the table\n",
    "Input: dataframe from readData function, matrix file name\n",
    "\n",
    "'''\n",
    "def outputMatFile(df, matrixFile):\n",
    "    # matrix\n",
    "    out_str = ''\n",
    "    for i in range(len(df)):\n",
    "        # convert to matrix\n",
    "        mat = euler2rotMat(df.iloc[i].tolist(), outputFile=True)\n",
    "        out_str = out_str + 'Model ' + format(i,\".1f\") + '\\n'  # i instead of i+1\n",
    "        # each row in matrix\n",
    "        for j in range(mat.shape[0]):\n",
    "            out_str = out_str + 7*' '\n",
    "            out_str = out_str + format(mat[j, 0],\".6f\") + ' '\n",
    "            out_str = out_str + format(mat[j, 1],\".6f\") + ' '\n",
    "            out_str = out_str + format(mat[j, 2],\".6f\") + ' ' \n",
    "            out_str = out_str + format(mat[j, 3],\".6f\") + '\\n'\n",
    "\n",
    "    joined_str = ''.join(out_str)\n",
    "\n",
    "    with open(matrixFile, 'w') as f:\n",
    "        lines = f.write(joined_str)"
   ]
  },
  {
   "cell_type": "markdown",
   "metadata": {
    "id": "VvtJJ8LH0mml"
   },
   "source": [
    "## Execute function\n"
   ]
  },
  {
   "cell_type": "code",
   "execution_count": 14,
   "metadata": {
    "colab": {
     "base_uri": "https://localhost:8080/"
    },
    "executionInfo": {
     "elapsed": 294346,
     "status": "ok",
     "timestamp": 1666302847857,
     "user": {
      "displayName": "Minrui Li",
      "userId": "16054889870722932426"
     },
     "user_tz": -660
    },
    "id": "zoYqPOTeR0ht",
    "outputId": "19a30333-2e43-45b3-bf77-d04a8139ef1a"
   },
   "outputs": [
    {
     "name": "stdout",
     "output_type": "stream",
     "text": [
      "The data has been read successfully.\n",
      "A dictionary containing neighbour information and a dataframe with extracted original data are returned.\n"
     ]
    }
   ],
   "source": [
    "dict_1, df_1 = readData(filename=\"t36_650_650_80_sl300.tbl\", distance=20, scale=0.528, mode='tbl')\n",
    "# t126_csv.csv, crop_table_t115.tbl"
   ]
  },
  {
   "cell_type": "code",
   "execution_count": 15,
   "metadata": {
    "colab": {
     "base_uri": "https://localhost:8080/"
    },
    "executionInfo": {
     "elapsed": 12,
     "status": "ok",
     "timestamp": 1666302847858,
     "user": {
      "displayName": "Minrui Li",
      "userId": "16054889870722932426"
     },
     "user_tz": -660
    },
    "id": "Clo7QU2JSvkS",
    "outputId": "a1712ca7-c4e8-43ae-e9d7-115075cae47b"
   },
   "outputs": [
    {
     "data": {
      "text/plain": [
       "(445, 8)"
      ]
     },
     "execution_count": 15,
     "metadata": {},
     "output_type": "execute_result"
    }
   ],
   "source": [
    "df_1.shape"
   ]
  },
  {
   "cell_type": "code",
   "execution_count": 21,
   "metadata": {
    "colab": {
     "base_uri": "https://localhost:8080/",
     "height": 284
    },
    "executionInfo": {
     "elapsed": 1045,
     "status": "ok",
     "timestamp": 1666302915886,
     "user": {
      "displayName": "Minrui Li",
      "userId": "16054889870722932426"
     },
     "user_tz": -660
    },
    "id": "HZqNBdWB0SS0",
    "outputId": "883350de-3c23-49db-fe04-36000692f8f3"
   },
   "outputs": [
    {
     "data": {
      "image/png": "[encoded data removed]",
      "text/plain": [
       "<Figure size 432x288 with 1 Axes>"
      ]
     },
     "metadata": {
      "needs_background": "light"
     },
     "output_type": "display_data"
    }
   ],
   "source": [
    "plotSummary(dict_1, df_1)"
   ]
  },
  {
   "cell_type": "code",
   "execution_count": 22,
   "metadata": {
    "colab": {
     "base_uri": "https://localhost:8080/",
     "height": 542
    },
    "executionInfo": {
     "elapsed": 1680,
     "status": "ok",
     "timestamp": 1666302920242,
     "user": {
      "displayName": "Minrui Li",
      "userId": "16054889870722932426"
     },
     "user_tz": -660
    },
    "id": "MqdhlCAbRUex",
    "outputId": "11d366b0-7987-4dd9-84c4-e36073bd599e"
   },
   "outputs": [
    {
     "data": {
      "text/html": [
       "<html>\n",
       "<head><meta charset=\"utf-8\" /></head>\n",
       "<body>\n",
       "    <div>            <script src=\"https://cdnjs.cloudflare.com/ajax/libs/mathjax/2.7.5/MathJax.js?config=TeX-AMS-MML_SVG\"></script><script type=\"text/javascript\">if (window.MathJax) {MathJax.Hub.Config({SVG: {font: \"STIX-Web\"}});}</script>                <script type=\"text/javascript\">window.PlotlyConfig = {MathJaxConfig: 'local'};</script>\n",
       "        <script src=\"https://cdn.plot.ly/plotly-2.8.3.min.js\"></script>                <div id=\"9f28b6a5-56a7-452b-91cb-521ae790eab7\" class=\"plotly-graph-div\" style=\"height:525px; width:100%;\"></div>            <script type=\"text/javascript\">                                    window.PLOTLYENV=window.PLOTLYENV || {};                                    if (document.getElementById(\"9f28b6a5-56a7-452b-91cb-521ae790eab7\")) {                    Plotly.newPlot(                        \"9f28b6a5-56a7-452b-91cb-521ae790eab7\",                        [{\"marker\":{\"color\":\"black\",\"size\":2},\"mode\":\"markers\",\"name\":\"points\",\"x\":[333.96000000000004,323.928,385.704,285.91200000000003,327.096,386.232,292.776,265.848,334.488,378.312,346.10400000000004,413.68800000000005,278.52000000000004,404.71200000000005,323.40000000000003,360.36,325.512,377.784,356.136,358.776,356.136,329.736,286.44,380.952,274.296,406.296,350.32800000000003,419.49600000000004,278.52000000000004,400.488,362.47200000000004,373.03200000000004,357.192,405.76800000000003,288.024,402.072,292.248,332.904,314.42400000000004,386.232,411.048,347.688,421.08000000000004,343.992,420.024,269.016,286.44,394.15200000000004,283.272,283.8,295.416,383.59200000000004,416.32800000000003,393.096,286.44,379.368,297.0,360.36,399.96000000000004,321.81600000000003,408.93600000000004,346.632,350.856,320.76,363.528,317.064,380.42400000000004,411.048,328.15200000000004,376.728,296.47200000000004,357.192,272.184,307.03200000000004,379.896,356.136,411.576,348.216,282.216,358.776,323.40000000000003,417.384,284.856,324.98400000000004,365.64000000000004,354.552,275.35200000000003,375.144,357.72,420.552,266.37600000000003,419.49600000000004,403.12800000000004,284.856,336.072,337.656,421.08000000000004,288.024,282.744,272.712,290.664,268.488,360.36,265.848,387.81600000000003,379.896,393.624,293.30400000000003,379.896,279.576,307.03200000000004,414.744,291.72,287.49600000000004,294.88800000000003,396.79200000000003,378.84000000000003,370.92,393.624,337.656,284.32800000000003,338.712,289.08000000000004,378.312,277.464,318.648,304.92,375.144,281.16,387.81600000000003,297.528,346.632,414.744,356.136,396.79200000000003,378.84000000000003,334.488,329.736,330.264,405.24,349.8,305.976,338.184,282.744,318.648,365.112,345.576,370.92,291.72,408.408,366.696,304.392,326.56800000000004,391.512,372.504,377.25600000000003,348.216,366.696,310.2,421.08000000000004,352.44,278.52000000000004,411.048,391.512,403.12800000000004,405.76800000000003,345.576,337.12800000000004,373.03200000000004,382.00800000000004,365.64000000000004,271.656,305.976,300.168,338.712,367.224,371.44800000000004,364.584,401.016,389.928,388.344,366.168,303.336,412.632,411.576,310.728,363.0,395.73600000000005,368.28000000000003,398.37600000000003,402.072,329.736,311.25600000000003,272.184,407.88,327.096,348.744,286.44,321.81600000000003,395.208,414.216,299.64,304.92,370.92,390.456,417.384,314.42400000000004,334.488,303.336,331.32,357.192,355.08000000000004,285.91200000000003,386.76,391.512,321.81600000000003,339.24,363.528,417.91200000000003,373.03200000000004,422.136,377.25600000000003,293.832,375.672,289.08000000000004,278.52000000000004,274.296,268.488,367.224,352.44,391.512,402.6,376.20000000000005,354.024,352.968,324.456,295.416,379.368,361.944,377.784,367.752,315.48,378.312,368.808,276.408,377.25600000000003,271.128,278.52000000000004,364.584,407.35200000000003,411.048,310.2,382.536,413.16,358.776,298.584,387.288,363.528,293.832,345.048,418.44,337.656,290.664,304.92,404.71200000000005,292.776,313.368,339.76800000000003,293.30400000000003,283.8,359.30400000000003,355.08000000000004,301.224,392.04,340.296,318.12,293.30400000000003,367.752,414.216,377.784,280.632,386.76,393.624,398.904,276.408,327.624,414.216,326.56800000000004,409.464,294.36,402.072,415.8,408.408,397.32,304.392,369.86400000000003,371.976,340.296,388.872,327.624,295.416,395.208,329.208,399.432,339.76800000000003,300.168,313.896,363.528,352.44,316.536,414.216,334.488,378.312,269.54400000000004,390.456,399.96000000000004,355.608,410.52000000000004,366.168,365.64000000000004,347.16,310.728,379.368,291.72,371.976,303.336,329.208,275.88,277.464,320.76,343.992,373.56,307.03200000000004,267.432,342.93600000000004,397.848,275.88,390.98400000000004,338.712,344.52000000000004,383.59200000000004,371.976,407.35200000000003,410.52000000000004,328.15200000000004,279.048,375.144,361.416,297.528,408.408,337.12800000000004,351.384,420.552,305.44800000000004,293.832,366.168,340.824,405.76800000000003,286.44,380.952,367.224,309.144,360.36,290.664,327.096,311.25600000000003,364.584,352.968,386.232,384.648,418.968,389.928,293.30400000000003,309.144,339.76800000000003,406.824,344.52000000000004,377.784,277.464,401.016,320.232,337.656,359.832,267.96000000000004,268.488,420.552,393.624,413.68800000000005,308.088,412.632,273.76800000000003,397.848,274.296,310.728,305.976,361.944,276.408,323.928,369.336,395.208,265.32,384.648,303.86400000000003,405.76800000000003,410.52000000000004,380.42400000000004,339.24,412.10400000000004,343.992,352.44,273.24,335.016,325.512,316.00800000000004,351.91200000000003,301.752,367.224,375.672,402.6,301.224,314.42400000000004,345.048,288.552,347.16,384.12,367.752,402.072,360.36,360.88800000000003,370.392,420.552,346.632,273.24,389.928,303.86400000000003,384.12,273.76800000000003,347.16,337.12800000000004,386.76,295.944,322.872,300.168,398.37600000000003,326.04],\"y\":[341.88,302.808,385.704,359.30400000000003,366.696,365.64000000000004,379.368,352.44,308.088,380.952,416.32800000000003,281.16,366.696,367.224,365.64000000000004,382.536,274.824,337.656,305.976,349.272,298.584,303.86400000000003,367.752,409.992,333.96000000000004,375.672,387.288,352.44,346.632,291.72,268.488,392.56800000000004,370.92,353.49600000000004,274.296,302.28000000000003,364.05600000000004,276.408,326.56800000000004,293.832,397.848,270.6,404.184,393.096,316.00800000000004,286.44,387.288,279.576,338.712,289.08000000000004,292.248,302.808,316.00800000000004,340.824,420.024,318.12,353.49600000000004,324.98400000000004,318.12,317.064,371.44800000000004,416.856,311.25600000000003,358.776,269.016,415.272,408.408,351.384,398.904,331.848,278.52000000000004,283.8,295.416,270.6,330.79200000000003,362.47200000000004,294.36,324.98400000000004,314.952,379.896,375.144,405.24,419.49600000000004,381.48,292.248,349.8,350.32800000000003,408.93600000000004,399.96000000000004,411.048,349.272,380.42400000000004,397.32,375.144,414.216,299.112,356.66400000000004,303.86400000000003,350.856,370.92,350.32800000000003,388.344,405.24,376.20000000000005,328.68,346.632,392.04,288.024,333.432,321.81600000000003,311.25600000000003,337.12800000000004,348.744,264.264,314.952,385.17600000000004,297.0,365.64000000000004,394.15200000000004,395.208,395.208,330.264,405.24,316.536,341.35200000000003,308.61600000000004,281.688,378.84000000000003,335.54400000000004,411.048,392.56800000000004,277.992,361.416,333.96000000000004,349.272,358.248,339.24,304.392,264.264,412.10400000000004,370.392,301.224,284.32800000000003,300.696,281.16,279.048,304.92,360.36,299.64,322.344,351.384,292.776,374.61600000000004,352.44,268.488,270.6,304.392,287.49600000000004,405.76800000000003,340.296,406.824,399.96000000000004,270.6,351.384,280.104,413.68800000000005,373.03200000000004,267.432,282.744,383.064,377.25600000000003,324.456,293.30400000000003,335.54400000000004,377.25600000000003,414.744,332.904,380.952,359.30400000000003,276.408,342.408,340.824,361.416,398.37600000000003,383.59200000000004,392.04,400.488,357.72,360.36,349.272,402.6,330.264,370.92,280.104,340.824,285.384,346.10400000000004,327.624,266.904,332.37600000000003,322.872,368.808,293.30400000000003,387.81600000000003,319.704,297.528,292.776,287.49600000000004,397.848,304.92,354.552,413.16,322.344,307.56,314.952,365.64000000000004,341.88,334.488,269.016,297.0,324.98400000000004,366.696,362.47200000000004,360.88800000000003,394.68,359.30400000000003,376.728,341.88,379.896,364.05600000000004,311.25600000000003,416.32800000000003,394.68,313.368,340.296,333.96000000000004,398.37600000000003,320.232,332.904,396.79200000000003,267.96000000000004,338.712,267.96000000000004,324.456,399.432,309.144,367.752,330.264,309.672,321.81600000000003,367.752,403.12800000000004,350.856,354.024,275.35200000000003,309.672,329.208,406.824,310.2,302.808,278.52000000000004,312.312,298.05600000000004,294.36,313.368,272.184,279.048,348.744,353.49600000000004,343.992,354.024,301.752,326.56800000000004,332.37600000000003,266.904,290.136,418.44,367.224,319.704,363.528,343.464,271.128,276.408,304.392,403.12800000000004,283.8,361.416,267.432,412.632,379.896,329.736,390.98400000000004,311.784,412.10400000000004,279.576,415.8,403.656,323.928,327.624,328.68,308.61600000000004,303.336,357.72,376.728,403.656,314.42400000000004,333.432,300.696,337.12800000000004,349.8,409.992,396.264,290.664,318.12,388.344,367.752,265.32,389.40000000000003,333.432,300.168,289.08000000000004,266.904,384.12,334.488,336.6,347.16,387.288,305.44800000000004,384.12,372.504,394.68,345.048,284.856,385.704,419.49600000000004,289.608,389.40000000000003,356.136,269.54400000000004,310.728,355.08000000000004,373.03200000000004,338.184,306.504,312.312,317.59200000000004,295.416,305.44800000000004,301.752,289.608,384.648,274.824,402.072,279.576,393.096,369.86400000000003,326.04,354.552,357.192,365.112,350.856,391.512,303.86400000000003,404.184,363.0,368.808,316.00800000000004,280.632,387.288,378.84000000000003,415.8,377.784,312.84000000000003,414.744,322.344,313.368,349.272,394.15200000000004,382.00800000000004,366.696,302.808,294.88800000000003,286.968,332.37600000000003,396.79200000000003,341.88,394.68,369.86400000000003,361.416,264.79200000000003,291.72,344.52000000000004,324.98400000000004,269.016,366.168,294.88800000000003,304.92,387.288,362.47200000000004,417.91200000000003,398.37600000000003,359.30400000000003,333.96000000000004,387.288,407.88,338.712,364.05600000000004,303.86400000000003,375.144,304.92,357.192,348.744,320.232,270.6,265.848,319.704,302.808,367.752,329.736,339.76800000000003,285.91200000000003,402.072,348.216,346.10400000000004,388.344,351.91200000000003,413.68800000000005,341.88,370.92,267.96000000000004,348.216,411.576,417.384,419.49600000000004,318.12,345.576,335.016,272.184,393.096,298.584,280.104,318.12,402.6,386.76,366.696],\"z\":[77.352,84.21600000000001,66.792,53.064,11.352,78.936,81.57600000000001,56.760000000000005,30.360000000000003,85.8,16.104,21.912000000000003,11.352,35.112,82.632,72.60000000000001,82.104,10.824,13.992,27.192,84.744,45.144000000000005,66.792,37.752,69.96000000000001,84.21600000000001,60.456,29.832,36.168,76.296,67.32000000000001,83.16000000000001,69.96000000000001,55.704,63.096000000000004,85.8,44.088,81.57600000000001,34.584,75.768,73.656,68.376,59.928000000000004,74.184,88.968,36.168,75.24000000000001,75.768,37.752,79.992,73.656,78.408,50.952000000000005,84.744,80.52000000000001,83.688,61.512,83.688,52.008,78.408,73.656,55.704,26.664,54.648,25.608,30.360000000000003,82.104,39.864000000000004,15.576,85.272,40.92,72.072,68.904,41.448,58.872,81.048,60.984,60.984,22.968,85.272,42.504000000000005,74.712,27.192,17.16,81.57600000000001,53.592000000000006,81.048,17.16,76.296,28.776,79.464,24.024,25.080000000000002,71.544,73.128,56.760000000000005,53.064,43.56,26.664,21.912000000000003,28.248,76.296,60.984,79.464,73.128,79.464,21.384,58.344,74.184,73.128,79.464,60.984,71.544,63.096000000000004,43.56,85.8,19.272000000000002,67.32000000000001,68.904,39.336,74.184,15.576,13.464,66.792,44.616,21.912000000000003,34.584,39.864000000000004,70.488,81.048,11.88,79.992,87.912,13.992,88.968,86.85600000000001,32.472,62.568000000000005,22.968,34.056000000000004,20.328,45.672000000000004,54.120000000000005,65.736,52.536,25.608,49.896,24.024,81.048,48.84,27.192,72.072,75.24000000000001,78.408,14.520000000000001,84.744,75.24000000000001,35.112,26.136000000000003,81.048,73.656,47.784,66.26400000000001,15.048,76.824,62.040000000000006,72.60000000000001,83.688,83.16000000000001,40.92,59.400000000000006,50.952000000000005,36.168,82.632,54.648,56.760000000000005,73.128,33.528,11.88,13.464,15.048,69.432,53.592000000000006,24.024,55.704,50.952000000000005,29.832,68.376,31.944000000000003,13.992,78.936,20.328,69.96000000000001,76.296,48.312000000000005,34.584,72.60000000000001,74.712,73.128,10.296000000000001,86.85600000000001,42.504000000000005,13.992,27.192,15.048,14.520000000000001,70.488,24.024,60.456,79.992,69.432,44.616,20.856,11.352,63.624,19.8,67.32000000000001,28.248,33.528,85.272,52.008,13.464,22.968,30.888,14.520000000000001,62.568000000000005,40.92,44.088,76.296,62.040000000000006,28.776,89.49600000000001,24.552,15.048,40.392,37.752,47.784,21.384,81.048,61.512,49.368,77.352,67.32000000000001,85.272,21.384,19.272000000000002,81.048,29.304000000000002,18.744,31.416,25.080000000000002,12.936,14.520000000000001,52.536,17.688000000000002,78.936,11.88,86.328,66.26400000000001,83.688,45.144000000000005,76.824,21.384,81.048,17.16,48.312000000000005,82.632,85.8,15.048,69.96000000000001,78.408,25.608,17.688000000000002,79.992,59.928000000000004,38.28,10.296000000000001,17.16,24.024,77.88000000000001,58.344,20.856,26.136000000000003,71.016,62.568000000000005,78.936,94.77600000000001,45.144000000000005,23.496000000000002,15.048,71.016,82.632,52.536,81.57600000000001,45.144000000000005,75.768,68.904,58.872,87.384,73.128,32.472,19.272000000000002,18.744,12.936,75.24000000000001,10.824,51.480000000000004,18.744,63.096000000000004,77.88000000000001,44.616,84.744,71.544,22.968,28.776,83.688,33.528,11.352,10.296000000000001,53.064,33.528,60.984,15.048,87.912,60.984,70.488,85.272,57.816,76.296,33.528,64.152,43.032000000000004,16.632,57.816,75.768,24.024,67.32000000000001,22.44,48.84,82.632,77.88000000000001,29.832,81.57600000000001,71.544,63.096000000000004,59.928000000000004,37.224000000000004,65.736,46.2,11.352,17.16,28.776,84.744,81.048,69.96000000000001,39.864000000000004,29.832,62.568000000000005,68.904,90.552,18.216,24.024,32.472,22.44,90.024,45.144000000000005,73.128,64.152,82.104,29.832,91.608,49.368,58.344,23.496000000000002,77.352,83.16000000000001,53.064,50.424,31.944000000000003,75.768,49.368,81.048,64.152,27.720000000000002,64.68,20.856,12.408000000000001,83.688,77.88000000000001,22.968,48.312000000000005,58.344,11.88,33.528,97.944,36.696000000000005,83.16000000000001,39.864000000000004,75.24000000000001,65.208,10.296000000000001,11.352,13.992,65.736,13.464,29.832,57.288000000000004,57.288000000000004,10.296000000000001,43.032000000000004,76.824,62.568000000000005,11.88,52.008,10.296000000000001,37.752,72.60000000000001,57.816,85.8,24.024,77.352,84.21600000000001,58.872,16.632,88.968,79.992,10.824,50.952000000000005,78.408,67.32000000000001,77.88000000000001,81.048,76.296,17.688000000000002,28.776,21.912000000000003,103.224,44.088,10.296000000000001,37.752,48.84,35.64,27.720000000000002,13.464,43.56],\"type\":\"scatter3d\"},{\"marker\":{\"color\":\"red\"},\"mode\":\"lines\",\"name\":\"ff\",\"x\":[333.96000000000004,327.624,null,333.96000000000004,316.536,null,385.704,377.784,null,285.91200000000003,292.248,null,285.91200000000003,280.632,null,285.91200000000003,303.336,null,327.096,324.98400000000004,null,386.232,399.96000000000004,null,386.232,401.016,null,386.232,370.92,null,292.776,277.464,null,292.776,286.44,null,265.848,278.52000000000004,null,334.488,350.856,null,378.312,358.776,null,278.52000000000004,293.832,null,323.40000000000003,327.096,null,323.40000000000003,326.56800000000004,null,360.36,367.224,null,360.36,373.03200000000004,null,360.36,343.992,null,325.512,332.904,null,325.512,337.12800000000004,null,325.512,314.42400000000004,null,377.784,388.344,null,377.784,395.208,null,377.784,367.224,null,356.136,354.024,null,358.776,367.224,null,358.776,347.16,null,358.776,370.92,null,356.136,344.52000000000004,null,356.136,373.03200000000004,null,356.136,367.224,null,329.736,320.232,null,329.736,345.576,null,286.44,278.52000000000004,null,274.296,281.16,null,274.296,283.8,null,274.296,286.44,null,406.296,396.79200000000003,null,406.296,415.8,null,350.32800000000003,365.64000000000004,null,400.488,403.12800000000004,null,400.488,386.232,null,362.47200000000004,370.392,null,362.47200000000004,378.312,null,373.03200000000004,384.12,null,373.03200000000004,386.232,null,373.03200000000004,367.224,null,373.03200000000004,380.42400000000004,null,373.03200000000004,358.776,null,357.192,370.92,null,405.76800000000003,413.16,null,405.76800000000003,407.88,null,405.76800000000003,414.744,null,402.072,406.824,null,292.248,299.64,null,292.248,311.25600000000003,null,332.904,327.624,null,332.904,346.632,null,332.904,321.81600000000003,null,411.048,402.072,null,411.048,421.08000000000004,null,411.048,393.624,null,343.992,329.208,null,286.44,293.832,null,394.15200000000004,378.312,null,283.8,295.416,null,283.8,276.408,null,295.416,304.392,null,295.416,314.42400000000004,null,383.59200000000004,378.312,null,383.59200000000004,398.904,null,416.32800000000003,408.408,null,416.32800000000003,399.96000000000004,null,393.096,388.872,null,393.096,387.81600000000003,null,393.096,376.728,null,286.44,273.24,null,379.368,388.872,null,379.368,387.81600000000003,null,297.0,288.552,null,297.0,303.336,null,297.0,286.44,null,297.0,278.52000000000004,null,399.96000000000004,408.408,null,399.96000000000004,408.408,null,399.96000000000004,391.512,null,321.81600000000003,337.656,null,408.93600000000004,399.96000000000004,null,320.76,311.25600000000003,null,320.76,335.016,null,363.528,351.384,null,317.064,310.2,null,380.42400000000004,387.81600000000003,null,380.42400000000004,369.86400000000003,null,380.42400000000004,397.32,null,328.15200000000004,337.12800000000004,null,328.15200000000004,310.2,null,376.728,379.896,null,357.192,352.968,null,357.192,346.632,null,357.192,365.64000000000004,null,307.03200000000004,318.648,null,356.136,358.776,null,348.216,340.296,null,282.216,290.664,null,358.776,367.224,null,358.776,345.576,null,323.40000000000003,311.25600000000003,null,417.384,402.072,null,324.98400000000004,337.12800000000004,null,354.552,344.52000000000004,null,354.552,357.192,null,275.35200000000003,266.37600000000003,null,275.35200000000003,271.128,null,375.144,389.928,null,357.72,371.976,null,357.72,346.632,null,266.37600000000003,273.24,null,266.37600000000003,271.128,null,419.49600000000004,411.048,null,403.12800000000004,412.632,null,403.12800000000004,393.624,null,403.12800000000004,393.624,null,403.12800000000004,405.24,null,284.856,275.88,null,336.072,346.632,null,337.656,338.184,null,288.024,294.88800000000003,null,288.024,295.416,null,282.744,290.664,null,282.744,293.832,null,290.664,301.224,null,360.36,371.976,null,360.36,352.44,null,265.848,277.464,null,379.896,391.512,null,393.624,390.456,null,393.624,379.368,null,393.624,410.52000000000004,null,293.30400000000003,304.392,null,379.896,371.44800000000004,null,279.576,286.44,null,307.03200000000004,304.92,null,414.744,422.136,null,414.744,405.76800000000003,null,396.79200000000003,386.232,null,396.79200000000003,384.12,null,378.84000000000003,395.208,null,370.92,375.672,null,370.92,383.59200000000004,null,393.624,405.76800000000003,null,284.32800000000003,276.408,null,284.32800000000003,268.488,null,338.712,329.736,null,338.712,356.136,null,338.712,347.16,null,378.312,391.512,null,277.464,278.52000000000004,null,318.648,325.512,null,304.92,305.976,null,375.144,382.00800000000004,null,375.144,366.168,null,387.81600000000003,397.32,null,387.81600000000003,402.6,null,387.81600000000003,369.86400000000003,null,297.528,289.08000000000004,null,346.632,337.12800000000004,null,414.744,413.68800000000005,null,396.79200000000003,407.35200000000003,null,329.736,328.15200000000004,null,349.8,337.12800000000004,null,305.976,297.528,null,282.744,276.408,null,318.648,304.392,null,365.112,358.776,null,370.92,384.12,null,408.408,422.136,null,366.696,380.42400000000004,null,366.696,384.12,null,304.392,314.42400000000004,null,391.512,401.016,null,372.504,386.76,null,348.216,337.656,null,348.216,331.32,null,348.216,367.224,null,310.2,300.168,null,310.2,309.144,null,421.08000000000004,407.35200000000003,null,352.44,339.76800000000003,null,352.44,345.048,null,278.52000000000004,295.416,null,411.048,403.12800000000004,null,391.512,398.37600000000003,null,391.512,382.536,null,391.512,384.12,null,391.512,401.016,null,337.12800000000004,321.81600000000003,null,337.12800000000004,327.624,null,382.00800000000004,371.976,null,271.656,268.488,null,300.168,315.48,null,371.44800000000004,361.944,null,364.584,370.92,null,401.016,390.98400000000004,null,401.016,384.648,null,388.344,398.37600000000003,null,310.728,303.336,null,310.728,323.928,null,395.73600000000005,405.76800000000003,null,368.28000000000003,375.672,null,368.28000000000003,366.168,null,398.37600000000003,382.536,null,398.37600000000003,384.12,null,402.072,415.8,null,327.096,334.488,null,348.744,339.76800000000003,null,395.208,390.456,null,414.216,406.824,null,370.92,390.456,null,390.456,377.25600000000003,null,314.42400000000004,327.624,null,331.32,344.52000000000004,null,331.32,339.76800000000003,null,386.76,395.208,null,386.76,377.25600000000003,null,386.76,379.368,null,339.24,335.016,null,363.528,380.42400000000004,null,377.25600000000003,367.752,null,377.25600000000003,390.98400000000004,null,375.672,390.98400000000004,null,278.52000000000004,280.632,null,391.512,386.76,null,391.512,377.25600000000003,null,402.6,418.968,null,324.456,313.896,null,361.944,368.808,null,377.784,371.976,null,378.312,370.392,null,276.408,265.32,null,377.25600000000003,363.528,null,377.25600000000003,395.208,null,278.52000000000004,274.296,null,364.584,363.528,null,364.584,355.08000000000004,null,382.536,384.648,null,293.832,279.048,null,337.656,344.52000000000004,null,337.656,327.624,null,304.92,305.44800000000004,null,339.76800000000003,327.096,null,340.296,352.968,null,276.408,275.88,null,327.624,314.42400000000004,null,326.56800000000004,338.712,null,326.56800000000004,316.00800000000004,null,408.408,412.10400000000004,null,397.32,395.208,null,304.392,295.944,null,304.392,310.728,null,388.872,402.6,null,339.76800000000003,342.93600000000004,null,316.536,308.088,null,269.54400000000004,267.96000000000004,null,355.608,351.384,null,410.52000000000004,393.624,null,365.64000000000004,352.44,null,347.16,361.944,null,371.976,360.36,null,277.464,293.832,null,373.56,360.36,null,397.848,408.408,null,397.848,386.76,null,275.88,268.488,null,338.712,347.16,null,286.44,273.24,null,367.224,384.12,null,311.25600000000003,326.04,null,352.968,359.832,null,406.824,402.6,null,344.52000000000004,360.36,null],\"y\":[341.88,328.68,null,341.88,349.8,null,385.704,396.79200000000003,null,359.30400000000003,364.05600000000004,null,359.30400000000003,343.464,null,359.30400000000003,361.416,null,366.696,381.48,null,365.64000000000004,367.752,null,365.64000000000004,366.696,null,365.64000000000004,365.64000000000004,null,379.368,384.12,null,379.368,367.752,null,352.44,359.30400000000003,null,308.088,311.25600000000003,null,380.952,379.896,null,366.696,362.47200000000004,null,365.64000000000004,363.0,null,365.64000000000004,374.61600000000004,null,382.536,379.896,null,382.536,392.56800000000004,null,382.536,393.096,null,274.824,276.408,null,274.824,267.432,null,274.824,285.91200000000003,null,337.656,342.408,null,337.656,332.37600000000003,null,337.656,350.856,null,305.976,313.368,null,349.272,350.856,null,349.272,346.10400000000004,null,349.272,360.36,null,298.584,310.728,null,298.584,297.0,null,298.584,302.808,null,303.86400000000003,302.808,null,303.86400000000003,304.92,null,367.752,359.30400000000003,null,333.96000000000004,335.54400000000004,null,333.96000000000004,343.992,null,333.96000000000004,327.624,null,375.672,385.17600000000004,null,375.672,390.98400000000004,null,387.288,377.25600000000003,null,291.72,280.104,null,291.72,293.832,null,268.488,267.96000000000004,null,268.488,267.96000000000004,null,392.56800000000004,388.344,null,392.56800000000004,387.288,null,392.56800000000004,379.896,null,392.56800000000004,408.408,null,392.56800000000004,379.896,null,370.92,365.64000000000004,null,353.49600000000004,354.024,null,353.49600000000004,340.824,null,353.49600000000004,337.12800000000004,null,302.28000000000003,313.368,null,364.05600000000004,368.808,null,364.05600000000004,368.808,null,276.408,283.8,null,276.408,277.992,null,276.408,266.904,null,397.848,402.6,null,397.848,404.184,null,397.848,394.15200000000004,null,393.096,387.288,null,387.288,393.096,null,279.576,290.664,null,289.08000000000004,292.248,null,289.08000000000004,304.92,null,292.248,292.776,null,292.248,292.776,null,302.808,290.664,null,302.808,304.392,null,316.00800000000004,311.784,null,316.00800000000004,318.12,null,340.824,327.624,null,340.824,328.68,null,340.824,331.848,null,420.024,417.384,null,318.12,327.624,null,318.12,328.68,null,353.49600000000004,348.216,null,353.49600000000004,361.416,null,353.49600000000004,357.192,null,353.49600000000004,359.30400000000003,null,318.12,322.344,null,318.12,311.784,null,318.12,314.952,null,317.064,312.312,null,371.44800000000004,367.752,null,358.776,368.808,null,358.776,348.744,null,269.016,274.824,null,415.272,405.76800000000003,null,408.408,411.048,null,408.408,415.8,null,408.408,412.10400000000004,null,398.904,393.096,null,398.904,403.12800000000004,null,331.848,346.632,null,283.8,280.632,null,283.8,277.992,null,283.8,292.248,null,270.6,281.16,null,362.47200000000004,379.896,null,324.98400000000004,323.928,null,314.952,298.05600000000004,null,379.896,379.896,null,379.896,373.03200000000004,null,375.144,368.808,null,405.24,402.6,null,381.48,393.096,null,349.8,349.272,null,349.8,354.552,null,350.32800000000003,349.272,null,350.32800000000003,367.752,null,408.93600000000004,419.49600000000004,null,399.96000000000004,403.656,null,399.96000000000004,411.576,null,349.272,357.192,null,349.272,367.752,null,380.42400000000004,367.752,null,397.32,398.37600000000003,null,397.32,392.04,null,397.32,394.68,null,397.32,412.10400000000004,null,375.144,389.40000000000003,null,414.216,411.576,null,299.112,284.32800000000003,null,303.86400000000003,314.952,null,303.86400000000003,308.61600000000004,null,350.856,350.32800000000003,null,350.856,362.47200000000004,null,350.32800000000003,339.76800000000003,null,405.24,403.656,null,405.24,406.824,null,376.20000000000005,384.12,null,346.632,352.44,null,392.04,388.344,null,392.04,384.12,null,392.04,389.40000000000003,null,288.024,279.576,null,333.432,332.904,null,321.81600000000003,327.624,null,311.25600000000003,294.36,null,337.12800000000004,324.98400000000004,null,337.12800000000004,354.552,null,385.17600000000004,387.288,null,385.17600000000004,388.344,null,297.0,303.336,null,365.64000000000004,367.752,null,365.64000000000004,355.08000000000004,null,394.15200000000004,387.288,null,395.208,403.12800000000004,null,395.208,396.79200000000003,null,330.264,330.264,null,330.264,333.96000000000004,null,330.264,346.10400000000004,null,316.536,314.952,null,341.35200000000003,330.264,null,308.61600000000004,320.232,null,281.688,293.30400000000003,null,378.84000000000003,383.064,null,378.84000000000003,369.86400000000003,null,411.048,412.10400000000004,null,411.048,416.32800000000003,null,411.048,415.8,null,392.56800000000004,394.68,null,277.992,267.432,null,361.416,369.86400000000003,null,349.272,338.184,null,304.392,312.312,null,370.392,384.648,null,301.224,301.752,null,300.696,304.92,null,281.16,279.576,null,279.048,275.35200000000003,null,360.36,345.576,null,322.344,324.98400000000004,null,351.384,338.712,null,351.384,345.576,null,292.776,292.776,null,352.44,366.696,null,268.488,271.128,null,304.392,294.88800000000003,null,304.392,304.92,null,304.392,302.808,null,405.76800000000003,402.6,null,405.76800000000003,391.512,null,340.296,338.184,null,406.824,403.656,null,406.824,402.072,null,399.96000000000004,398.37600000000003,null,270.6,280.104,null,351.384,349.272,null,351.384,350.856,null,351.384,345.576,null,351.384,359.30400000000003,null,267.432,266.904,null,267.432,283.8,null,383.064,373.03200000000004,null,324.456,341.88,null,335.54400000000004,338.712,null,332.904,332.904,null,380.952,387.81600000000003,null,359.30400000000003,356.136,null,359.30400000000003,359.30400000000003,null,342.408,349.272,null,392.04,397.848,null,392.04,387.288,null,357.72,354.552,null,360.36,360.88800000000003,null,360.36,369.86400000000003,null,349.272,350.856,null,349.272,345.576,null,402.6,390.98400000000004,null,285.384,287.49600000000004,null,346.10400000000004,348.744,null,332.37600000000003,319.704,null,322.872,313.368,null,387.81600000000003,388.344,null,319.704,309.144,null,292.776,283.8,null,304.92,310.728,null,304.92,322.344,null,307.56,303.336,null,307.56,309.144,null,307.56,320.232,null,341.88,348.744,null,334.488,338.712,null,366.696,367.224,null,366.696,356.136,null,360.88800000000003,356.136,null,359.30400000000003,343.464,null,311.25600000000003,298.584,null,311.25600000000003,309.144,null,416.32800000000003,415.8,null,333.96000000000004,333.432,null,332.904,324.456,null,396.79200000000003,403.656,null,267.96000000000004,267.96000000000004,null,399.432,398.37600000000003,null,309.144,300.696,null,309.144,303.336,null,330.264,324.98400000000004,null,309.672,300.696,null,309.672,301.752,null,350.856,359.30400000000003,null,310.2,317.59200000000004,null,312.312,310.728,null,312.312,328.68,null,294.36,279.576,null,348.744,363.0,null,266.904,280.632,null,403.12800000000004,389.40000000000003,null,283.8,285.91200000000003,null,267.432,269.54400000000004,null,267.432,270.6,null,311.784,303.86400000000003,null,412.10400000000004,417.91200000000003,null,279.576,280.104,null,279.576,269.016,null,327.624,329.736,null,403.656,419.49600000000004,null,349.8,361.416,null,318.12,332.37600000000003,null,265.32,274.824,null,389.40000000000003,394.68,null,300.168,304.92,null,289.08000000000004,294.88800000000003,null,336.6,341.88,null,384.12,393.096,null,345.048,341.88,null,289.608,289.608,null,289.608,298.584,null,389.40000000000003,396.79200000000003,null,269.54400000000004,272.184,null,357.192,357.192,null,350.856,345.576,null,368.808,366.696,null,280.632,286.968,null,313.368,329.736,null,349.272,341.88,null],\"z\":[77.352,73.128,null,77.352,77.88000000000001,null,66.792,61.512,null,53.064,44.088,null,53.064,58.344,null,53.064,53.592000000000006,null,11.352,17.16,null,78.936,83.688,null,78.936,75.768,null,78.936,67.32000000000001,null,81.57600000000001,76.296,null,81.57600000000001,66.792,null,56.760000000000005,62.568000000000005,null,30.360000000000003,26.664,null,85.8,85.272,null,11.352,22.968,null,82.632,90.024,null,82.632,75.24000000000001,null,72.60000000000001,76.296,null,72.60000000000001,83.16000000000001,null,72.60000000000001,74.184,null,82.104,81.57600000000001,null,82.104,83.688,null,82.104,77.352,null,10.824,15.048,null,10.824,10.296000000000001,null,10.824,18.216,null,13.992,15.048,null,27.192,18.216,null,27.192,16.632,null,27.192,24.024,null,84.744,82.632,null,84.744,85.272,null,84.744,72.60000000000001,null,45.144000000000005,49.368,null,45.144000000000005,49.896,null,66.792,62.568000000000005,null,69.96000000000001,70.488,null,69.96000000000001,69.96000000000001,null,69.96000000000001,74.712,null,84.21600000000001,85.8,null,84.21600000000001,82.632,null,60.456,59.400000000000006,null,76.296,76.824,null,76.296,75.768,null,67.32000000000001,67.32000000000001,null,67.32000000000001,67.32000000000001,null,83.16000000000001,88.968,null,83.16000000000001,82.104,null,83.16000000000001,76.296,null,83.16000000000001,82.104,null,83.16000000000001,85.272,null,69.96000000000001,67.32000000000001,null,55.704,52.536,null,55.704,48.312000000000005,null,55.704,60.984,null,85.8,83.16000000000001,null,44.088,42.504000000000005,null,44.088,45.144000000000005,null,81.57600000000001,78.936,null,81.57600000000001,79.992,null,81.57600000000001,73.128,null,73.656,78.936,null,73.656,59.928000000000004,null,73.656,68.904,null,74.184,85.272,null,75.24000000000001,69.96000000000001,null,75.768,71.544,null,79.992,73.656,null,79.992,83.16000000000001,null,73.656,72.072,null,73.656,70.488,null,78.408,71.544,null,78.408,71.016,null,50.952000000000005,52.536,null,50.952000000000005,52.008,null,84.744,87.384,null,84.744,73.128,null,84.744,85.272,null,80.52000000000001,76.296,null,83.688,87.384,null,83.688,73.128,null,61.512,58.872,null,61.512,53.592000000000006,null,61.512,68.904,null,61.512,62.568000000000005,null,52.008,48.84,null,52.008,52.536,null,52.008,63.624,null,78.408,76.824,null,73.656,83.688,null,54.648,45.144000000000005,null,54.648,62.568000000000005,null,25.608,28.776,null,30.360000000000003,26.136000000000003,null,82.104,81.048,null,82.104,75.768,null,82.104,81.57600000000001,null,15.576,10.296000000000001,null,15.576,12.936,null,85.272,79.464,null,72.072,64.152,null,72.072,79.992,null,72.072,81.57600000000001,null,41.448,52.536,null,81.048,85.272,null,60.984,58.872,null,22.968,21.384,null,85.272,76.296,null,85.272,72.60000000000001,null,42.504000000000005,45.144000000000005,null,74.712,78.936,null,17.16,10.296000000000001,null,53.592000000000006,53.064,null,53.592000000000006,69.432,null,81.048,79.464,null,81.048,81.048,null,17.16,17.688000000000002,null,76.296,68.904,null,76.296,81.048,null,79.464,76.824,null,79.464,81.048,null,24.024,25.080000000000002,null,25.080000000000002,24.024,null,25.080000000000002,21.384,null,25.080000000000002,12.408000000000001,null,25.080000000000002,34.056000000000004,null,71.544,67.32000000000001,null,73.128,81.048,null,56.760000000000005,54.120000000000005,null,43.56,43.56,null,43.56,32.472,null,26.664,28.248,null,26.664,22.968,null,28.248,24.024,null,60.984,68.904,null,60.984,73.656,null,79.464,76.296,null,79.464,78.408,null,21.384,28.776,null,21.384,15.048,null,21.384,11.352,null,58.344,45.144000000000005,null,74.184,73.128,null,73.128,74.712,null,79.464,81.048,null,60.984,52.008,null,60.984,62.568000000000005,null,85.8,82.104,null,85.8,88.968,null,19.272000000000002,19.272000000000002,null,67.32000000000001,57.816,null,67.32000000000001,77.88000000000001,null,68.904,65.736,null,74.184,62.568000000000005,null,74.184,64.68,null,15.576,20.328,null,15.576,13.992,null,15.576,16.632,null,66.792,63.624,null,44.616,29.304000000000002,null,21.912000000000003,11.88,null,34.584,36.168,null,39.864000000000004,40.92,null,39.864000000000004,39.864000000000004,null,81.048,81.57600000000001,null,81.048,89.49600000000001,null,81.048,75.768,null,11.88,14.520000000000001,null,79.992,83.688,null,87.912,83.688,null,88.968,81.57600000000001,null,62.568000000000005,63.096000000000004,null,20.328,17.16,null,45.672000000000004,46.2,null,65.736,83.16000000000001,null,52.536,45.144000000000005,null,25.608,17.688000000000002,null,24.024,21.912000000000003,null,48.84,52.008,null,27.192,29.832,null,27.192,21.912000000000003,null,72.072,70.488,null,78.408,75.768,null,14.520000000000001,20.856,null,75.24000000000001,81.048,null,75.24000000000001,79.992,null,75.24000000000001,72.60000000000001,null,26.136000000000003,27.720000000000002,null,26.136000000000003,24.024,null,81.048,81.57600000000001,null,73.656,75.24000000000001,null,73.656,84.21600000000001,null,47.784,47.784,null,66.26400000000001,76.824,null,15.048,13.992,null,15.048,14.520000000000001,null,15.048,21.912000000000003,null,15.048,11.88,null,83.688,73.128,null,83.688,78.936,null,40.92,29.832,null,50.952000000000005,44.088,null,82.632,77.352,null,73.128,81.048,null,33.528,27.192,null,11.88,22.44,null,11.88,11.352,null,15.048,13.992,null,50.952000000000005,60.456,null,50.952000000000005,39.864000000000004,null,68.376,62.568000000000005,null,31.944000000000003,30.888,null,31.944000000000003,39.864000000000004,null,13.992,14.520000000000001,null,13.992,21.912000000000003,null,78.936,82.632,null,34.584,24.024,null,72.60000000000001,85.8,null,10.296000000000001,15.048,null,86.85600000000001,83.16000000000001,null,27.192,28.776,null,15.048,19.272000000000002,null,70.488,78.936,null,79.992,82.632,null,79.992,77.352,null,11.352,19.272000000000002,null,11.352,19.272000000000002,null,11.352,21.384,null,67.32000000000001,62.568000000000005,null,28.248,29.832,null,13.464,17.16,null,13.464,22.44,null,30.888,22.44,null,62.568000000000005,58.344,null,28.776,37.752,null,28.776,19.272000000000002,null,89.49600000000001,91.608,null,37.752,51.480000000000004,null,81.048,85.272,null,61.512,68.904,null,67.32000000000001,67.32000000000001,null,21.384,10.296000000000001,null,19.272000000000002,18.744,null,19.272000000000002,19.272000000000002,null,29.304000000000002,11.88,null,18.744,18.744,null,18.744,25.608,null,14.520000000000001,11.352,null,66.26400000000001,59.928000000000004,null,76.824,82.632,null,76.824,73.128,null,81.048,81.048,null,85.8,90.024,null,59.928000000000004,64.152,null,62.568000000000005,67.32000000000001,null,78.936,77.352,null,45.144000000000005,48.84,null,45.144000000000005,52.008,null,52.536,57.288000000000004,null,81.57600000000001,65.208,null,45.144000000000005,48.84,null,45.144000000000005,33.528,null,87.384,85.8,null,75.24000000000001,75.768,null,77.88000000000001,77.88000000000001,null,22.968,27.720000000000002,null,33.528,28.776,null,11.352,12.408000000000001,null,53.064,43.032000000000004,null,33.528,36.696000000000005,null,60.984,50.952000000000005,null,76.296,69.96000000000001,null,43.032000000000004,50.952000000000005,null,24.024,11.352,null,24.024,37.752,null,67.32000000000001,64.68,null,48.84,44.088,null,68.904,76.824,null,18.216,21.912000000000003,null,45.144000000000005,43.56,null,64.152,64.152,null,83.16000000000001,85.8,null,53.064,50.952000000000005,null],\"type\":\"scatter3d\"},{\"marker\":{\"color\":\"orange\"},\"mode\":\"lines\",\"name\":\"ss\",\"x\":[333.96000000000004,339.76800000000003,null,333.96000000000004,335.016,null,323.928,307.03200000000004,null,385.704,386.232,null,385.704,389.928,null,285.91200000000003,278.52000000000004,null,285.91200000000003,288.552,null,285.91200000000003,286.44,null,285.91200000000003,286.44,null,327.096,321.81600000000003,null,386.232,383.59200000000004,null,386.232,380.952,null,386.232,378.84000000000003,null,386.232,391.512,null,292.776,293.832,null,265.848,280.632,null,378.312,373.03200000000004,null,413.68800000000005,408.408,null,413.68800000000005,412.632,null,278.52000000000004,272.712,null,404.71200000000005,411.048,null,404.71200000000005,411.048,null,360.36,357.192,null,360.36,358.776,null,360.36,365.64000000000004,null,325.512,327.624,null,377.784,366.168,null,377.784,384.12,null,356.136,350.856,null,358.776,363.528,null,356.136,357.192,null,286.44,286.44,null,274.296,279.576,null,274.296,266.37600000000003,null,406.296,399.96000000000004,null,406.296,401.016,null,350.32800000000003,343.992,null,350.32800000000003,338.712,null,419.49600000000004,420.552,null,419.49600000000004,411.048,null,278.52000000000004,277.464,null,278.52000000000004,268.488,null,278.52000000000004,267.96000000000004,null,400.488,410.52000000000004,null,362.47200000000004,352.968,null,362.47200000000004,357.192,null,362.47200000000004,359.832,null,373.03200000000004,363.528,null,357.192,360.88800000000003,null,357.192,367.224,null,357.192,365.64000000000004,null,405.76800000000003,405.76800000000003,null,288.024,287.49600000000004,null,288.024,293.30400000000003,null,288.024,295.944,null,402.072,398.904,null,402.072,383.59200000000004,null,292.248,303.336,null,332.904,337.12800000000004,null,332.904,337.656,null,314.42400000000004,322.872,null,386.232,373.03200000000004,null,411.048,417.384,null,411.048,415.8,null,411.048,405.76800000000003,null,421.08000000000004,417.384,null,421.08000000000004,405.76800000000003,null,343.992,343.992,null,343.992,334.488,null,343.992,357.72,null,343.992,346.632,null,269.016,273.76800000000003,null,283.272,282.744,null,283.8,272.184,null,283.8,282.744,null,295.416,293.30400000000003,null,383.59200000000004,379.368,null,416.32800000000003,408.408,null,416.32800000000003,422.136,null,393.096,402.6,null,393.096,379.896,null,379.368,376.728,null,379.368,378.312,null,379.368,364.584,null,360.36,361.944,null,360.36,368.808,null,360.36,371.44800000000004,null,321.81600000000003,328.15200000000004,null,321.81600000000003,339.76800000000003,null,408.93600000000004,405.76800000000003,null,408.93600000000004,414.744,null,350.856,354.024,null,350.856,352.44,null,320.76,326.04,null,363.528,365.112,null,363.528,358.776,null,363.528,372.504,null,411.048,421.08000000000004,null,328.15200000000004,324.98400000000004,null,376.728,388.872,null,376.728,387.81600000000003,null,296.47200000000004,295.944,null,357.192,359.832,null,272.184,275.88,null,307.03200000000004,304.92,null,307.03200000000004,292.776,null,379.896,378.312,null,379.896,371.44800000000004,null,356.136,357.192,null,356.136,345.576,null,411.576,398.904,null,282.216,278.52000000000004,null,282.216,295.416,null,323.40000000000003,326.04,null,323.40000000000003,323.928,null,417.384,415.8,null,417.384,418.968,null,324.98400000000004,321.81600000000003,null,365.64000000000004,378.312,null,365.64000000000004,359.832,null,354.552,352.44,null,275.35200000000003,283.8,null,275.35200000000003,291.72,null,275.35200000000003,281.16,null,357.72,343.992,null,357.72,369.86400000000003,null,420.552,405.24,null,403.12800000000004,409.464,null,403.12800000000004,410.52000000000004,null,284.856,286.44,null,336.072,352.44,null,336.072,345.048,null,288.024,297.528,null,288.024,305.976,null,272.712,277.464,null,272.712,274.296,null,290.664,293.832,null,290.664,293.30400000000003,null,268.488,277.464,null,360.36,355.08000000000004,null,387.81600000000003,402.6,null,379.896,396.79200000000003,null,293.30400000000003,295.944,null,293.30400000000003,292.776,null,293.30400000000003,297.528,null,379.896,366.168,null,379.896,368.808,null,379.896,361.944,null,279.576,281.16,null,414.744,407.88,null,414.744,402.072,null,414.744,413.16,null,291.72,303.336,null,291.72,280.632,null,294.88800000000003,295.416,null,294.88800000000003,297.528,null,294.88800000000003,305.976,null,396.79200000000003,399.96000000000004,null,396.79200000000003,393.624,null,396.79200000000003,402.072,null,378.84000000000003,377.25600000000003,null,378.84000000000003,386.76,null,370.92,365.64000000000004,null,370.92,367.224,null,370.92,367.752,null,393.624,386.232,null,338.712,340.824,null,289.08000000000004,276.408,null,378.312,371.44800000000004,null,277.464,271.656,null,277.464,288.552,null,375.144,364.584,null,375.144,370.92,null,281.16,283.8,null,281.16,280.632,null,281.16,288.552,null,387.81600000000003,395.208,null,297.528,294.36,null,346.632,352.968,null,346.632,337.656,null,414.744,414.216,null,414.744,399.96000000000004,null,356.136,363.528,null,396.79200000000003,391.512,null,396.79200000000003,399.96000000000004,null,378.84000000000003,380.952,null,378.84000000000003,383.59200000000004,null,378.84000000000003,367.752,null,334.488,324.456,null,329.736,337.656,null,405.24,409.464,null,305.976,305.976,null,305.976,320.232,null,305.976,295.416,null,282.744,293.832,null,282.744,291.72,null,318.648,316.00800000000004,null,318.648,326.56800000000004,null,365.112,361.944,null,370.92,367.752,null,370.92,366.696,null,370.92,367.224,null,370.92,377.25600000000003,null,291.72,304.92,null,291.72,293.832,null,408.408,407.35200000000003,null,366.696,367.224,null,366.696,373.56,null,366.696,367.752,null,391.512,399.96000000000004,null,377.25600000000003,378.312,null,377.25600000000003,370.392,null,348.216,344.52000000000004,null,310.2,310.2,null,352.44,342.93600000000004,null,352.44,363.528,null,391.512,390.98400000000004,null,391.512,388.344,null,391.512,384.648,null,391.512,395.208,null,405.76800000000003,395.208,null,405.76800000000003,414.216,null,345.576,352.44,null,373.03200000000004,373.03200000000004,null,382.00800000000004,370.92,null,382.00800000000004,364.584,null,365.64000000000004,367.224,null,365.64000000000004,352.44,null,305.976,297.528,null,305.976,295.416,null,338.712,326.04,null,367.224,371.976,null,367.224,369.86400000000003,null,371.44800000000004,371.976,null,371.44800000000004,368.808,null,401.016,398.37600000000003,null,401.016,411.048,null,389.928,386.76,null,389.928,397.848,null,388.344,384.12,null,388.344,395.208,null,388.344,390.98400000000004,null,388.344,380.42400000000004,null,388.344,384.648,null,366.168,361.944,null,366.168,367.752,null,412.632,409.464,null,412.632,410.52000000000004,null,395.73600000000005,401.016,null,395.73600000000005,383.59200000000004,null,398.37600000000003,390.98400000000004,null,398.37600000000003,384.648,null,398.37600000000003,395.208,null,311.25600000000003,308.088,null,407.88,413.16,null,348.744,359.30400000000003,null,348.744,335.016,null,321.81600000000003,313.368,null,414.216,402.6,null,390.456,391.512,null,417.384,408.408,null,314.42400000000004,314.42400000000004,null,331.32,337.656,null,331.32,337.656,null,331.32,328.15200000000004,null,357.192,352.44,null,285.91200000000003,269.54400000000004,null,391.512,398.904,null,391.512,402.072,null,321.81600000000003,320.76,null,339.24,344.52000000000004,null,339.24,339.76800000000003,null,363.528,367.224,null,422.136,408.408,null,377.25600000000003,379.368,null,377.25600000000003,367.224,null,293.832,293.30400000000003,null,293.832,294.36,null,289.08000000000004,290.664,null,289.08000000000004,294.36,null,278.52000000000004,286.44,null,278.52000000000004,273.24,null,278.52000000000004,288.552,null,278.52000000000004,283.8,null,274.296,277.464,null,268.488,280.632,null,268.488,267.96000000000004,null,352.44,344.52000000000004,null,391.512,379.368,null,376.20000000000005,379.368,null,379.368,377.25600000000003,null,361.944,367.752,null,367.752,370.392,null,315.48,316.536,null,271.128,277.464,null,310.2,309.144,null,413.16,405.76800000000003,null,358.776,351.384,null,337.656,328.15200000000004,null,337.656,337.656,null,304.92,313.368,null,313.368,305.44800000000004,null,293.30400000000003,301.224,null,283.8,280.632,null,283.8,286.44,null,283.8,273.24,null,359.30400000000003,360.88800000000003,null,355.08000000000004,360.36,null,355.08000000000004,363.528,null,301.224,303.86400000000003,null,301.224,303.86400000000003,null,301.224,301.224,null,340.296,338.712,null,340.296,347.16,null,367.752,367.224,null,377.784,369.336,null,386.76,393.624,null,398.904,406.824,null,276.408,268.488,null,327.624,337.656,null,414.216,399.96000000000004,null,402.072,407.35200000000003,null,415.8,405.76800000000003,null,408.408,410.52000000000004,null,304.392,316.00800000000004,null,369.86400000000003,371.976,null,340.296,327.624,null,295.416,301.752,null,295.416,297.528,null,363.528,360.36,null,390.456,379.368,null,399.96000000000004,401.016,null,366.168,367.224,null,365.64000000000004,361.416,null,365.64000000000004,361.944,null,347.16,351.384,null,347.16,352.44,null,347.16,347.16,null,371.976,373.56,null,275.88,273.76800000000003,null,277.464,275.88,null,320.76,323.928,null,373.56,380.42400000000004,null,267.432,275.88,null,390.98400000000004,384.12,null,390.98400000000004,384.648,null,344.52000000000004,337.656,null,383.59200000000004,380.952,null,371.976,366.168,null,371.976,384.648,null,410.52000000000004,406.824,null,410.52000000000004,412.10400000000004,null,279.048,293.30400000000003,null,375.144,360.36,null,405.76800000000003,401.016,null,286.44,288.552,null,309.144,300.168,null,386.232,384.12,null,344.52000000000004,335.016,null,310.728,316.00800000000004,null,361.944,352.44,null,384.648,384.12,null,303.86400000000003,301.224,null,410.52000000000004,402.072,null,380.42400000000004,384.12,null,343.992,337.12800000000004,null,345.048,346.632,null],\"y\":[341.88,348.744,null,341.88,348.744,null,302.808,311.25600000000003,null,385.704,387.288,null,385.704,377.784,null,359.30400000000003,359.30400000000003,null,359.30400000000003,348.216,null,359.30400000000003,357.192,null,359.30400000000003,367.752,null,366.696,365.64000000000004,null,365.64000000000004,355.08000000000004,null,365.64000000000004,365.112,null,365.64000000000004,358.248,null,365.64000000000004,352.44,null,379.368,393.096,null,352.44,343.464,null,380.952,392.56800000000004,null,281.16,289.608,null,281.16,264.79200000000003,null,366.696,370.92,null,367.224,367.752,null,367.224,351.384,null,382.536,370.92,null,382.536,379.896,null,382.536,377.25600000000003,null,274.824,283.8,null,337.656,333.432,null,337.656,345.576,null,305.976,311.25600000000003,null,349.272,334.488,null,298.584,283.8,null,367.752,357.192,null,333.96000000000004,321.81600000000003,null,333.96000000000004,349.272,null,375.672,367.752,null,375.672,366.696,null,387.288,393.096,null,387.288,377.25600000000003,null,352.44,341.88,null,352.44,367.752,null,346.632,341.35200000000003,null,346.632,341.88,null,346.632,332.37600000000003,null,291.72,306.504,null,268.488,280.632,null,268.488,283.8,null,268.488,286.968,null,392.56800000000004,406.824,null,370.92,370.92,null,370.92,379.896,null,370.92,377.25600000000003,null,353.49600000000004,354.552,null,274.296,264.264,null,274.296,288.024,null,274.296,280.104,null,302.28000000000003,304.392,null,302.28000000000003,302.808,null,364.05600000000004,361.416,null,276.408,267.432,null,276.408,294.88800000000003,null,326.56800000000004,318.12,null,293.832,282.744,null,397.848,405.24,null,397.848,390.98400000000004,null,397.848,387.288,null,404.184,405.24,null,404.184,413.68800000000005,null,393.096,394.68,null,393.096,396.264,null,393.096,399.96000000000004,null,393.096,411.576,null,286.44,291.72,null,338.712,350.856,null,289.08000000000004,280.104,null,289.08000000000004,300.696,null,292.248,288.024,null,302.808,318.12,null,316.00800000000004,322.344,null,316.00800000000004,324.98400000000004,null,340.824,329.736,null,340.824,346.632,null,318.12,331.848,null,318.12,316.536,null,318.12,316.00800000000004,null,324.98400000000004,332.904,null,324.98400000000004,324.456,null,324.98400000000004,332.904,null,317.064,312.312,null,317.064,322.344,null,371.44800000000004,387.288,null,371.44800000000004,361.416,null,311.25600000000003,313.368,null,311.25600000000003,304.92,null,358.776,366.696,null,269.016,279.048,null,269.016,275.35200000000003,null,269.016,268.488,null,351.384,356.66400000000004,null,398.904,381.48,null,331.848,327.624,null,331.848,328.68,null,278.52000000000004,280.104,null,283.8,286.968,null,295.416,305.44800000000004,null,270.6,281.688,null,270.6,272.184,null,330.79200000000003,316.536,null,330.79200000000003,332.904,null,362.47200000000004,354.552,null,362.47200000000004,373.03200000000004,null,294.36,304.392,null,314.952,330.264,null,314.952,308.61600000000004,null,375.144,366.696,null,375.144,387.288,null,405.24,390.98400000000004,null,405.24,415.8,null,381.48,365.64000000000004,null,292.248,290.664,null,292.248,286.968,null,349.8,364.05600000000004,null,350.32800000000003,343.992,null,350.32800000000003,348.744,null,350.32800000000003,335.54400000000004,null,399.96000000000004,394.68,null,399.96000000000004,415.8,null,411.048,412.10400000000004,null,397.32,412.632,null,397.32,389.40000000000003,null,375.144,357.192,null,414.216,406.824,null,414.216,402.072,null,303.86400000000003,301.752,null,303.86400000000003,301.224,null,370.92,382.00800000000004,null,370.92,376.728,null,350.32800000000003,362.47200000000004,null,350.32800000000003,353.49600000000004,null,388.344,384.12,null,405.24,413.16,null,328.68,329.736,null,346.632,349.272,null,288.024,280.104,null,288.024,272.184,null,288.024,301.752,null,333.432,340.824,null,333.432,324.456,null,333.432,332.904,null,321.81600000000003,335.54400000000004,null,337.12800000000004,340.824,null,337.12800000000004,329.736,null,337.12800000000004,354.024,null,348.744,347.16,null,348.744,343.464,null,314.952,308.61600000000004,null,314.952,301.752,null,314.952,301.224,null,385.17600000000004,367.752,null,385.17600000000004,394.15200000000004,null,385.17600000000004,402.6,null,297.0,309.144,null,297.0,307.56,null,365.64000000000004,377.25600000000003,null,365.64000000000004,379.896,null,365.64000000000004,351.91200000000003,null,394.15200000000004,387.288,null,330.264,326.04,null,405.24,399.432,null,316.536,332.904,null,341.35200000000003,324.456,null,341.35200000000003,348.216,null,378.84000000000003,380.952,null,378.84000000000003,387.81600000000003,null,335.54400000000004,343.992,null,335.54400000000004,343.464,null,335.54400000000004,348.216,null,411.048,417.91200000000003,null,392.56800000000004,379.896,null,277.992,280.632,null,277.992,294.88800000000003,null,361.416,361.416,null,361.416,367.752,null,333.96000000000004,334.488,null,349.272,352.44,null,349.272,367.752,null,358.248,365.112,null,358.248,355.08000000000004,null,358.248,351.91200000000003,null,339.24,333.96000000000004,null,304.392,312.312,null,412.10400000000004,412.632,null,301.224,293.30400000000003,null,301.224,302.808,null,301.224,308.61600000000004,null,300.696,310.2,null,300.696,299.64,null,281.16,270.6,null,281.16,267.432,null,279.048,294.88800000000003,null,360.36,367.224,null,360.36,351.384,null,360.36,350.856,null,360.36,366.696,null,299.64,294.36,null,299.64,310.2,null,322.344,321.81600000000003,null,351.384,350.856,null,351.384,345.048,null,351.384,367.224,null,352.44,367.752,null,270.6,267.96000000000004,null,270.6,267.96000000000004,null,304.392,310.728,null,405.76800000000003,403.12800000000004,null,406.824,419.49600000000004,null,406.824,406.824,null,351.384,356.136,null,351.384,342.408,null,351.384,359.30400000000003,null,351.384,332.37600000000003,null,413.68800000000005,417.91200000000003,null,413.68800000000005,409.992,null,373.03200000000004,364.05600000000004,null,282.744,297.0,null,383.064,387.81600000000003,null,383.064,380.952,null,377.25600000000003,379.896,null,377.25600000000003,364.05600000000004,null,293.30400000000003,301.752,null,293.30400000000003,308.61600000000004,null,377.25600000000003,366.696,null,414.744,403.656,null,414.744,415.8,null,332.904,336.6,null,332.904,324.456,null,359.30400000000003,349.272,null,359.30400000000003,367.752,null,276.408,271.128,null,276.408,289.608,null,342.408,345.576,null,342.408,332.37600000000003,null,342.408,356.136,null,342.408,338.712,null,342.408,359.30400000000003,null,340.824,332.904,null,340.824,351.91200000000003,null,398.37600000000003,412.632,null,398.37600000000003,389.40000000000003,null,357.72,366.696,null,357.72,355.08000000000004,null,349.272,356.136,null,349.272,359.30400000000003,null,349.272,332.37600000000003,null,370.92,361.416,null,340.824,354.024,null,346.10400000000004,354.024,null,346.10400000000004,348.744,null,266.904,279.048,null,322.872,329.736,null,319.704,311.25600000000003,null,297.528,289.608,null,292.776,285.91200000000003,null,304.92,312.312,null,304.92,294.88800000000003,null,304.92,312.312,null,354.552,364.05600000000004,null,322.344,318.12,null,314.952,304.392,null,314.952,329.736,null,365.64000000000004,372.504,null,341.88,349.272,null,341.88,348.744,null,334.488,350.856,null,324.98400000000004,311.784,null,366.696,384.12,null,366.696,350.856,null,362.47200000000004,353.49600000000004,null,362.47200000000004,379.896,null,394.68,404.184,null,394.68,379.896,null,359.30400000000003,357.192,null,359.30400000000003,357.192,null,359.30400000000003,348.216,null,359.30400000000003,343.992,null,376.728,382.00800000000004,null,341.88,343.464,null,341.88,332.37600000000003,null,364.05600000000004,349.272,null,311.25600000000003,320.232,null,394.68,384.12,null,320.232,309.144,null,332.904,351.91200000000003,null,267.96000000000004,267.96000000000004,null,338.712,349.8,null,367.752,384.12,null,403.12800000000004,391.512,null,354.024,354.552,null,275.35200000000003,274.824,null,312.312,312.312,null,312.312,294.88800000000003,null,294.36,279.048,null,279.048,279.576,null,353.49600000000004,339.76800000000003,null,343.992,343.464,null,343.992,357.192,null,343.992,357.192,null,354.024,370.92,null,301.752,303.86400000000003,null,301.752,300.696,null,326.56800000000004,333.96000000000004,null,326.56800000000004,318.12,null,326.56800000000004,339.76800000000003,null,266.904,269.54400000000004,null,266.904,272.184,null,367.224,350.856,null,363.528,362.47200000000004,null,271.128,276.408,null,304.392,313.368,null,403.12800000000004,396.79200000000003,null,283.8,294.88800000000003,null,361.416,367.752,null,329.736,338.184,null,390.98400000000004,387.288,null,311.784,306.504,null,279.576,270.6,null,415.8,403.656,null,323.928,328.68,null,308.61600000000004,319.704,null,308.61600000000004,301.752,null,300.696,303.86400000000003,null,388.344,384.12,null,367.752,366.696,null,333.432,350.856,null,300.168,305.44800000000004,null,300.168,294.88800000000003,null,289.08000000000004,274.824,null,289.08000000000004,304.92,null,289.08000000000004,272.184,null,336.6,345.048,null,305.44800000000004,291.72,null,384.12,389.40000000000003,null,372.504,387.288,null,345.048,338.712,null,385.704,389.40000000000003,null,356.136,345.576,null,356.136,359.30400000000003,null,310.728,294.88800000000003,null,355.08000000000004,365.112,null,373.03200000000004,369.86400000000003,null,373.03200000000004,378.84000000000003,null,306.504,313.368,null,306.504,303.86400000000003,null,317.59200000000004,312.84000000000003,null,295.416,303.86400000000003,null,354.552,366.696,null,357.192,348.216,null,391.512,402.6,null,387.288,388.344,null,349.272,348.744,null,269.016,270.6,null,294.88800000000003,304.92,null,359.30400000000003,345.576,null,333.96000000000004,339.76800000000003,null,407.88,413.68800000000005,null,338.712,345.576,null,375.144,393.096,null,402.072,411.576,null],\"z\":[77.352,85.8,null,77.352,62.568000000000005,null,84.21600000000001,79.464,null,66.792,82.104,null,66.792,49.368,null,53.064,62.568000000000005,null,53.064,58.872,null,53.064,68.904,null,53.064,66.792,null,11.352,19.8,null,78.936,77.88000000000001,null,78.936,90.552,null,78.936,86.85600000000001,null,78.936,78.408,null,81.57600000000001,69.96000000000001,null,56.760000000000005,58.344,null,85.8,83.16000000000001,null,21.912000000000003,11.352,null,21.912000000000003,22.968,null,11.352,21.912000000000003,null,35.112,25.080000000000002,null,35.112,39.864000000000004,null,72.60000000000001,69.96000000000001,null,72.60000000000001,85.272,null,72.60000000000001,59.400000000000006,null,82.104,78.936,null,10.824,10.296000000000001,null,10.824,21.912000000000003,null,13.992,26.664,null,27.192,28.248,null,84.744,72.072,null,66.792,68.904,null,69.96000000000001,73.128,null,69.96000000000001,79.464,null,84.21600000000001,83.688,null,84.21600000000001,75.768,null,60.456,74.184,null,60.456,54.648,null,29.832,20.856,null,29.832,25.080000000000002,null,36.168,44.616,null,36.168,44.088,null,36.168,27.720000000000002,null,76.296,71.544,null,67.32000000000001,64.152,null,67.32000000000001,72.072,null,67.32000000000001,64.152,null,83.16000000000001,86.328,null,69.96000000000001,78.408,null,69.96000000000001,76.296,null,69.96000000000001,59.400000000000006,null,55.704,62.568000000000005,null,63.096000000000004,63.096000000000004,null,63.096000000000004,58.344,null,63.096000000000004,48.84,null,85.8,71.016,null,85.8,78.408,null,44.088,53.592000000000006,null,81.57600000000001,83.688,null,81.57600000000001,81.048,null,34.584,35.64,null,75.768,83.16000000000001,null,73.656,74.712,null,73.656,82.632,null,73.656,65.736,null,59.928000000000004,74.712,null,59.928000000000004,62.040000000000006,null,74.184,64.152,null,74.184,84.744,null,74.184,76.296,null,74.184,81.048,null,36.168,48.312000000000005,null,37.752,26.664,null,79.992,76.296,null,79.992,65.736,null,73.656,58.344,null,78.408,83.688,null,50.952000000000005,48.84,null,50.952000000000005,52.008,null,84.744,85.8,null,84.744,79.464,null,83.688,85.272,null,83.688,66.792,null,83.688,73.128,null,83.688,81.048,null,83.688,85.272,null,83.688,73.128,null,78.408,63.096000000000004,null,78.408,77.352,null,73.656,65.736,null,73.656,87.912,null,26.664,15.048,null,26.664,43.032000000000004,null,54.648,43.56,null,25.608,25.608,null,25.608,17.688000000000002,null,25.608,14.520000000000001,null,39.864000000000004,53.064,null,15.576,17.16,null,85.272,87.384,null,85.272,73.128,null,40.92,48.84,null,72.072,64.152,null,68.904,57.816,null,41.448,34.584,null,41.448,48.312000000000005,null,58.872,66.792,null,58.872,73.128,null,81.048,69.432,null,81.048,72.60000000000001,null,60.984,71.016,null,22.968,29.304000000000002,null,22.968,32.472,null,42.504000000000005,43.56,null,42.504000000000005,39.864000000000004,null,74.712,82.632,null,74.712,91.608,null,17.16,19.8,null,81.57600000000001,71.544,null,81.57600000000001,64.152,null,53.592000000000006,62.040000000000006,null,81.048,69.96000000000001,null,81.048,71.544,null,81.048,70.488,null,76.296,64.152,null,76.296,75.768,null,28.776,34.056000000000004,null,25.080000000000002,23.496000000000002,null,25.080000000000002,11.352,null,71.544,68.904,null,73.128,73.656,null,73.128,84.21600000000001,null,43.56,46.2,null,43.56,45.672000000000004,null,21.912000000000003,31.944000000000003,null,21.912000000000003,40.92,null,28.248,22.968,null,28.248,15.048,null,76.296,76.296,null,60.984,44.616,null,73.128,85.8,null,79.464,88.968,null,58.344,48.84,null,58.344,48.312000000000005,null,58.344,46.2,null,74.184,69.432,null,74.184,85.272,null,74.184,81.048,null,73.128,70.488,null,60.984,48.312000000000005,null,60.984,71.016,null,60.984,52.536,null,71.544,70.488,null,71.544,58.344,null,43.56,32.472,null,43.56,46.2,null,43.56,45.672000000000004,null,85.8,83.688,null,85.8,68.904,null,85.8,78.936,null,19.272000000000002,19.272000000000002,null,19.272000000000002,11.352,null,67.32000000000001,59.400000000000006,null,67.32000000000001,76.296,null,67.32000000000001,79.992,null,68.904,82.104,null,15.576,29.832,null,13.464,21.384,null,66.792,73.128,null,44.616,50.952000000000005,null,44.616,58.872,null,39.864000000000004,33.528,null,39.864000000000004,27.192,null,70.488,69.96000000000001,null,70.488,58.344,null,70.488,58.872,null,81.048,65.208,null,11.88,15.048,null,79.992,64.152,null,79.992,81.048,null,87.912,94.77600000000001,null,87.912,83.688,null,13.992,28.248,null,88.968,78.408,null,88.968,83.688,null,86.85600000000001,90.552,null,86.85600000000001,77.88000000000001,null,86.85600000000001,79.992,null,32.472,37.752,null,62.568000000000005,76.824,null,34.056000000000004,23.496000000000002,null,45.672000000000004,36.168,null,45.672000000000004,49.368,null,45.672000000000004,32.472,null,65.736,66.26400000000001,null,65.736,81.048,null,52.536,52.008,null,52.536,45.144000000000005,null,25.608,36.696000000000005,null,24.024,17.16,null,24.024,27.192,null,24.024,18.216,null,24.024,13.464,null,81.048,81.048,null,81.048,66.26400000000001,null,48.84,31.416,null,27.192,18.216,null,27.192,43.032000000000004,null,27.192,17.16,null,78.408,83.688,null,84.744,67.32000000000001,null,84.744,67.32000000000001,null,75.24000000000001,82.632,null,26.136000000000003,12.936,null,73.656,75.768,null,73.656,86.328,null,15.048,22.44,null,15.048,15.048,null,15.048,11.352,null,15.048,10.296000000000001,null,62.040000000000006,65.208,null,62.040000000000006,44.616,null,72.60000000000001,62.040000000000006,null,83.16000000000001,85.272,null,40.92,27.192,null,40.92,33.528,null,59.400000000000006,76.296,null,59.400000000000006,62.040000000000006,null,36.168,46.2,null,36.168,32.472,null,54.648,43.56,null,56.760000000000005,68.904,null,56.760000000000005,75.768,null,73.128,60.984,null,73.128,85.272,null,11.88,13.992,null,11.88,25.080000000000002,null,13.464,20.856,null,13.464,24.024,null,15.048,21.912000000000003,null,15.048,10.296000000000001,null,15.048,22.44,null,15.048,29.832,null,15.048,11.352,null,69.432,81.048,null,69.432,79.992,null,24.024,23.496000000000002,null,24.024,11.352,null,68.376,75.768,null,68.376,77.88000000000001,null,13.992,22.44,null,13.992,11.352,null,13.992,10.296000000000001,null,69.96000000000001,77.88000000000001,null,48.312000000000005,52.536,null,72.60000000000001,78.408,null,72.60000000000001,62.568000000000005,null,73.128,82.632,null,86.85600000000001,85.8,null,15.048,28.776,null,14.520000000000001,11.352,null,70.488,77.352,null,79.992,76.824,null,79.992,81.048,null,79.992,63.096000000000004,null,69.432,62.040000000000006,null,20.856,22.968,null,63.624,71.016,null,63.624,71.016,null,19.8,33.528,null,67.32000000000001,53.064,null,67.32000000000001,85.8,null,28.248,18.216,null,52.008,52.536,null,13.464,15.048,null,13.464,18.216,null,22.968,15.048,null,22.968,15.048,null,14.520000000000001,22.44,null,14.520000000000001,15.048,null,62.568000000000005,68.904,null,62.568000000000005,76.824,null,62.568000000000005,58.872,null,62.568000000000005,69.96000000000001,null,40.92,31.944000000000003,null,44.088,58.344,null,44.088,27.720000000000002,null,62.040000000000006,53.064,null,28.776,21.384,null,24.552,15.048,null,21.384,19.272000000000002,null,81.048,79.992,null,49.368,67.32000000000001,null,77.352,77.88000000000001,null,81.048,76.296,null,12.936,24.024,null,52.536,62.568000000000005,null,17.688000000000002,28.776,null,76.824,63.096000000000004,null,76.824,81.048,null,81.048,82.632,null,82.632,81.048,null,15.048,24.024,null,69.96000000000001,58.344,null,69.96000000000001,68.904,null,69.96000000000001,76.824,null,78.408,78.408,null,25.608,32.472,null,25.608,18.744,null,17.688000000000002,13.992,null,17.688000000000002,28.776,null,17.688000000000002,24.024,null,59.928000000000004,48.84,null,59.928000000000004,44.088,null,17.16,18.216,null,77.88000000000001,75.24000000000001,null,20.856,26.136000000000003,null,71.016,83.16000000000001,null,62.568000000000005,64.68,null,78.936,81.048,null,94.77600000000001,83.688,null,71.016,81.57600000000001,null,82.632,65.736,null,52.536,71.544,null,45.144000000000005,52.008,null,75.768,68.904,null,58.872,73.128,null,32.472,37.752,null,32.472,46.2,null,18.744,32.472,null,28.776,15.048,null,83.688,75.768,null,10.296000000000001,18.216,null,53.064,65.736,null,53.064,36.696000000000005,null,33.528,28.776,null,33.528,43.032000000000004,null,33.528,44.088,null,60.984,43.032000000000004,null,57.816,48.312000000000005,null,76.296,67.32000000000001,null,33.528,39.864000000000004,null,43.032000000000004,29.832,null,57.816,67.32000000000001,null,22.44,21.912000000000003,null,22.44,11.352,null,82.632,81.048,null,77.88000000000001,90.552,null,29.832,39.864000000000004,null,29.832,29.832,null,71.544,83.16000000000001,null,71.544,57.288000000000004,null,59.928000000000004,58.344,null,37.224000000000004,32.472,null,62.568000000000005,75.768,null,68.904,58.872,null,24.024,27.720000000000002,null,82.104,88.968,null,53.064,62.568000000000005,null,33.528,52.008,null,36.696000000000005,43.032000000000004,null,11.352,21.912000000000003,null,13.992,24.024,null,13.464,10.824,null,29.832,21.912000000000003,null,10.296000000000001,10.296000000000001,null,84.21600000000001,81.048,null],\"type\":\"scatter3d\"},{\"marker\":{\"color\":\"blue\"},\"mode\":\"lines\",\"name\":\"fs\",\"x\":[333.96000000000004,339.24,null,333.96000000000004,348.744,null,333.96000000000004,315.48,null,323.928,331.32,null,323.928,321.81600000000003,null,323.928,337.656,null,323.928,337.656,null,323.928,314.42400000000004,null,385.704,393.624,null,285.91200000000003,297.0,null,285.91200000000003,299.64,null,327.096,329.208,null,327.096,343.992,null,386.232,377.784,null,386.232,395.73600000000005,null,386.232,369.336,null,386.232,378.312,null,292.776,286.44,null,292.776,284.856,null,292.776,284.32800000000003,null,265.848,268.488,null,334.488,329.736,null,334.488,322.872,null,334.488,318.648,null,334.488,340.824,null,378.312,384.12,null,378.312,386.232,null,378.312,367.224,null,378.312,380.952,null,378.312,396.79200000000003,null,378.312,377.784,null,413.68800000000005,417.91200000000003,null,413.68800000000005,397.848,null,413.68800000000005,417.384,null,323.40000000000003,308.088,null,323.40000000000003,316.536,null,323.40000000000003,311.25600000000003,null,360.36,360.88800000000003,null,360.36,350.32800000000003,null,360.36,345.576,null,360.36,357.72,null,325.512,321.81600000000003,null,325.512,313.368,null,377.784,387.288,null,377.784,382.536,null,377.784,380.42400000000004,null,377.784,391.512,null,356.136,363.528,null,356.136,364.584,null,356.136,355.08000000000004,null,356.136,360.36,null,358.776,366.696,null,358.776,368.28000000000003,null,358.776,352.968,null,356.136,365.64000000000004,null,356.136,345.048,null,356.136,348.216,null,356.136,337.656,null,329.736,337.656,null,329.736,329.736,null,329.736,322.872,null,329.736,318.12,null,329.736,328.15200000000004,null,286.44,284.856,null,286.44,297.0,null,286.44,273.24,null,274.296,280.632,null,274.296,279.048,null,274.296,275.35200000000003,null,406.296,413.68800000000005,null,406.296,408.93600000000004,null,406.296,414.744,null,406.296,414.216,null,350.32800000000003,343.992,null,350.32800000000003,345.576,null,419.49600000000004,411.048,null,278.52000000000004,283.272,null,278.52000000000004,282.744,null,278.52000000000004,290.664,null,278.52000000000004,278.52000000000004,null,400.488,394.15200000000004,null,400.488,398.904,null,400.488,402.072,null,400.488,411.576,null,362.47200000000004,347.688,null,362.47200000000004,367.752,null,373.03200000000004,371.976,null,373.03200000000004,357.72,null,357.192,352.44,null,357.192,345.576,null,357.192,356.136,null,357.192,369.336,null,357.192,357.192,null,357.192,358.776,null,357.192,359.30400000000003,null,405.76800000000003,397.848,null,405.76800000000003,421.08000000000004,null,405.76800000000003,395.73600000000005,null,405.76800000000003,411.048,null,288.024,292.776,null,402.072,410.52000000000004,null,332.904,313.368,null,314.42400000000004,324.456,null,314.42400000000004,303.86400000000003,null,314.42400000000004,301.752,null,314.42400000000004,313.896,null,386.232,378.312,null,386.232,383.59200000000004,null,386.232,394.15200000000004,null,386.232,373.03200000000004,null,386.232,398.904,null,411.048,420.552,null,347.688,340.296,null,347.688,352.968,null,347.688,346.632,null,347.688,357.192,null,347.688,337.12800000000004,null,421.08000000000004,414.216,null,343.992,339.76800000000003,null,343.992,345.048,null,343.992,352.44,null,420.024,414.216,null,420.024,406.824,null,286.44,284.32800000000003,null,286.44,277.464,null,286.44,284.856,null,286.44,275.88,null,286.44,268.488,null,394.15200000000004,403.12800000000004,null,283.272,277.464,null,283.272,278.52000000000004,null,283.272,268.488,null,283.272,290.664,null,283.272,267.96000000000004,null,283.8,291.72,null,283.8,272.184,null,295.416,291.72,null,295.416,304.92,null,295.416,282.744,null,295.416,305.44800000000004,null,295.416,298.584,null,295.416,293.832,null,383.59200000000004,373.03200000000004,null,383.59200000000004,367.224,null,383.59200000000004,378.312,null,416.32800000000003,412.10400000000004,null,393.096,392.04,null,393.096,396.79200000000003,null,393.096,391.512,null,393.096,407.35200000000003,null,393.096,379.896,null,393.096,383.59200000000004,null,393.096,402.072,null,379.368,368.808,null,379.368,379.896,null,379.368,392.04,null,379.368,371.44800000000004,null,297.0,291.72,null,297.0,303.336,null,297.0,283.8,null,297.0,280.632,null,360.36,364.584,null,360.36,376.728,null,399.96000000000004,412.10400000000004,null,321.81600000000003,327.624,null,321.81600000000003,331.32,null,321.81600000000003,307.03200000000004,null,408.93600000000004,401.016,null,408.93600000000004,413.68800000000005,null,408.93600000000004,395.73600000000005,null,346.632,355.08000000000004,null,346.632,360.36,null,350.856,355.08000000000004,null,350.856,360.36,null,350.856,364.584,null,350.856,340.824,null,350.856,363.528,null,320.76,303.336,null,320.76,339.24,null,363.528,355.608,null,363.528,351.91200000000003,null,317.064,309.144,null,380.42400000000004,371.976,null,380.42400000000004,363.528,null,411.048,413.16,null,411.048,407.88,null,328.15200000000004,337.12800000000004,null,376.728,368.808,null,376.728,379.896,null,376.728,371.44800000000004,null,376.728,361.944,null,376.728,392.04,null,296.47200000000004,304.392,null,296.47200000000004,292.776,null,296.47200000000004,304.92,null,296.47200000000004,307.03200000000004,null,296.47200000000004,305.976,null,296.47200000000004,310.728,null,357.192,373.03200000000004,null,272.184,282.744,null,272.184,272.184,null,272.184,276.408,null,307.03200000000004,310.728,null,307.03200000000004,304.392,null,307.03200000000004,316.00800000000004,null,307.03200000000004,295.944,null,379.896,371.976,null,379.896,379.896,null,379.896,387.81600000000003,null,356.136,359.30400000000003,null,356.136,360.88800000000003,null,356.136,369.336,null,356.136,367.752,null,356.136,352.44,null,356.136,348.744,null,411.576,412.10400000000004,null,411.576,410.52000000000004,null,411.576,408.408,null,348.216,352.44,null,348.216,339.76800000000003,null,282.216,285.91200000000003,null,282.216,269.54400000000004,null,282.216,274.296,null,358.776,360.88800000000003,null,323.40000000000003,320.76,null,323.40000000000003,338.712,null,417.384,420.552,null,417.384,405.76800000000003,null,284.856,290.664,null,284.856,293.30400000000003,null,324.98400000000004,337.12800000000004,null,324.98400000000004,320.76,null,324.98400000000004,309.144,null,365.64000000000004,373.03200000000004,null,365.64000000000004,373.03200000000004,null,365.64000000000004,367.224,null,354.552,360.36,null,354.552,352.44,null,354.552,352.968,null,275.35200000000003,273.24,null,275.35200000000003,286.44,null,375.144,376.20000000000005,null,375.144,363.0,null,357.72,352.44,null,357.72,363.528,null,357.72,345.048,null,357.72,360.36,null,357.72,339.76800000000003,null,420.552,409.464,null,420.552,412.632,null,420.552,414.216,null,420.552,410.52000000000004,null,419.49600000000004,410.52000000000004,null,419.49600000000004,412.632,null,403.12800000000004,390.456,null,403.12800000000004,398.37600000000003,null,403.12800000000004,410.52000000000004,null,284.856,277.464,null,284.856,271.128,null,284.856,278.52000000000004,null,336.072,342.93600000000004,null,336.072,339.76800000000003,null,337.656,329.736,null,337.656,345.576,null,337.656,328.15200000000004,null,337.656,320.232,null,421.08000000000004,413.16,null,421.08000000000004,405.76800000000003,null,288.024,293.30400000000003,null,288.024,275.88,null,288.024,273.76800000000003,null,282.744,293.30400000000003,null,268.488,275.88,null,268.488,265.848,null,268.488,268.488,null,268.488,284.32800000000003,null,268.488,267.432,null,360.36,367.224,null,360.36,377.784,null,360.36,343.992,null,265.848,271.128,null,387.81600000000003,392.04,null,387.81600000000003,379.896,null,387.81600000000003,388.872,null,387.81600000000003,402.072,null,387.81600000000003,378.312,null,387.81600000000003,371.44800000000004,null,387.81600000000003,391.512,null,379.896,383.59200000000004,null,379.896,367.752,null,379.896,378.84000000000003,null,379.896,379.896,null,379.896,377.784,null,379.896,371.44800000000004,null,379.896,366.168,null,379.896,392.04,null,379.896,369.336,null,393.624,393.624,null,393.624,398.37600000000003,null,393.624,376.20000000000005,null,393.624,384.648,null,393.624,399.432,null,293.30400000000003,282.744,null,293.30400000000003,304.392,null,379.896,392.04,null,379.896,371.976,null,379.896,388.872,null,379.896,378.312,null,279.576,279.048,null,279.576,293.832,null,279.576,276.408,null,307.03200000000004,298.584,null,307.03200000000004,293.832,null,307.03200000000004,291.72,null,414.744,397.848,null,291.72,283.8,null,291.72,286.44,null,291.72,288.552,null,291.72,281.16,null,291.72,278.52000000000004,null,291.72,300.168,null,287.49600000000004,292.776,null,294.88800000000003,301.752,null,294.88800000000003,293.30400000000003,null,294.88800000000003,303.86400000000003,null,378.84000000000003,363.528,null,378.84000000000003,375.144,null,378.84000000000003,364.584,null,370.92,369.336,null,370.92,377.784,null,370.92,360.88800000000003,null,370.92,357.192,null,370.92,352.44,null,370.92,359.30400000000003,null,393.624,402.072,null,393.624,377.784,null,337.656,323.928,null,284.32800000000003,293.832,null,284.32800000000003,275.88,null,284.32800000000003,277.464,null,338.712,325.512,null,338.712,334.488,null,289.08000000000004,290.664,null,289.08000000000004,289.08000000000004,null,289.08000000000004,293.30400000000003,null,289.08000000000004,297.528,null,289.08000000000004,300.168,null,378.312,364.584,null,378.312,367.224,null,277.464,268.488,null,277.464,280.632,null,318.648,322.872,null,318.648,303.86400000000003,null,304.92,304.392,null,304.92,310.728,null,304.92,318.12,null,304.92,295.944,null,304.92,307.03200000000004,null,375.144,371.976,null,375.144,384.648,null,375.144,389.928,null,375.144,377.784,null,281.16,286.44,null,387.81600000000003,402.072,null,297.528,310.2,null,297.528,309.144,null,297.528,290.664,null,297.528,300.168,null,346.632,327.624,null,414.744,420.552,null,414.744,401.016,null,356.136,366.168,null,356.136,347.16,null,396.79200000000003,383.59200000000004,null,396.79200000000003,392.04,null,378.84000000000003,377.784,null,378.84000000000003,369.336,null,378.84000000000003,391.512,null,334.488,340.824,null,334.488,329.736,null,329.736,320.232,null,329.736,331.32,null,405.24,414.216,null,405.24,412.632,null,349.8,343.992,null,349.8,367.752,null,305.976,318.12,null,338.184,338.712,null,338.184,347.16,null,338.184,352.968,null,338.184,340.296,null,338.184,318.648,null,282.744,275.88,null,282.744,293.30400000000003,null,282.744,279.048,null,318.648,318.12,null,318.648,310.728,null,365.112,366.696,null,365.112,351.384,null,365.112,372.504,null,365.112,355.608,null,345.576,352.44,null,370.92,368.28000000000003,null,370.92,375.672,null,370.92,371.976,null,370.92,382.536,null,370.92,384.648,null,370.92,366.168,null,291.72,298.584,null,291.72,276.408,null,291.72,304.392,null,408.408,408.408,null,408.408,407.88,null,366.696,368.28000000000003,null,366.696,375.672,null,366.696,363.528,null,304.392,304.92,null,304.392,314.42400000000004,null,304.392,305.44800000000004,null,304.392,298.584,null,304.392,313.368,null,326.56800000000004,329.208,null,326.56800000000004,311.25600000000003,null,326.56800000000004,327.096,null,326.56800000000004,345.576,null,391.512,383.59200000000004,null,391.512,395.73600000000005,null,391.512,377.784,null,372.504,358.776,null,372.504,389.928,null,377.25600000000003,373.03200000000004,null,348.216,345.048,null,348.216,337.656,null,348.216,361.416,null,348.216,339.76800000000003,null,366.696,361.944,null,366.696,375.144,null,366.696,360.36,null,366.696,347.16,null,310.2,309.144,null,310.2,290.664,null,421.08000000000004,420.552,null,421.08000000000004,414.216,null,352.44,346.632,null,352.44,343.992,null,352.44,369.86400000000003,null,278.52000000000004,276.408,null,278.52000000000004,268.488,null,345.576,360.88800000000003,null,345.576,339.24,null,345.576,338.712,null,373.03200000000004,378.312,null,382.00800000000004,384.648,null,382.00800000000004,389.928,null,382.00800000000004,377.784,null,382.00800000000004,390.456,null,365.64000000000004,375.672,null,271.656,279.048,null,305.976,318.12,null,305.976,304.392,null,300.168,291.72,null,300.168,303.336,null,300.168,286.44,null,338.712,339.24,null,367.224,355.08000000000004,null,371.44800000000004,366.168,null,371.44800000000004,364.584,null,364.584,371.976,null,364.584,366.168,null,364.584,363.0,null,401.016,399.432,null,389.928,393.624,null,388.344,382.536,null,388.344,387.288,null,366.168,371.976,null,366.168,352.44,null,366.168,357.192,null,366.168,359.30400000000003,null,366.168,348.744,null,366.168,360.36,null,303.336,311.25600000000003,null,303.336,299.64,null,412.632,410.52000000000004,null,411.576,405.76800000000003,null,310.728,295.416,null,363.0,370.92,null,363.0,376.20000000000005,null,395.73600000000005,397.848,null,395.73600000000005,399.96000000000004,null,368.28000000000003,371.976,null,368.28000000000003,367.752,null,368.28000000000003,367.224,null,368.28000000000003,373.56,null,402.072,397.32,null,402.072,402.6,null,402.072,420.552,null,329.736,325.512,null,329.736,340.824,null,329.736,324.456,null,407.88,397.848,null,407.88,405.76800000000003,null,327.096,318.12,null,348.744,339.24,null,348.744,357.192,null,348.744,352.44,null,286.44,291.72,null,286.44,283.8,null,286.44,279.048,null,321.81600000000003,310.728,null,321.81600000000003,327.624,null,395.208,387.288,null,414.216,407.35200000000003,null,299.64,311.25600000000003,null,304.92,307.03200000000004,null,304.92,290.664,null,370.92,376.20000000000005,null,370.92,371.976,null,370.92,379.368,null,370.92,384.648,null,390.456,387.288,null,390.456,379.368,null,390.456,386.76,null,390.456,404.71200000000005,null,390.456,395.208,null,314.42400000000004,304.92,null,314.42400000000004,313.368,null,314.42400000000004,305.44800000000004,null,334.488,347.16,null,303.336,293.832,null,303.336,295.416,null,331.32,345.048,null,357.192,359.30400000000003,null,357.192,367.752,null,357.192,369.336,null,357.192,360.88800000000003,null,357.192,352.44,null,285.91200000000003,278.52000000000004,null,285.91200000000003,274.296,null,285.91200000000003,301.224,null,285.91200000000003,300.168,null,386.76,391.512,null,386.76,404.71200000000005,null,321.81600000000003,329.208,null,339.24,352.44,null,339.24,327.624,null,339.24,340.296,null,363.528,352.968,null,363.528,366.168,null,417.91200000000003,412.632,null,417.91200000000003,418.44,null,373.03200000000004,367.224,null,373.03200000000004,378.312,null,377.25600000000003,384.648,null,377.25600000000003,382.536,null,377.25600000000003,371.976,null,377.25600000000003,375.672,null,375.672,371.976,null,375.672,366.168,null,375.672,367.752,null,375.672,367.224,null,375.672,384.12,null,289.08000000000004,276.408,null,289.08000000000004,300.168,null,367.224,360.88800000000003,null,367.224,369.336,null,367.224,377.784,null,352.44,339.24,null,352.44,360.88800000000003,null,391.512,395.208,null,391.512,404.71200000000005,null,391.512,407.35200000000003,null,402.6,397.32,null,376.20000000000005,390.456,null,376.20000000000005,384.648,null,354.024,364.584,null,354.024,355.08000000000004,null,354.024,363.528,null,352.968,360.36,null,352.968,344.52000000000004,null,324.456,322.872,null,324.456,340.824,null,379.368,387.288,null,379.368,364.584,null,361.944,364.584,null,377.784,377.784,null,315.48,327.624,null,315.48,303.336,null,368.808,364.584,null,276.408,290.664,null,377.25600000000003,364.584,null,271.128,273.24,null,278.52000000000004,267.96000000000004,null,278.52000000000004,269.54400000000004,null,364.584,360.36,null,407.35200000000003,414.216,null,407.35200000000003,404.71200000000005,null,411.048,399.432,null,310.2,309.144,null,310.2,300.168,null,382.536,384.12,null,382.536,390.98400000000004,null,382.536,367.224,null,382.536,380.42400000000004,null,413.16,397.848,null,358.776,351.91200000000003,null,358.776,355.608,null,298.584,293.832,null,298.584,304.92,null,387.288,384.12,null,363.528,369.86400000000003,null,363.528,346.632,null,363.528,345.048,null,363.528,371.976,null,293.832,293.30400000000003,null,345.048,344.52000000000004,null,345.048,337.656,null,345.048,337.656,null,337.656,339.76800000000003,null,290.664,295.416,null,304.92,314.42400000000004,null,404.71200000000005,414.216,null,404.71200000000005,395.208,null,292.776,295.944,null,292.776,304.392,null,313.368,314.42400000000004,null,313.368,327.624,null,283.8,288.552,null,283.8,303.336,null,359.30400000000003,367.752,null,359.30400000000003,369.336,null,355.08000000000004,361.944,null,355.08000000000004,347.16,null,355.08000000000004,352.44,null,301.224,300.168,null,392.04,388.872,null,392.04,402.6,null,392.04,402.072,null,392.04,407.35200000000003,null,318.12,320.232,null,318.12,304.392,null,293.30400000000003,290.664,null,367.752,371.976,null,367.752,384.648,null,377.784,383.59200000000004,null,377.784,380.952,null,377.784,367.752,null,377.784,360.88800000000003,null,280.632,288.552,null,280.632,286.44,null,393.624,397.848,null,398.904,410.52000000000004,null,398.904,412.10400000000004,null,414.216,413.68800000000005,null,326.56800000000004,310.728,null,409.464,410.52000000000004,null,409.464,402.072,null,402.072,402.6,null,402.072,397.848,null,415.8,420.552,null,340.296,328.15200000000004,null,340.296,352.44,null,340.296,339.76800000000003,null,327.624,339.76800000000003,null,327.624,328.15200000000004,null,295.416,303.86400000000003,null,395.208,397.848,null,399.432,398.37600000000003,null,399.432,410.52000000000004,null,399.432,393.624,null,339.76800000000003,345.048,null,339.76800000000003,346.632,null,339.76800000000003,334.488,null,339.76800000000003,343.992,null,300.168,303.86400000000003,null,363.528,361.944,null,352.44,360.36,null,352.44,344.52000000000004,null,352.44,371.976,null,316.536,303.336,null,334.488,329.208,null,334.488,345.048,null,334.488,346.632,null,378.312,367.224,null,269.54400000000004,274.296,null,390.456,384.648,null,390.456,398.37600000000003,null,390.456,393.624,null,399.96000000000004,413.68800000000005,null,355.608,347.16,null,410.52000000000004,398.37600000000003,null,410.52000000000004,410.52000000000004,null,365.64000000000004,359.832,null,365.64000000000004,375.144,null,365.64000000000004,367.224,null,347.16,360.36,null,310.728,316.00800000000004,null,379.368,384.648,null,379.368,393.624,null,379.368,398.37600000000003,null,379.368,371.976,null,303.336,308.088,null,303.336,288.552,null,303.336,286.44,null,275.88,279.048,null,275.88,293.30400000000003,null,277.464,268.488,null,320.76,326.04,null,320.76,311.25600000000003,null,267.432,268.488,null,342.93600000000004,346.632,null,342.93600000000004,345.048,null,275.88,293.832,null,344.52000000000004,339.76800000000003,null,383.59200000000004,369.336,null,383.59200000000004,367.752,null,407.35200000000003,402.6,null,407.35200000000003,420.552,null,328.15200000000004,320.232,null,375.144,386.76,null,375.144,361.944,null,361.416,367.224,null,361.416,364.584,null,361.416,359.832,null,297.528,293.30400000000003,null,337.12800000000004,337.12800000000004,null,337.12800000000004,343.992,null,351.384,347.16,null,420.552,418.968,null,305.44800000000004,314.42400000000004,null,405.76800000000003,397.848,null,380.952,369.336,null,360.36,361.944,null,360.36,352.44,null,290.664,300.168,null,364.584,367.224,null,389.928,375.672,null,309.144,300.168,null,344.52000000000004,339.24,null,401.016,413.68800000000005,null,359.832,367.224,null,267.96000000000004,274.296,null,393.624,398.37600000000003,null,369.336,367.752,null,369.336,360.88800000000003,null,369.336,375.672,null,339.24,335.016,null,339.24,326.04,null,301.752,303.86400000000003,null,402.072,389.928,null],\"y\":[341.88,341.88,null,341.88,346.10400000000004,null,341.88,338.712,null,302.808,304.92,null,302.808,317.064,null,302.808,294.88800000000003,null,302.808,312.312,null,302.808,292.776,null,385.704,394.15200000000004,null,359.30400000000003,353.49600000000004,null,359.30400000000003,368.808,null,366.696,357.72,null,366.696,375.144,null,365.64000000000004,363.528,null,365.64000000000004,357.72,null,365.64000000000004,362.47200000000004,null,365.64000000000004,380.952,null,379.368,387.288,null,379.368,375.144,null,379.368,395.208,null,352.44,341.88,null,308.088,303.86400000000003,null,308.088,318.12,null,308.088,308.61600000000004,null,308.088,326.04,null,380.952,388.344,null,380.952,387.288,null,380.952,379.896,null,380.952,365.112,null,380.952,385.17600000000004,null,380.952,363.528,null,281.16,269.016,null,281.16,289.608,null,281.16,297.528,null,365.64000000000004,361.416,null,365.64000000000004,349.8,null,365.64000000000004,370.92,null,382.536,370.92,null,382.536,387.288,null,382.536,373.03200000000004,null,382.536,399.96000000000004,null,274.824,266.904,null,274.824,279.048,null,337.656,329.208,null,337.656,350.856,null,337.656,338.712,null,337.656,351.384,null,305.976,300.696,null,305.976,309.672,null,305.976,301.752,null,305.976,303.86400000000003,null,349.272,351.384,null,349.272,360.36,null,349.272,340.296,null,298.584,292.248,null,298.584,302.808,null,298.584,304.392,null,298.584,294.88800000000003,null,303.86400000000003,299.112,null,303.86400000000003,304.392,null,303.86400000000003,318.12,null,303.86400000000003,290.136,null,303.86400000000003,312.312,null,367.752,375.144,null,367.752,353.49600000000004,null,367.752,357.192,null,333.96000000000004,343.464,null,333.96000000000004,317.59200000000004,null,333.96000000000004,350.32800000000003,null,375.672,369.86400000000003,null,375.672,371.44800000000004,null,375.672,361.416,null,375.672,361.416,null,387.288,394.68,null,387.288,373.03200000000004,null,352.44,351.384,null,346.632,338.712,null,346.632,350.856,null,346.632,350.32800000000003,null,346.632,330.264,null,291.72,279.576,null,291.72,304.392,null,291.72,302.28000000000003,null,291.72,294.36,null,268.488,270.6,null,268.488,267.96000000000004,null,392.56800000000004,403.656,null,392.56800000000004,399.96000000000004,null,370.92,364.05600000000004,null,370.92,373.03200000000004,null,370.92,362.47200000000004,null,370.92,362.47200000000004,null,370.92,354.552,null,370.92,379.896,null,370.92,354.024,null,353.49600000000004,344.52000000000004,null,353.49600000000004,356.66400000000004,null,353.49600000000004,357.72,null,353.49600000000004,351.384,null,274.296,272.184,null,302.28000000000003,306.504,null,276.408,279.048,null,326.56800000000004,333.96000000000004,null,326.56800000000004,318.12,null,326.56800000000004,319.704,null,326.56800000000004,333.432,null,293.832,290.664,null,293.832,302.808,null,293.832,279.576,null,293.832,297.0,null,293.832,304.392,null,397.848,402.072,null,270.6,266.904,null,270.6,280.632,null,270.6,277.992,null,270.6,283.8,null,270.6,267.432,null,404.184,409.992,null,393.096,403.656,null,393.096,402.072,null,393.096,406.824,null,316.00800000000004,322.872,null,316.00800000000004,313.368,null,387.288,395.208,null,387.288,384.12,null,387.288,375.144,null,387.288,389.40000000000003,null,387.288,388.344,null,279.576,280.104,null,338.712,341.35200000000003,null,338.712,330.264,null,338.712,341.88,null,338.712,350.32800000000003,null,338.712,332.37600000000003,null,289.08000000000004,299.64,null,289.08000000000004,295.416,null,292.248,299.64,null,292.248,294.36,null,292.248,300.696,null,292.248,279.576,null,292.248,309.672,null,292.248,310.2,null,302.808,297.0,null,302.808,302.808,null,302.808,316.536,null,316.00800000000004,303.86400000000003,null,340.824,332.37600000000003,null,340.824,349.272,null,340.824,352.44,null,340.824,338.184,null,340.824,333.432,null,340.824,355.08000000000004,null,340.824,329.736,null,318.12,324.456,null,318.12,333.432,null,318.12,332.37600000000003,null,318.12,332.904,null,353.49600000000004,348.744,null,353.49600000000004,347.16,null,353.49600000000004,343.992,null,353.49600000000004,343.464,null,324.98400000000004,316.00800000000004,null,324.98400000000004,331.848,null,318.12,303.86400000000003,null,317.064,328.68,null,317.064,304.92,null,317.064,311.25600000000003,null,371.44800000000004,366.696,null,371.44800000000004,369.86400000000003,null,371.44800000000004,357.72,null,416.856,413.16,null,416.856,405.24,null,311.25600000000003,301.752,null,311.25600000000003,303.86400000000003,null,311.25600000000003,309.672,null,311.25600000000003,326.04,null,311.25600000000003,300.696,null,358.776,361.416,null,358.776,364.05600000000004,null,269.016,265.32,null,269.016,265.848,null,415.272,414.744,null,408.408,403.656,null,408.408,406.824,null,351.384,354.024,null,351.384,340.824,null,398.904,384.648,null,331.848,324.456,null,331.848,333.432,null,331.848,332.904,null,331.848,332.904,null,331.848,332.37600000000003,null,278.52000000000004,279.576,null,278.52000000000004,272.184,null,278.52000000000004,281.688,null,278.52000000000004,270.6,null,278.52000000000004,293.30400000000003,null,278.52000000000004,269.016,null,283.8,282.744,null,295.416,300.696,null,295.416,280.104,null,295.416,304.92,null,270.6,269.016,null,270.6,279.576,null,270.6,270.6,null,270.6,280.104,null,330.79200000000003,336.6,null,330.79200000000003,333.432,null,330.79200000000003,328.68,null,362.47200000000004,354.024,null,362.47200000000004,370.92,null,362.47200000000004,362.47200000000004,null,362.47200000000004,351.91200000000003,null,362.47200000000004,364.05600000000004,null,362.47200000000004,346.10400000000004,null,294.36,303.86400000000003,null,294.36,306.504,null,294.36,311.784,null,324.98400000000004,337.12800000000004,null,324.98400000000004,322.344,null,314.952,322.344,null,314.952,318.12,null,314.952,324.98400000000004,null,379.896,370.92,null,375.144,372.504,null,375.144,377.25600000000003,null,405.24,402.072,null,405.24,413.68800000000005,null,419.49600000000004,404.184,null,419.49600000000004,418.44,null,381.48,384.648,null,381.48,372.504,null,381.48,391.512,null,292.248,297.0,null,292.248,282.744,null,292.248,302.808,null,349.8,341.88,null,349.8,337.12800000000004,null,349.8,340.296,null,350.32800000000003,357.192,null,350.32800000000003,357.192,null,408.93600000000004,394.68,null,408.93600000000004,400.488,null,399.96000000000004,406.824,null,399.96000000000004,406.824,null,399.96000000000004,402.072,null,399.96000000000004,405.24,null,399.96000000000004,403.656,null,411.048,412.632,null,411.048,398.37600000000003,null,411.048,409.992,null,411.048,407.88,null,380.42400000000004,389.40000000000003,null,380.42400000000004,398.37600000000003,null,397.32,388.344,null,397.32,386.76,null,397.32,407.88,null,375.144,384.12,null,375.144,367.752,null,375.144,359.30400000000003,null,414.216,419.49600000000004,null,414.216,403.656,null,299.112,304.392,null,299.112,304.92,null,299.112,312.312,null,299.112,302.808,null,356.66400000000004,354.024,null,356.66400000000004,354.552,null,303.86400000000003,312.84000000000003,null,303.86400000000003,305.44800000000004,null,303.86400000000003,291.72,null,350.856,353.49600000000004,null,388.344,389.40000000000003,null,388.344,376.20000000000005,null,388.344,396.79200000000003,null,388.344,395.208,null,388.344,385.704,null,405.24,414.744,null,405.24,396.79200000000003,null,405.24,394.68,null,376.20000000000005,367.752,null,328.68,332.37600000000003,null,328.68,333.432,null,328.68,327.624,null,328.68,329.736,null,328.68,316.536,null,328.68,332.904,null,328.68,314.952,null,346.632,355.08000000000004,null,346.632,351.91200000000003,null,346.632,358.248,null,346.632,333.432,null,346.632,363.528,null,346.632,332.904,null,346.632,340.824,null,346.632,332.37600000000003,null,346.632,362.47200000000004,null,392.04,394.68,null,392.04,386.76,null,392.04,394.68,null,392.04,378.84000000000003,null,392.04,376.728,null,288.024,300.696,null,288.024,292.776,null,333.432,332.37600000000003,null,333.432,336.6,null,333.432,327.624,null,333.432,316.536,null,321.81600000000003,317.59200000000004,null,321.81600000000003,310.2,null,321.81600000000003,304.92,null,311.25600000000003,309.672,null,311.25600000000003,310.2,null,311.25600000000003,299.64,null,337.12800000000004,344.52000000000004,null,348.744,343.992,null,348.744,357.192,null,348.744,348.216,null,348.744,335.54400000000004,null,348.744,359.30400000000003,null,348.744,335.54400000000004,null,264.264,272.184,null,314.952,319.704,null,314.952,312.84000000000003,null,314.952,318.12,null,297.0,300.696,null,297.0,295.416,null,297.0,309.672,null,365.64000000000004,362.47200000000004,null,365.64000000000004,363.528,null,365.64000000000004,370.92,null,365.64000000000004,354.552,null,365.64000000000004,364.05600000000004,null,365.64000000000004,354.024,null,394.15200000000004,402.6,null,394.15200000000004,396.79200000000003,null,395.208,387.288,null,395.208,393.096,null,395.208,389.40000000000003,null,395.208,384.12,null,330.264,320.232,null,330.264,339.24,null,405.24,404.184,null,405.24,394.68,null,405.24,418.44,null,405.24,392.56800000000004,null,405.24,402.6,null,316.536,316.00800000000004,null,316.536,302.808,null,341.35200000000003,341.88,null,341.35200000000003,343.464,null,308.61600000000004,318.12,null,308.61600000000004,318.12,null,281.688,279.576,null,281.688,269.016,null,281.688,290.136,null,281.688,280.104,null,281.688,284.856,null,378.84000000000003,373.03200000000004,null,378.84000000000003,378.84000000000003,null,378.84000000000003,377.784,null,378.84000000000003,394.15200000000004,null,335.54400000000004,327.624,null,411.048,402.6,null,392.56800000000004,403.12800000000004,null,392.56800000000004,391.512,null,392.56800000000004,404.184,null,392.56800000000004,402.6,null,277.992,283.8,null,361.416,348.216,null,361.416,366.696,null,333.96000000000004,333.432,null,333.96000000000004,346.10400000000004,null,349.272,355.08000000000004,null,349.272,332.37600000000003,null,358.248,363.528,null,358.248,362.47200000000004,null,358.248,352.44,null,339.24,326.04,null,339.24,330.264,null,304.392,302.808,null,304.392,304.92,null,412.10400000000004,409.992,null,412.10400000000004,398.37600000000003,null,370.392,375.144,null,370.392,367.224,null,301.224,290.136,null,284.32800000000003,269.54400000000004,null,284.32800000000003,272.184,null,284.32800000000003,280.632,null,284.32800000000003,266.904,null,284.32800000000003,281.16,null,300.696,305.44800000000004,null,300.696,312.84000000000003,null,300.696,317.59200000000004,null,281.16,290.136,null,281.16,266.904,null,279.048,287.49600000000004,null,279.048,274.824,null,279.048,268.488,null,279.048,265.32,null,304.92,304.92,null,360.36,360.36,null,360.36,360.88800000000003,null,360.36,373.03200000000004,null,360.36,350.856,null,360.36,359.30400000000003,null,360.36,369.86400000000003,null,299.64,309.672,null,299.64,304.92,null,299.64,292.776,null,322.344,311.784,null,322.344,340.824,null,351.384,360.36,null,351.384,360.88800000000003,null,351.384,334.488,null,292.776,294.36,null,292.776,285.91200000000003,null,292.776,279.576,null,292.776,309.672,null,292.776,279.048,null,374.61600000000004,387.288,null,374.61600000000004,370.92,null,374.61600000000004,363.0,null,374.61600000000004,373.03200000000004,null,352.44,355.08000000000004,null,352.44,357.72,null,352.44,363.528,null,268.488,275.35200000000003,null,268.488,276.408,null,270.6,282.744,null,304.392,302.808,null,304.392,312.312,null,304.392,305.44800000000004,null,304.392,322.344,null,287.49600000000004,294.88800000000003,null,287.49600000000004,295.416,null,287.49600000000004,303.86400000000003,null,287.49600000000004,289.08000000000004,null,405.76800000000003,414.744,null,405.76800000000003,404.184,null,340.296,348.216,null,340.296,322.872,null,406.824,411.576,null,406.824,394.68,null,406.824,415.8,null,399.96000000000004,403.12800000000004,null,399.96000000000004,396.79200000000003,null,373.03200000000004,370.92,null,373.03200000000004,364.05600000000004,null,373.03200000000004,377.25600000000003,null,282.744,290.664,null,383.064,378.84000000000003,null,383.064,377.784,null,383.064,394.15200000000004,null,383.064,388.344,null,377.25600000000003,367.752,null,324.456,317.59200000000004,null,293.30400000000003,290.136,null,293.30400000000003,279.576,null,335.54400000000004,334.488,null,335.54400000000004,347.16,null,335.54400000000004,327.624,null,377.25600000000003,364.05600000000004,null,414.744,413.16,null,332.904,340.824,null,332.904,316.00800000000004,null,380.952,373.03200000000004,null,380.952,369.86400000000003,null,380.952,400.488,null,359.30400000000003,376.728,null,276.408,276.408,null,342.408,350.856,null,342.408,329.208,null,340.824,336.6,null,340.824,337.12800000000004,null,340.824,354.552,null,340.824,354.024,null,340.824,346.10400000000004,null,340.824,341.88,null,361.416,368.808,null,361.416,368.808,null,398.37600000000003,407.88,null,383.59200000000004,387.288,null,392.04,398.37600000000003,null,400.488,387.81600000000003,null,400.488,394.68,null,357.72,344.52000000000004,null,357.72,367.752,null,360.36,373.03200000000004,null,360.36,367.224,null,360.36,350.856,null,360.36,345.048,null,402.6,412.10400000000004,null,402.6,416.32800000000003,null,402.6,402.072,null,330.264,320.232,null,330.264,326.04,null,330.264,333.96000000000004,null,340.824,344.52000000000004,null,340.824,354.552,null,285.384,290.136,null,346.10400000000004,341.88,null,346.10400000000004,354.552,null,346.10400000000004,337.12800000000004,null,327.624,334.488,null,327.624,343.992,null,327.624,317.59200000000004,null,266.904,266.904,null,266.904,283.8,null,332.37600000000003,329.208,null,322.872,338.184,null,368.808,368.808,null,293.30400000000003,284.856,null,293.30400000000003,298.05600000000004,null,387.81600000000003,394.68,null,387.81600000000003,373.03200000000004,null,387.81600000000003,384.12,null,387.81600000000003,378.84000000000003,null,319.704,329.208,null,319.704,320.232,null,319.704,307.56,null,319.704,313.368,null,319.704,303.336,null,292.776,294.36,null,292.776,279.048,null,292.776,279.576,null,287.49600000000004,289.08000000000004,null,397.848,393.096,null,397.848,398.37600000000003,null,304.92,302.808,null,354.552,354.024,null,354.552,351.91200000000003,null,354.552,362.47200000000004,null,354.552,370.92,null,354.552,337.12800000000004,null,322.344,330.264,null,322.344,324.98400000000004,null,322.344,326.56800000000004,null,322.344,314.42400000000004,null,307.56,311.25600000000003,null,307.56,313.368,null,365.64000000000004,357.72,null,341.88,337.12800000000004,null,341.88,328.68,null,341.88,323.928,null,334.488,340.296,null,334.488,333.432,null,269.016,264.79200000000003,null,269.016,278.52000000000004,null,297.0,302.808,null,297.0,290.664,null,366.696,359.30400000000003,null,366.696,350.856,null,366.696,373.03200000000004,null,366.696,360.88800000000003,null,360.88800000000003,373.03200000000004,null,360.88800000000003,369.86400000000003,null,360.88800000000003,367.224,null,360.88800000000003,350.856,null,360.88800000000003,345.576,null,394.68,399.432,null,394.68,402.6,null,379.896,370.92,null,379.896,362.47200000000004,null,379.896,363.528,null,364.05600000000004,364.05600000000004,null,364.05600000000004,370.92,null,311.25600000000003,303.336,null,311.25600000000003,313.368,null,311.25600000000003,321.81600000000003,null,416.32800000000003,412.10400000000004,null,394.68,388.344,null,394.68,378.84000000000003,null,313.368,309.672,null,313.368,301.752,null,313.368,300.696,null,340.296,341.88,null,340.296,349.272,null,333.96000000000004,318.12,null,333.96000000000004,326.04,null,320.232,329.208,null,320.232,309.672,null,332.904,316.00800000000004,null,396.79200000000003,394.15200000000004,null,338.712,328.68,null,338.712,347.16,null,324.456,316.00800000000004,null,399.432,404.184,null,309.144,309.672,null,367.752,357.192,null,330.264,332.37600000000003,null,330.264,318.12,null,309.672,303.86400000000003,null,321.81600000000003,319.704,null,321.81600000000003,313.368,null,367.752,376.728,null,403.12800000000004,414.744,null,403.12800000000004,402.6,null,350.856,345.576,null,350.856,356.136,null,350.856,350.856,null,350.856,338.712,null,354.024,344.52000000000004,null,275.35200000000003,265.848,null,275.35200000000003,265.32,null,309.672,310.2,null,309.672,294.36,null,329.208,345.576,null,406.824,415.8,null,406.824,411.576,null,406.824,402.072,null,406.824,403.656,null,310.2,312.84000000000003,null,302.808,310.728,null,302.808,294.88800000000003,null,302.808,312.312,null,312.312,322.344,null,298.05600000000004,308.61600000000004,null,294.36,285.91200000000003,null,313.368,319.704,null,313.368,303.336,null,272.184,280.104,null,272.184,279.576,null,279.048,285.91200000000003,null,279.048,283.8,null,343.992,348.216,null,343.992,347.16,null,354.024,351.91200000000003,null,354.024,362.47200000000004,null,301.752,294.88800000000003,null,301.752,289.08000000000004,null,301.752,304.92,null,326.56800000000004,314.42400000000004,null,332.37600000000003,327.624,null,332.37600000000003,329.736,null,332.37600000000003,329.736,null,332.37600000000003,338.184,null,290.136,302.808,null,290.136,279.576,null,418.44,404.184,null,367.224,373.03200000000004,null,367.224,359.30400000000003,null,363.528,355.08000000000004,null,363.528,365.112,null,363.528,351.91200000000003,null,363.528,370.92,null,343.464,348.216,null,343.464,357.192,null,276.408,289.608,null,304.392,306.504,null,304.392,303.86400000000003,null,361.416,369.86400000000003,null,267.432,269.016,null,412.632,407.88,null,412.632,413.68800000000005,null,329.736,329.736,null,329.736,344.52000000000004,null,390.98400000000004,402.072,null,323.928,312.312,null,323.928,337.12800000000004,null,323.928,322.344,null,328.68,322.344,null,328.68,312.312,null,308.61600000000004,318.12,null,303.336,289.608,null,376.728,386.76,null,376.728,389.40000000000003,null,376.728,394.68,null,403.656,402.072,null,403.656,411.576,null,403.656,396.264,null,403.656,394.68,null,314.42400000000004,318.12,null,300.696,294.88800000000003,null,337.12800000000004,341.88,null,337.12800000000004,349.272,null,337.12800000000004,336.6,null,349.8,347.16,null,396.264,387.288,null,396.264,402.072,null,396.264,411.576,null,290.664,302.808,null,318.12,324.98400000000004,null,388.344,378.84000000000003,null,388.344,386.76,null,388.344,394.68,null,367.752,369.86400000000003,null,265.32,272.184,null,389.40000000000003,386.76,null,389.40000000000003,407.88,null,300.168,286.968,null,300.168,295.416,null,300.168,302.808,null,289.08000000000004,303.86400000000003,null,266.904,270.6,null,384.12,378.84000000000003,null,384.12,394.68,null,384.12,386.76,null,384.12,373.03200000000004,null,347.16,361.416,null,347.16,348.216,null,347.16,357.192,null,305.44800000000004,317.59200000000004,null,305.44800000000004,312.84000000000003,null,384.12,396.79200000000003,null,372.504,366.696,null,372.504,368.808,null,385.704,396.79200000000003,null,419.49600000000004,411.576,null,419.49600000000004,402.072,null,389.40000000000003,393.096,null,310.728,322.344,null,355.08000000000004,362.47200000000004,null,355.08000000000004,351.91200000000003,null,338.184,329.736,null,338.184,348.216,null,312.312,302.808,null,295.416,298.584,null,295.416,294.88800000000003,null,305.44800000000004,302.808,null,305.44800000000004,316.00800000000004,null,305.44800000000004,286.968,null,301.752,312.84000000000003,null,384.648,393.096,null,384.648,375.144,null,274.824,272.184,null,402.072,415.8,null,279.576,285.91200000000003,null,354.552,344.52000000000004,null,365.112,362.47200000000004,null,303.86400000000003,294.88800000000003,null,303.86400000000003,304.92,null,404.184,402.6,null,316.00800000000004,302.808,null,377.784,367.752,null,414.744,402.6,null,349.272,364.05600000000004,null,366.696,369.86400000000003,null,286.968,302.808,null,332.37600000000003,324.98400000000004,null,394.68,386.76,null,362.47200000000004,351.91200000000003,null,362.47200000000004,370.92,null,362.47200000000004,367.752,null,364.05600000000004,348.744,null,364.05600000000004,366.696,null,319.704,318.12,null,413.68800000000005,419.49600000000004,null],\"z\":[77.352,67.32000000000001,null,77.352,72.60000000000001,null,77.352,77.352,null,84.21600000000001,79.992,null,84.21600000000001,78.408,null,84.21600000000001,81.048,null,84.21600000000001,76.824,null,84.21600000000001,70.488,null,66.792,68.904,null,53.064,61.512,null,53.064,42.504000000000005,null,11.352,18.744,null,11.352,10.296000000000001,null,78.936,77.88000000000001,null,78.936,68.376,null,78.936,75.24000000000001,null,78.936,85.8,null,81.57600000000001,75.24000000000001,null,81.57600000000001,71.544,null,81.57600000000001,74.184,null,56.760000000000005,44.088,null,30.360000000000003,45.144000000000005,null,30.360000000000003,35.64,null,30.360000000000003,21.912000000000003,null,30.360000000000003,29.832,null,85.8,88.968,null,85.8,82.104,null,85.8,76.296,null,85.8,90.552,null,85.8,85.8,null,85.8,77.88000000000001,null,21.912000000000003,33.528,null,21.912000000000003,24.024,null,21.912000000000003,14.520000000000001,null,82.632,77.88000000000001,null,82.632,77.88000000000001,null,82.632,69.96000000000001,null,72.60000000000001,78.408,null,72.60000000000001,60.456,null,72.60000000000001,72.60000000000001,null,72.60000000000001,76.296,null,82.104,73.128,null,82.104,82.632,null,10.824,11.88,null,10.824,14.520000000000001,null,10.824,29.832,null,10.824,15.048,null,13.992,18.744,null,13.992,18.744,null,13.992,25.608,null,13.992,32.472,null,27.192,27.192,null,27.192,31.944000000000003,null,27.192,40.392,null,84.744,81.57600000000001,null,84.744,83.688,null,84.744,75.24000000000001,null,84.744,81.048,null,45.144000000000005,56.760000000000005,null,45.144000000000005,62.568000000000005,null,45.144000000000005,35.64,null,45.144000000000005,38.28,null,45.144000000000005,63.096000000000004,null,66.792,71.544,null,66.792,61.512,null,66.792,76.824,null,69.96000000000001,58.344,null,69.96000000000001,59.928000000000004,null,69.96000000000001,81.048,null,84.21600000000001,83.688,null,84.21600000000001,73.656,null,84.21600000000001,87.912,null,84.21600000000001,94.77600000000001,null,60.456,64.152,null,60.456,72.60000000000001,null,29.832,39.864000000000004,null,36.168,37.752,null,36.168,26.664,null,36.168,28.248,null,36.168,29.304000000000002,null,76.296,75.768,null,76.296,71.016,null,76.296,85.8,null,76.296,60.984,null,67.32000000000001,68.376,null,67.32000000000001,49.368,null,83.16000000000001,68.904,null,83.16000000000001,76.296,null,69.96000000000001,62.040000000000006,null,69.96000000000001,72.60000000000001,null,69.96000000000001,81.048,null,69.96000000000001,75.24000000000001,null,69.96000000000001,69.432,null,69.96000000000001,85.272,null,69.96000000000001,78.408,null,55.704,58.344,null,55.704,53.064,null,55.704,68.376,null,55.704,39.864000000000004,null,63.096000000000004,48.312000000000005,null,85.8,71.544,null,81.57600000000001,82.632,null,34.584,37.752,null,34.584,28.776,null,34.584,37.752,null,34.584,51.480000000000004,null,75.768,71.544,null,75.768,78.408,null,75.768,75.768,null,75.768,85.272,null,75.768,71.016,null,73.656,84.744,null,68.376,59.928000000000004,null,68.376,64.152,null,68.376,79.992,null,68.376,72.072,null,68.376,83.688,null,59.928000000000004,44.616,null,74.184,75.24000000000001,null,74.184,84.21600000000001,null,74.184,73.656,null,88.968,86.85600000000001,null,88.968,83.16000000000001,null,75.24000000000001,74.184,null,75.24000000000001,76.296,null,75.24000000000001,71.544,null,75.24000000000001,67.32000000000001,null,75.24000000000001,76.296,null,75.768,76.824,null,37.752,44.616,null,37.752,29.304000000000002,null,37.752,44.088,null,37.752,28.248,null,37.752,27.720000000000002,null,79.992,81.048,null,79.992,68.904,null,73.656,81.048,null,73.656,81.048,null,73.656,65.736,null,73.656,81.048,null,73.656,78.936,null,73.656,66.26400000000001,null,78.408,85.272,null,78.408,72.60000000000001,null,78.408,66.792,null,50.952000000000005,57.288000000000004,null,84.744,79.992,null,84.744,88.968,null,84.744,78.408,null,84.744,81.57600000000001,null,84.744,74.184,null,84.744,77.88000000000001,null,84.744,71.016,null,83.688,85.272,null,83.688,74.184,null,83.688,79.992,null,83.688,73.128,null,61.512,71.544,null,61.512,70.488,null,61.512,69.96000000000001,null,61.512,58.344,null,83.688,73.128,null,83.688,85.272,null,52.008,57.288000000000004,null,78.408,73.128,null,78.408,79.992,null,78.408,79.464,null,73.656,75.768,null,73.656,83.688,null,73.656,68.376,null,55.704,44.616,null,55.704,60.984,null,26.664,25.608,null,26.664,32.472,null,26.664,18.744,null,26.664,29.832,null,26.664,18.744,null,54.648,53.592000000000006,null,54.648,57.288000000000004,null,25.608,33.528,null,25.608,10.296000000000001,null,30.360000000000003,23.496000000000002,null,82.104,68.904,null,82.104,86.328,null,39.864000000000004,52.536,null,39.864000000000004,48.312000000000005,null,15.576,17.16,null,85.272,85.272,null,85.272,74.184,null,85.272,73.128,null,85.272,81.048,null,85.272,79.992,null,40.92,45.144000000000005,null,40.92,48.312000000000005,null,40.92,34.584,null,40.92,41.448,null,40.92,36.168,null,40.92,33.528,null,72.072,83.16000000000001,null,68.904,65.736,null,68.904,76.296,null,68.904,83.16000000000001,null,41.448,33.528,null,41.448,45.144000000000005,null,41.448,52.008,null,41.448,48.84,null,58.872,60.984,null,58.872,74.184,null,58.872,73.128,null,81.048,78.408,null,81.048,78.408,null,81.048,75.24000000000001,null,81.048,79.992,null,81.048,62.040000000000006,null,81.048,72.60000000000001,null,60.984,57.288000000000004,null,60.984,71.544,null,60.984,52.536,null,60.984,63.096000000000004,null,60.984,77.352,null,22.968,20.856,null,22.968,22.968,null,22.968,11.88,null,85.272,78.408,null,42.504000000000005,33.528,null,42.504000000000005,54.648,null,74.712,84.744,null,74.712,62.040000000000006,null,27.192,22.44,null,27.192,10.296000000000001,null,17.16,17.16,null,17.16,33.528,null,17.16,24.024,null,81.57600000000001,85.272,null,81.57600000000001,83.16000000000001,null,81.57600000000001,72.60000000000001,null,53.592000000000006,50.952000000000005,null,53.592000000000006,63.096000000000004,null,53.592000000000006,40.392,null,81.048,76.824,null,81.048,68.904,null,17.16,24.552,null,17.16,29.832,null,76.296,73.656,null,76.296,86.328,null,76.296,84.21600000000001,null,76.296,60.984,null,76.296,75.24000000000001,null,28.776,23.496000000000002,null,28.776,24.024,null,28.776,44.616,null,28.776,13.464,null,24.024,11.352,null,24.024,24.024,null,25.080000000000002,28.776,null,25.080000000000002,13.464,null,25.080000000000002,13.464,null,71.544,76.296,null,71.544,81.048,null,71.544,62.568000000000005,null,73.128,75.768,null,73.128,75.24000000000001,null,56.760000000000005,62.568000000000005,null,56.760000000000005,49.896,null,56.760000000000005,63.096000000000004,null,56.760000000000005,49.368,null,53.064,52.536,null,53.064,62.568000000000005,null,43.56,58.344,null,43.56,57.816,null,43.56,48.312000000000005,null,26.664,15.048,null,76.296,67.32000000000001,null,76.296,79.464,null,76.296,64.68,null,76.296,74.184,null,76.296,57.816,null,60.984,56.760000000000005,null,60.984,61.512,null,60.984,64.152,null,79.464,81.048,null,73.128,79.992,null,73.128,74.184,null,73.128,87.384,null,73.128,71.016,null,73.128,66.792,null,73.128,73.128,null,73.128,63.624,null,79.464,77.88000000000001,null,79.464,79.992,null,79.464,86.85600000000001,null,79.464,74.184,null,79.464,77.88000000000001,null,79.464,73.128,null,79.464,69.432,null,79.464,79.992,null,79.464,75.24000000000001,null,21.384,12.408000000000001,null,21.384,13.464,null,21.384,24.552,null,21.384,29.832,null,21.384,12.936,null,58.344,65.736,null,58.344,72.072,null,74.184,79.992,null,74.184,60.984,null,74.184,87.384,null,74.184,66.792,null,73.128,59.928000000000004,null,73.128,66.26400000000001,null,73.128,83.16000000000001,null,79.464,78.936,null,79.464,66.26400000000001,null,79.464,81.048,null,60.984,58.344,null,71.544,69.96000000000001,null,71.544,68.904,null,71.544,58.872,null,71.544,70.488,null,71.544,62.568000000000005,null,71.544,82.632,null,63.096000000000004,48.312000000000005,null,43.56,37.752,null,43.56,58.344,null,43.56,28.776,null,19.272000000000002,18.744,null,19.272000000000002,37.224000000000004,null,19.272000000000002,18.744,null,67.32000000000001,75.24000000000001,null,67.32000000000001,77.88000000000001,null,67.32000000000001,78.408,null,67.32000000000001,69.432,null,67.32000000000001,62.040000000000006,null,67.32000000000001,78.408,null,68.904,78.936,null,68.904,61.512,null,39.336,39.864000000000004,null,74.184,69.96000000000001,null,74.184,67.32000000000001,null,74.184,76.296,null,15.576,11.88,null,15.576,32.472,null,13.464,22.44,null,13.464,14.520000000000001,null,13.464,10.296000000000001,null,13.464,11.88,null,13.464,27.720000000000002,null,66.792,73.128,null,66.792,72.60000000000001,null,44.616,44.088,null,44.616,58.344,null,21.912000000000003,35.64,null,21.912000000000003,28.776,null,34.584,45.144000000000005,null,34.584,33.528,null,34.584,38.28,null,34.584,48.84,null,34.584,16.632,null,39.864000000000004,29.832,null,39.864000000000004,29.832,null,39.864000000000004,49.368,null,39.864000000000004,50.424,null,70.488,74.712,null,81.048,78.936,null,11.88,12.936,null,11.88,24.024,null,11.88,22.44,null,11.88,27.720000000000002,null,79.992,78.936,null,87.912,77.88000000000001,null,87.912,75.768,null,13.992,10.296000000000001,null,13.992,16.632,null,88.968,77.88000000000001,null,88.968,79.992,null,86.85600000000001,77.88000000000001,null,86.85600000000001,75.24000000000001,null,86.85600000000001,78.408,null,32.472,29.832,null,32.472,20.328,null,62.568000000000005,49.368,null,62.568000000000005,79.992,null,34.056000000000004,44.616,null,34.056000000000004,24.024,null,20.328,10.296000000000001,null,20.328,17.16,null,45.672000000000004,38.28,null,54.120000000000005,48.84,null,54.120000000000005,44.088,null,54.120000000000005,64.152,null,54.120000000000005,59.928000000000004,null,54.120000000000005,52.536,null,65.736,57.816,null,65.736,58.344,null,65.736,59.928000000000004,null,52.536,38.28,null,52.536,60.984,null,25.608,35.112,null,25.608,28.776,null,25.608,14.520000000000001,null,25.608,33.528,null,49.896,43.032000000000004,null,24.024,31.944000000000003,null,24.024,30.888,null,24.024,29.832,null,24.024,14.520000000000001,null,24.024,11.352,null,24.024,39.864000000000004,null,81.048,78.936,null,81.048,83.16000000000001,null,81.048,72.072,null,48.84,52.536,null,48.84,48.312000000000005,null,27.192,31.944000000000003,null,27.192,30.888,null,27.192,28.248,null,72.072,81.048,null,72.072,77.352,null,72.072,81.048,null,72.072,78.936,null,72.072,82.632,null,75.24000000000001,85.272,null,75.24000000000001,69.96000000000001,null,75.24000000000001,90.024,null,75.24000000000001,72.60000000000001,null,78.408,77.88000000000001,null,78.408,68.376,null,78.408,77.88000000000001,null,14.520000000000001,17.688000000000002,null,14.520000000000001,13.464,null,84.744,83.16000000000001,null,75.24000000000001,83.688,null,75.24000000000001,76.824,null,75.24000000000001,65.736,null,75.24000000000001,77.352,null,35.112,36.696000000000005,null,35.112,37.224000000000004,null,35.112,32.472,null,35.112,33.528,null,26.136000000000003,23.496000000000002,null,26.136000000000003,22.44,null,81.048,77.88000000000001,null,81.048,86.85600000000001,null,73.656,81.048,null,73.656,64.152,null,73.656,75.768,null,47.784,62.568000000000005,null,47.784,64.68,null,72.60000000000001,78.408,null,72.60000000000001,57.288000000000004,null,72.60000000000001,54.648,null,83.16000000000001,71.544,null,40.92,29.832,null,40.92,49.368,null,40.92,50.424,null,40.92,28.776,null,59.400000000000006,57.816,null,50.952000000000005,59.928000000000004,null,36.168,38.28,null,36.168,45.144000000000005,null,82.632,87.912,null,82.632,70.488,null,82.632,74.712,null,54.648,57.288000000000004,null,56.760000000000005,44.616,null,73.128,69.432,null,73.128,73.128,null,33.528,29.832,null,33.528,39.864000000000004,null,33.528,29.832,null,11.88,12.936,null,13.464,26.136000000000003,null,15.048,14.520000000000001,null,15.048,11.88,null,69.432,60.984,null,69.432,63.096000000000004,null,69.432,69.432,null,69.432,78.408,null,69.432,72.60000000000001,null,69.432,50.952000000000005,null,53.592000000000006,45.144000000000005,null,53.592000000000006,42.504000000000005,null,24.024,13.464,null,55.704,65.736,null,50.952000000000005,47.784,null,29.832,27.192,null,29.832,24.552,null,68.376,58.344,null,68.376,83.688,null,31.944000000000003,29.832,null,31.944000000000003,17.16,null,31.944000000000003,18.216,null,31.944000000000003,43.032000000000004,null,78.936,81.57600000000001,null,78.936,89.49600000000001,null,78.936,84.744,null,20.328,11.88,null,20.328,29.832,null,20.328,37.752,null,48.312000000000005,58.344,null,48.312000000000005,62.568000000000005,null,34.584,38.28,null,72.60000000000001,67.32000000000001,null,72.60000000000001,69.432,null,72.60000000000001,63.096000000000004,null,74.712,87.912,null,74.712,69.96000000000001,null,74.712,59.928000000000004,null,73.128,60.984,null,73.128,78.936,null,10.296000000000001,11.88,null,86.85600000000001,81.57600000000001,null,42.504000000000005,45.144000000000005,null,13.992,16.632,null,13.992,21.384,null,27.192,24.552,null,27.192,29.832,null,27.192,15.048,null,27.192,29.832,null,15.048,11.88,null,15.048,21.384,null,15.048,11.352,null,15.048,17.16,null,15.048,19.272000000000002,null,70.488,81.048,null,70.488,82.632,null,70.488,81.048,null,24.024,33.528,null,60.456,69.96000000000001,null,60.456,47.784,null,79.992,83.688,null,69.432,78.408,null,69.432,79.992,null,69.432,75.24000000000001,null,69.432,78.408,null,69.432,63.096000000000004,null,20.856,29.304000000000002,null,20.856,11.88,null,20.856,17.688000000000002,null,20.856,10.824,null,11.352,28.776,null,11.352,17.16,null,19.8,18.744,null,67.32000000000001,63.096000000000004,null,67.32000000000001,73.128,null,67.32000000000001,58.872,null,28.248,40.392,null,28.248,10.296000000000001,null,33.528,22.968,null,33.528,45.144000000000005,null,85.272,72.60000000000001,null,85.272,71.544,null,13.464,11.352,null,13.464,14.520000000000001,null,13.464,29.832,null,13.464,30.888,null,30.888,29.832,null,30.888,39.864000000000004,null,30.888,17.16,null,30.888,18.216,null,30.888,21.912000000000003,null,14.520000000000001,21.384,null,14.520000000000001,27.720000000000002,null,76.296,78.408,null,76.296,75.24000000000001,null,76.296,77.88000000000001,null,62.040000000000006,57.288000000000004,null,62.040000000000006,78.408,null,28.776,19.272000000000002,null,28.776,17.16,null,28.776,31.416,null,89.49600000000001,81.57600000000001,null,24.552,28.776,null,24.552,29.832,null,15.048,18.744,null,15.048,25.608,null,15.048,18.744,null,40.392,50.952000000000005,null,40.392,53.064,null,37.752,35.64,null,37.752,29.832,null,21.384,11.88,null,21.384,18.744,null,81.048,73.128,null,61.512,50.424,null,77.352,73.128,null,77.352,70.488,null,85.272,73.128,null,21.384,22.44,null,19.272000000000002,18.744,null,81.048,76.824,null,29.304000000000002,27.720000000000002,null,29.304000000000002,22.968,null,18.744,32.472,null,31.416,24.024,null,31.416,17.16,null,25.080000000000002,12.936,null,12.936,23.496000000000002,null,12.936,27.720000000000002,null,14.520000000000001,21.912000000000003,null,14.520000000000001,22.44,null,14.520000000000001,18.216,null,14.520000000000001,29.832,null,52.536,58.344,null,17.688000000000002,10.296000000000001,null,17.688000000000002,33.528,null,78.936,66.26400000000001,null,78.936,81.048,null,11.88,21.912000000000003,null,86.328,75.768,null,86.328,81.048,null,86.328,84.21600000000001,null,86.328,68.904,null,66.26400000000001,58.344,null,83.688,82.632,null,83.688,81.048,null,83.688,76.824,null,76.824,77.352,null,21.384,32.472,null,81.048,77.352,null,17.16,24.024,null,17.16,19.272000000000002,null,48.312000000000005,48.84,null,48.312000000000005,45.144000000000005,null,82.632,77.352,null,82.632,78.936,null,69.96000000000001,58.872,null,69.96000000000001,70.488,null,78.408,79.992,null,78.408,75.24000000000001,null,25.608,36.696000000000005,null,25.608,33.528,null,25.608,43.032000000000004,null,17.688000000000002,10.824,null,79.992,87.384,null,79.992,85.8,null,79.992,71.016,null,79.992,81.57600000000001,null,38.28,49.368,null,38.28,45.144000000000005,null,10.296000000000001,22.44,null,17.16,29.832,null,17.16,11.352,null,77.88000000000001,77.88000000000001,null,77.88000000000001,90.552,null,77.88000000000001,79.992,null,77.88000000000001,78.408,null,58.344,58.872,null,58.344,68.904,null,26.136000000000003,24.024,null,71.016,71.544,null,71.016,57.288000000000004,null,94.77600000000001,83.688,null,45.144000000000005,33.528,null,23.496000000000002,13.464,null,23.496000000000002,10.824,null,71.016,85.8,null,71.016,58.344,null,82.632,84.744,null,58.872,63.096000000000004,null,58.872,63.096000000000004,null,58.872,77.352,null,73.128,77.352,null,73.128,63.096000000000004,null,32.472,28.776,null,19.272000000000002,24.024,null,12.936,13.464,null,12.936,11.352,null,12.936,12.408000000000001,null,75.24000000000001,84.21600000000001,null,75.24000000000001,81.048,null,75.24000000000001,84.744,null,75.24000000000001,64.152,null,10.824,28.776,null,18.744,36.696000000000005,null,63.096000000000004,50.952000000000005,null,63.096000000000004,53.064,null,63.096000000000004,60.984,null,77.88000000000001,70.488,null,84.744,85.272,null,84.744,84.21600000000001,null,84.744,81.048,null,71.544,72.60000000000001,null,22.968,11.88,null,28.776,29.832,null,28.776,13.464,null,28.776,12.408000000000001,null,83.688,83.688,null,33.528,44.088,null,11.352,13.464,null,11.352,13.464,null,53.064,64.152,null,53.064,37.224000000000004,null,53.064,72.60000000000001,null,33.528,32.472,null,60.984,52.008,null,15.048,29.832,null,15.048,12.408000000000001,null,15.048,13.464,null,15.048,29.832,null,70.488,77.88000000000001,null,70.488,58.872,null,70.488,68.904,null,57.816,59.928000000000004,null,57.816,58.344,null,76.296,64.68,null,33.528,43.56,null,33.528,45.144000000000005,null,57.816,64.68,null,75.768,81.048,null,75.768,84.21600000000001,null,67.32000000000001,69.96000000000001,null,82.632,77.352,null,77.88000000000001,75.24000000000001,null,77.88000000000001,79.992,null,81.57600000000001,85.8,null,81.57600000000001,77.88000000000001,null,63.096000000000004,49.368,null,37.224000000000004,37.752,null,37.224000000000004,36.696000000000005,null,65.736,72.60000000000001,null,65.736,73.128,null,65.736,64.152,null,46.2,58.344,null,17.16,10.296000000000001,null,17.16,10.296000000000001,null,28.776,44.088,null,84.744,91.608,null,81.048,77.352,null,62.568000000000005,58.344,null,90.552,75.24000000000001,null,32.472,36.696000000000005,null,32.472,43.032000000000004,null,22.44,27.720000000000002,null,73.128,72.60000000000001,null,49.368,57.816,null,23.496000000000002,27.720000000000002,null,53.064,57.288000000000004,null,75.768,83.688,null,64.152,72.60000000000001,null,27.720000000000002,11.88,null,12.408000000000001,13.464,null,75.24000000000001,79.992,null,75.24000000000001,78.408,null,75.24000000000001,57.816,null,57.288000000000004,62.568000000000005,null,57.288000000000004,43.56,null,37.752,28.776,null,10.824,17.688000000000002,null],\"type\":\"scatter3d\"}],                        {\"template\":{\"data\":{\"bar\":[{\"error_x\":{\"color\":\"#2a3f5f\"},\"error_y\":{\"color\":\"#2a3f5f\"},\"marker\":{\"line\":{\"color\":\"#E5ECF6\",\"width\":0.5},\"pattern\":{\"fillmode\":\"overlay\",\"size\":10,\"solidity\":0.2}},\"type\":\"bar\"}],\"barpolar\":[{\"marker\":{\"line\":{\"color\":\"#E5ECF6\",\"width\":0.5},\"pattern\":{\"fillmode\":\"overlay\",\"size\":10,\"solidity\":0.2}},\"type\":\"barpolar\"}],\"carpet\":[{\"aaxis\":{\"endlinecolor\":\"#2a3f5f\",\"gridcolor\":\"white\",\"linecolor\":\"white\",\"minorgridcolor\":\"white\",\"startlinecolor\":\"#2a3f5f\"},\"baxis\":{\"endlinecolor\":\"#2a3f5f\",\"gridcolor\":\"white\",\"linecolor\":\"white\",\"minorgridcolor\":\"white\",\"startlinecolor\":\"#2a3f5f\"},\"type\":\"carpet\"}],\"choropleth\":[{\"colorbar\":{\"outlinewidth\":0,\"ticks\":\"\"},\"type\":\"choropleth\"}],\"contour\":[{\"colorbar\":{\"outlinewidth\":0,\"ticks\":\"\"},\"colorscale\":[[0.0,\"#0d0887\"],[0.1111111111111111,\"#46039f\"],[0.2222222222222222,\"#7201a8\"],[0.3333333333333333,\"#9c179e\"],[0.4444444444444444,\"#bd3786\"],[0.5555555555555556,\"#d8576b\"],[0.6666666666666666,\"#ed7953\"],[0.7777777777777778,\"#fb9f3a\"],[0.8888888888888888,\"#fdca26\"],[1.0,\"#f0f921\"]],\"type\":\"contour\"}],\"contourcarpet\":[{\"colorbar\":{\"outlinewidth\":0,\"ticks\":\"\"},\"type\":\"contourcarpet\"}],\"heatmap\":[{\"colorbar\":{\"outlinewidth\":0,\"ticks\":\"\"},\"colorscale\":[[0.0,\"#0d0887\"],[0.1111111111111111,\"#46039f\"],[0.2222222222222222,\"#7201a8\"],[0.3333333333333333,\"#9c179e\"],[0.4444444444444444,\"#bd3786\"],[0.5555555555555556,\"#d8576b\"],[0.6666666666666666,\"#ed7953\"],[0.7777777777777778,\"#fb9f3a\"],[0.8888888888888888,\"#fdca26\"],[1.0,\"#f0f921\"]],\"type\":\"heatmap\"}],\"heatmapgl\":[{\"colorbar\":{\"outlinewidth\":0,\"ticks\":\"\"},\"colorscale\":[[0.0,\"#0d0887\"],[0.1111111111111111,\"#46039f\"],[0.2222222222222222,\"#7201a8\"],[0.3333333333333333,\"#9c179e\"],[0.4444444444444444,\"#bd3786\"],[0.5555555555555556,\"#d8576b\"],[0.6666666666666666,\"#ed7953\"],[0.7777777777777778,\"#fb9f3a\"],[0.8888888888888888,\"#fdca26\"],[1.0,\"#f0f921\"]],\"type\":\"heatmapgl\"}],\"histogram\":[{\"marker\":{\"pattern\":{\"fillmode\":\"overlay\",\"size\":10,\"solidity\":0.2}},\"type\":\"histogram\"}],\"histogram2d\":[{\"colorbar\":{\"outlinewidth\":0,\"ticks\":\"\"},\"colorscale\":[[0.0,\"#0d0887\"],[0.1111111111111111,\"#46039f\"],[0.2222222222222222,\"#7201a8\"],[0.3333333333333333,\"#9c179e\"],[0.4444444444444444,\"#bd3786\"],[0.5555555555555556,\"#d8576b\"],[0.6666666666666666,\"#ed7953\"],[0.7777777777777778,\"#fb9f3a\"],[0.8888888888888888,\"#fdca26\"],[1.0,\"#f0f921\"]],\"type\":\"histogram2d\"}],\"histogram2dcontour\":[{\"colorbar\":{\"outlinewidth\":0,\"ticks\":\"\"},\"colorscale\":[[0.0,\"#0d0887\"],[0.1111111111111111,\"#46039f\"],[0.2222222222222222,\"#7201a8\"],[0.3333333333333333,\"#9c179e\"],[0.4444444444444444,\"#bd3786\"],[0.5555555555555556,\"#d8576b\"],[0.6666666666666666,\"#ed7953\"],[0.7777777777777778,\"#fb9f3a\"],[0.8888888888888888,\"#fdca26\"],[1.0,\"#f0f921\"]],\"type\":\"histogram2dcontour\"}],\"mesh3d\":[{\"colorbar\":{\"outlinewidth\":0,\"ticks\":\"\"},\"type\":\"mesh3d\"}],\"parcoords\":[{\"line\":{\"colorbar\":{\"outlinewidth\":0,\"ticks\":\"\"}},\"type\":\"parcoords\"}],\"pie\":[{\"automargin\":true,\"type\":\"pie\"}],\"scatter\":[{\"marker\":{\"colorbar\":{\"outlinewidth\":0,\"ticks\":\"\"}},\"type\":\"scatter\"}],\"scatter3d\":[{\"line\":{\"colorbar\":{\"outlinewidth\":0,\"ticks\":\"\"}},\"marker\":{\"colorbar\":{\"outlinewidth\":0,\"ticks\":\"\"}},\"type\":\"scatter3d\"}],\"scattercarpet\":[{\"marker\":{\"colorbar\":{\"outlinewidth\":0,\"ticks\":\"\"}},\"type\":\"scattercarpet\"}],\"scattergeo\":[{\"marker\":{\"colorbar\":{\"outlinewidth\":0,\"ticks\":\"\"}},\"type\":\"scattergeo\"}],\"scattergl\":[{\"marker\":{\"colorbar\":{\"outlinewidth\":0,\"ticks\":\"\"}},\"type\":\"scattergl\"}],\"scattermapbox\":[{\"marker\":{\"colorbar\":{\"outlinewidth\":0,\"ticks\":\"\"}},\"type\":\"scattermapbox\"}],\"scatterpolar\":[{\"marker\":{\"colorbar\":{\"outlinewidth\":0,\"ticks\":\"\"}},\"type\":\"scatterpolar\"}],\"scatterpolargl\":[{\"marker\":{\"colorbar\":{\"outlinewidth\":0,\"ticks\":\"\"}},\"type\":\"scatterpolargl\"}],\"scatterternary\":[{\"marker\":{\"colorbar\":{\"outlinewidth\":0,\"ticks\":\"\"}},\"type\":\"scatterternary\"}],\"surface\":[{\"colorbar\":{\"outlinewidth\":0,\"ticks\":\"\"},\"colorscale\":[[0.0,\"#0d0887\"],[0.1111111111111111,\"#46039f\"],[0.2222222222222222,\"#7201a8\"],[0.3333333333333333,\"#9c179e\"],[0.4444444444444444,\"#bd3786\"],[0.5555555555555556,\"#d8576b\"],[0.6666666666666666,\"#ed7953\"],[0.7777777777777778,\"#fb9f3a\"],[0.8888888888888888,\"#fdca26\"],[1.0,\"#f0f921\"]],\"type\":\"surface\"}],\"table\":[{\"cells\":{\"fill\":{\"color\":\"#EBF0F8\"},\"line\":{\"color\":\"white\"}},\"header\":{\"fill\":{\"color\":\"#C8D4E3\"},\"line\":{\"color\":\"white\"}},\"type\":\"table\"}]},\"layout\":{\"annotationdefaults\":{\"arrowcolor\":\"#2a3f5f\",\"arrowhead\":0,\"arrowwidth\":1},\"autotypenumbers\":\"strict\",\"coloraxis\":{\"colorbar\":{\"outlinewidth\":0,\"ticks\":\"\"}},\"colorscale\":{\"diverging\":[[0,\"#8e0152\"],[0.1,\"#c51b7d\"],[0.2,\"#de77ae\"],[0.3,\"#f1b6da\"],[0.4,\"#fde0ef\"],[0.5,\"#f7f7f7\"],[0.6,\"#e6f5d0\"],[0.7,\"#b8e186\"],[0.8,\"#7fbc41\"],[0.9,\"#4d9221\"],[1,\"#276419\"]],\"sequential\":[[0.0,\"#0d0887\"],[0.1111111111111111,\"#46039f\"],[0.2222222222222222,\"#7201a8\"],[0.3333333333333333,\"#9c179e\"],[0.4444444444444444,\"#bd3786\"],[0.5555555555555556,\"#d8576b\"],[0.6666666666666666,\"#ed7953\"],[0.7777777777777778,\"#fb9f3a\"],[0.8888888888888888,\"#fdca26\"],[1.0,\"#f0f921\"]],\"sequentialminus\":[[0.0,\"#0d0887\"],[0.1111111111111111,\"#46039f\"],[0.2222222222222222,\"#7201a8\"],[0.3333333333333333,\"#9c179e\"],[0.4444444444444444,\"#bd3786\"],[0.5555555555555556,\"#d8576b\"],[0.6666666666666666,\"#ed7953\"],[0.7777777777777778,\"#fb9f3a\"],[0.8888888888888888,\"#fdca26\"],[1.0,\"#f0f921\"]]},\"colorway\":[\"#636efa\",\"#EF553B\",\"#00cc96\",\"#ab63fa\",\"#FFA15A\",\"#19d3f3\",\"#FF6692\",\"#B6E880\",\"#FF97FF\",\"#FECB52\"],\"font\":{\"color\":\"#2a3f5f\"},\"geo\":{\"bgcolor\":\"white\",\"lakecolor\":\"white\",\"landcolor\":\"#E5ECF6\",\"showlakes\":true,\"showland\":true,\"subunitcolor\":\"white\"},\"hoverlabel\":{\"align\":\"left\"},\"hovermode\":\"closest\",\"mapbox\":{\"style\":\"light\"},\"paper_bgcolor\":\"white\",\"plot_bgcolor\":\"#E5ECF6\",\"polar\":{\"angularaxis\":{\"gridcolor\":\"white\",\"linecolor\":\"white\",\"ticks\":\"\"},\"bgcolor\":\"#E5ECF6\",\"radialaxis\":{\"gridcolor\":\"white\",\"linecolor\":\"white\",\"ticks\":\"\"}},\"scene\":{\"xaxis\":{\"backgroundcolor\":\"#E5ECF6\",\"gridcolor\":\"white\",\"gridwidth\":2,\"linecolor\":\"white\",\"showbackground\":true,\"ticks\":\"\",\"zerolinecolor\":\"white\"},\"yaxis\":{\"backgroundcolor\":\"#E5ECF6\",\"gridcolor\":\"white\",\"gridwidth\":2,\"linecolor\":\"white\",\"showbackground\":true,\"ticks\":\"\",\"zerolinecolor\":\"white\"},\"zaxis\":{\"backgroundcolor\":\"#E5ECF6\",\"gridcolor\":\"white\",\"gridwidth\":2,\"linecolor\":\"white\",\"showbackground\":true,\"ticks\":\"\",\"zerolinecolor\":\"white\"}},\"shapedefaults\":{\"line\":{\"color\":\"#2a3f5f\"}},\"ternary\":{\"aaxis\":{\"gridcolor\":\"white\",\"linecolor\":\"white\",\"ticks\":\"\"},\"baxis\":{\"gridcolor\":\"white\",\"linecolor\":\"white\",\"ticks\":\"\"},\"bgcolor\":\"#E5ECF6\",\"caxis\":{\"gridcolor\":\"white\",\"linecolor\":\"white\",\"ticks\":\"\"}},\"title\":{\"x\":0.05},\"xaxis\":{\"automargin\":true,\"gridcolor\":\"white\",\"linecolor\":\"white\",\"ticks\":\"\",\"title\":{\"standoff\":15},\"zerolinecolor\":\"white\",\"zerolinewidth\":2},\"yaxis\":{\"automargin\":true,\"gridcolor\":\"white\",\"linecolor\":\"white\",\"ticks\":\"\",\"title\":{\"standoff\":15},\"zerolinecolor\":\"white\",\"zerolinewidth\":2}}},\"scene\":{\"zaxis\":{\"nticks\":4,\"range\":[0,150],\"title\":{\"text\":\"z-coordinates in nm\"}},\"xaxis\":{\"title\":{\"text\":\"x-coordinates in nm\"}},\"yaxis\":{\"title\":{\"text\":\"y-coordinates in nm\"}}}},                        {\"responsive\": true}                    ).then(function(){\n",
       "                            \n",
       "var gd = document.getElementById('9f28b6a5-56a7-452b-91cb-521ae790eab7');\n",
       "var x = new MutationObserver(function (mutations, observer) {{\n",
       "        var display = window.getComputedStyle(gd).display;\n",
       "        if (!display || display === 'none') {{\n",
       "            console.log([gd, 'removed!']);\n",
       "            Plotly.purge(gd);\n",
       "            observer.disconnect();\n",
       "        }}\n",
       "}});\n",
       "\n",
       "// Listen for the removal of the full notebook cells\n",
       "var notebookContainer = gd.closest('#notebook-container');\n",
       "if (notebookContainer) {{\n",
       "    x.observe(notebookContainer, {childList: true});\n",
       "}}\n",
       "\n",
       "// Listen for the clearing of the current output cell\n",
       "var outputEl = gd.closest('.output');\n",
       "if (outputEl) {{\n",
       "    x.observe(outputEl, {childList: true});\n",
       "}}\n",
       "\n",
       "                        })                };                            </script>        </div>\n",
       "</body>\n",
       "</html>"
      ]
     },
     "metadata": {},
     "output_type": "display_data"
    }
   ],
   "source": [
    "plotEdges(dict_1, df_1, z_scale=150, scale=0.528)"
   ]
  },
  {
   "cell_type": "code",
   "execution_count": 23,
   "metadata": {
    "colab": {
     "base_uri": "https://localhost:8080/",
     "height": 611
    },
    "executionInfo": {
     "elapsed": 571,
     "status": "ok",
     "timestamp": 1666302920805,
     "user": {
      "displayName": "Minrui Li",
      "userId": "16054889870722932426"
     },
     "user_tz": -660
    },
    "id": "-DjK7Dwelcew",
    "outputId": "d7ca63f6-eb2c-474d-cf80-60cc805f14f3"
   },
   "outputs": [
    {
     "name": "stdout",
     "output_type": "stream",
     "text": [
      "Information of density:\n",
      "Maximum neighbours: 15.\n",
      "1 have maximum number of neighbours.\n",
      "\n"
     ]
    },
    {
     "data": {
      "text/html": [
       "<html>\n",
       "<head><meta charset=\"utf-8\" /></head>\n",
       "<body>\n",
       "    <div>            <script src=\"https://cdnjs.cloudflare.com/ajax/libs/mathjax/2.7.5/MathJax.js?config=TeX-AMS-MML_SVG\"></script><script type=\"text/javascript\">if (window.MathJax) {MathJax.Hub.Config({SVG: {font: \"STIX-Web\"}});}</script>                <script type=\"text/javascript\">window.PlotlyConfig = {MathJaxConfig: 'local'};</script>\n",
       "        <script src=\"https://cdn.plot.ly/plotly-2.8.3.min.js\"></script>                <div id=\"2f7e56f8-8d1d-43d6-b109-86f9b58df655\" class=\"plotly-graph-div\" style=\"height:525px; width:100%;\"></div>            <script type=\"text/javascript\">                                    window.PLOTLYENV=window.PLOTLYENV || {};                                    if (document.getElementById(\"2f7e56f8-8d1d-43d6-b109-86f9b58df655\")) {                    Plotly.newPlot(                        \"2f7e56f8-8d1d-43d6-b109-86f9b58df655\",                        [{\"marker\":{\"color\":[7,6,4,9,4,11,6,3,5,9,5,2,2,5,10,6,9,6,7,8,8,7,8,8,6,3,7,7,7,10,12,8,4,5,4,7,5,7,7,6,4,10,2,1,7,4,7,6,10,8,5,12,1,10,10,5,5,7,7,2,9,5,6,2,6,6,4,11,7,8,5,8,5,10,5,3,6,8,5,7,2,7,7,6,8,3,12,5,4,3,9,8,5,6,4,7,5,3,6,7,8,3,12,13,9,8,14,6,6,7,10,2,7,7,6,13,7,1,8,6,6,9,7,4,8,8,8,6,7,7,7,4,7,8,4,6,5,3,7,6,10,7,7,3,12,9,6,10,9,5,10,5,3,9,5,6,3,11,3,1,9,3,4,10,6,6,8,7,3,7,5,5,4,13,6,6,4,10,11,6,7,1,3,4,9,9,8,9,5,3,2,7,2,9,7,6,6,5,4,2,9,8,2,8,2,3,10,12,3,6,7,5,4,8,7,3,7,4,9,5,10,6,11,2,7,10,10,8,4,7,5,5,6,3,6,8,5,2,5,3,7,4,8,6,8,9,4,5,6,11,7,6,6,6,8,8,6,1,11,3,9,6,7,9,4,4,12,9,9,5,11,5,8,3,9,2,12,12,3,3,9,4,9,4,4,6,3,8,6,7,5,11,7,8,6,7,8,9,7,2,6,9,3,2,9,10,5,4,5,7,5,9,11,5,8,4,6,8,3,9,2,7,9,3,6,10,6,6,5,2,3,5,6,9,9,4,7,12,12,8,7,9,8,6,5,7,3,5,6,5,6,6,6,6,8,12,6,12,5,10,8,3,7,8,7,6,8,3,4,7,4,8,6,8,3,2,9,6,10,7,6,7,1,7,6,4,2,3,7,5,6,9,5,4,15,3,1,10,2,5,6,7,7,6,4,7,7,6,3,6,2,4,11,4,8,4,7,9,10,3,4,11,3,7,12,4,3,9,1,2,7,13,6,4,3,7,5,8,7,6],\"colorbar\":{\"thickness\":20,\"title\":{\"text\":\"Number of nucleosomes\"}},\"colorscale\":[[0.0,\"#fee838\"],[0.1111111111111111,\"#e1cc55\"],[0.2222222222222222,\"#c3b369\"],[0.3333333333333333,\"#a59c74\"],[0.4444444444444444,\"#8a8678\"],[0.5555555555555556,\"#707173\"],[0.6666666666666666,\"#575d6d\"],[0.7777777777777778,\"#3b496c\"],[0.8888888888888888,\"#123570\"],[1.0,\"#00224e\"]],\"size\":6},\"mode\":\"markers\",\"name\":\"points\",\"x\":[333.96000000000004,323.928,385.704,285.91200000000003,327.096,386.232,292.776,265.848,334.488,378.312,413.68800000000005,278.52000000000004,404.71200000000005,323.40000000000003,360.36,325.512,377.784,356.136,358.776,356.136,329.736,286.44,274.296,406.296,350.32800000000003,419.49600000000004,278.52000000000004,400.488,362.47200000000004,373.03200000000004,357.192,405.76800000000003,288.024,402.072,292.248,332.904,314.42400000000004,386.232,411.048,347.688,421.08000000000004,343.992,420.024,269.016,286.44,394.15200000000004,283.272,283.8,295.416,383.59200000000004,416.32800000000003,393.096,286.44,379.368,297.0,360.36,399.96000000000004,321.81600000000003,408.93600000000004,346.632,350.856,320.76,363.528,317.064,380.42400000000004,411.048,328.15200000000004,376.728,296.47200000000004,357.192,272.184,307.03200000000004,379.896,356.136,411.576,348.216,282.216,358.776,323.40000000000003,417.384,284.856,324.98400000000004,365.64000000000004,354.552,275.35200000000003,375.144,357.72,420.552,266.37600000000003,419.49600000000004,403.12800000000004,284.856,336.072,337.656,421.08000000000004,288.024,282.744,272.712,290.664,268.488,360.36,265.848,387.81600000000003,379.896,393.624,293.30400000000003,379.896,279.576,307.03200000000004,414.744,291.72,287.49600000000004,294.88800000000003,396.79200000000003,378.84000000000003,370.92,393.624,337.656,284.32800000000003,338.712,289.08000000000004,378.312,277.464,318.648,304.92,375.144,281.16,387.81600000000003,297.528,346.632,414.744,356.136,396.79200000000003,378.84000000000003,334.488,329.736,405.24,349.8,305.976,338.184,282.744,318.648,365.112,345.576,370.92,291.72,408.408,366.696,304.392,326.56800000000004,391.512,372.504,377.25600000000003,348.216,366.696,310.2,421.08000000000004,352.44,278.52000000000004,411.048,391.512,403.12800000000004,405.76800000000003,345.576,337.12800000000004,373.03200000000004,382.00800000000004,365.64000000000004,271.656,305.976,300.168,338.712,367.224,371.44800000000004,364.584,401.016,389.928,388.344,366.168,303.336,412.632,411.576,310.728,363.0,395.73600000000005,368.28000000000003,398.37600000000003,402.072,329.736,311.25600000000003,272.184,407.88,327.096,348.744,286.44,321.81600000000003,395.208,414.216,299.64,304.92,370.92,390.456,417.384,314.42400000000004,334.488,303.336,331.32,357.192,355.08000000000004,285.91200000000003,386.76,391.512,321.81600000000003,339.24,363.528,417.91200000000003,373.03200000000004,422.136,377.25600000000003,293.832,375.672,289.08000000000004,278.52000000000004,274.296,268.488,367.224,352.44,391.512,402.6,376.20000000000005,354.024,352.968,324.456,295.416,379.368,361.944,377.784,367.752,315.48,378.312,368.808,276.408,377.25600000000003,271.128,278.52000000000004,364.584,407.35200000000003,411.048,310.2,382.536,413.16,358.776,298.584,387.288,363.528,293.832,345.048,418.44,337.656,290.664,304.92,404.71200000000005,292.776,313.368,339.76800000000003,293.30400000000003,283.8,359.30400000000003,355.08000000000004,301.224,392.04,340.296,318.12,293.30400000000003,367.752,414.216,377.784,280.632,386.76,393.624,398.904,276.408,327.624,414.216,326.56800000000004,409.464,294.36,402.072,415.8,408.408,397.32,304.392,369.86400000000003,371.976,340.296,388.872,327.624,295.416,395.208,329.208,399.432,339.76800000000003,300.168,313.896,363.528,352.44,316.536,414.216,334.488,378.312,269.54400000000004,390.456,399.96000000000004,355.608,410.52000000000004,366.168,365.64000000000004,347.16,310.728,379.368,291.72,371.976,303.336,329.208,275.88,277.464,320.76,343.992,373.56,307.03200000000004,267.432,342.93600000000004,397.848,275.88,390.98400000000004,338.712,344.52000000000004,383.59200000000004,371.976,407.35200000000003,410.52000000000004,328.15200000000004,279.048,375.144,361.416,297.528,408.408,337.12800000000004,351.384,420.552,305.44800000000004,293.832,366.168,340.824,405.76800000000003,286.44,380.952,367.224,309.144,360.36,290.664,327.096,311.25600000000003,364.584,352.968,386.232,384.648,418.968,389.928,293.30400000000003,309.144,339.76800000000003,406.824,344.52000000000004,377.784,277.464,401.016,320.232,337.656,359.832,267.96000000000004,268.488,420.552,393.624,413.68800000000005,308.088,412.632,273.76800000000003,397.848,274.296,310.728,361.944,276.408,323.928,369.336,395.208,265.32,384.648,303.86400000000003,405.76800000000003,410.52000000000004,380.42400000000004,339.24,412.10400000000004,343.992,352.44,273.24,335.016,325.512,316.00800000000004,351.91200000000003,301.752,367.224,375.672,402.6,301.224,314.42400000000004,345.048,288.552,347.16,384.12,367.752,402.072,360.36,360.88800000000003,370.392,420.552,346.632,273.24,389.928,303.86400000000003,384.12,347.16,337.12800000000004,386.76,295.944,322.872,300.168,398.37600000000003,326.04],\"y\":[341.88,302.808,385.704,359.30400000000003,366.696,365.64000000000004,379.368,352.44,308.088,380.952,281.16,366.696,367.224,365.64000000000004,382.536,274.824,337.656,305.976,349.272,298.584,303.86400000000003,367.752,333.96000000000004,375.672,387.288,352.44,346.632,291.72,268.488,392.56800000000004,370.92,353.49600000000004,274.296,302.28000000000003,364.05600000000004,276.408,326.56800000000004,293.832,397.848,270.6,404.184,393.096,316.00800000000004,286.44,387.288,279.576,338.712,289.08000000000004,292.248,302.808,316.00800000000004,340.824,420.024,318.12,353.49600000000004,324.98400000000004,318.12,317.064,371.44800000000004,416.856,311.25600000000003,358.776,269.016,415.272,408.408,351.384,398.904,331.848,278.52000000000004,283.8,295.416,270.6,330.79200000000003,362.47200000000004,294.36,324.98400000000004,314.952,379.896,375.144,405.24,419.49600000000004,381.48,292.248,349.8,350.32800000000003,408.93600000000004,399.96000000000004,411.048,349.272,380.42400000000004,397.32,375.144,414.216,299.112,356.66400000000004,303.86400000000003,350.856,370.92,350.32800000000003,388.344,405.24,376.20000000000005,328.68,346.632,392.04,288.024,333.432,321.81600000000003,311.25600000000003,337.12800000000004,348.744,264.264,314.952,385.17600000000004,297.0,365.64000000000004,394.15200000000004,395.208,395.208,330.264,405.24,316.536,341.35200000000003,308.61600000000004,281.688,378.84000000000003,335.54400000000004,411.048,392.56800000000004,277.992,361.416,333.96000000000004,349.272,358.248,339.24,304.392,412.10400000000004,370.392,301.224,284.32800000000003,300.696,281.16,279.048,304.92,360.36,299.64,322.344,351.384,292.776,374.61600000000004,352.44,268.488,270.6,304.392,287.49600000000004,405.76800000000003,340.296,406.824,399.96000000000004,270.6,351.384,280.104,413.68800000000005,373.03200000000004,267.432,282.744,383.064,377.25600000000003,324.456,293.30400000000003,335.54400000000004,377.25600000000003,414.744,332.904,380.952,359.30400000000003,276.408,342.408,340.824,361.416,398.37600000000003,383.59200000000004,392.04,400.488,357.72,360.36,349.272,402.6,330.264,370.92,280.104,340.824,285.384,346.10400000000004,327.624,266.904,332.37600000000003,322.872,368.808,293.30400000000003,387.81600000000003,319.704,297.528,292.776,287.49600000000004,397.848,304.92,354.552,413.16,322.344,307.56,314.952,365.64000000000004,341.88,334.488,269.016,297.0,324.98400000000004,366.696,362.47200000000004,360.88800000000003,394.68,359.30400000000003,376.728,341.88,379.896,364.05600000000004,311.25600000000003,416.32800000000003,394.68,313.368,340.296,333.96000000000004,398.37600000000003,320.232,332.904,396.79200000000003,267.96000000000004,338.712,267.96000000000004,324.456,399.432,309.144,367.752,330.264,309.672,321.81600000000003,367.752,403.12800000000004,350.856,354.024,275.35200000000003,309.672,329.208,406.824,310.2,302.808,278.52000000000004,312.312,298.05600000000004,294.36,313.368,272.184,279.048,348.744,353.49600000000004,343.992,354.024,301.752,326.56800000000004,332.37600000000003,266.904,290.136,418.44,367.224,319.704,363.528,343.464,271.128,276.408,304.392,403.12800000000004,283.8,361.416,267.432,412.632,379.896,329.736,390.98400000000004,311.784,412.10400000000004,279.576,415.8,403.656,323.928,327.624,328.68,308.61600000000004,303.336,357.72,376.728,403.656,314.42400000000004,333.432,300.696,337.12800000000004,349.8,409.992,396.264,290.664,318.12,388.344,367.752,265.32,389.40000000000003,333.432,300.168,289.08000000000004,266.904,384.12,334.488,336.6,347.16,387.288,305.44800000000004,384.12,372.504,394.68,345.048,284.856,385.704,419.49600000000004,289.608,389.40000000000003,356.136,269.54400000000004,310.728,355.08000000000004,373.03200000000004,338.184,306.504,312.312,317.59200000000004,295.416,305.44800000000004,301.752,289.608,384.648,274.824,402.072,279.576,393.096,369.86400000000003,326.04,354.552,357.192,365.112,350.856,391.512,303.86400000000003,404.184,363.0,368.808,316.00800000000004,280.632,387.288,378.84000000000003,415.8,377.784,312.84000000000003,414.744,322.344,313.368,349.272,394.15200000000004,382.00800000000004,366.696,302.808,294.88800000000003,286.968,332.37600000000003,396.79200000000003,341.88,394.68,369.86400000000003,361.416,264.79200000000003,291.72,344.52000000000004,324.98400000000004,269.016,294.88800000000003,304.92,387.288,362.47200000000004,417.91200000000003,398.37600000000003,359.30400000000003,333.96000000000004,387.288,407.88,338.712,364.05600000000004,303.86400000000003,375.144,304.92,357.192,348.744,320.232,270.6,265.848,319.704,302.808,367.752,329.736,339.76800000000003,285.91200000000003,402.072,348.216,346.10400000000004,388.344,351.91200000000003,413.68800000000005,341.88,370.92,267.96000000000004,348.216,411.576,417.384,419.49600000000004,318.12,345.576,272.184,393.096,298.584,280.104,318.12,402.6,386.76,366.696],\"z\":[77.352,84.21600000000001,66.792,53.064,11.352,78.936,81.57600000000001,56.760000000000005,30.360000000000003,85.8,21.912000000000003,11.352,35.112,82.632,72.60000000000001,82.104,10.824,13.992,27.192,84.744,45.144000000000005,66.792,69.96000000000001,84.21600000000001,60.456,29.832,36.168,76.296,67.32000000000001,83.16000000000001,69.96000000000001,55.704,63.096000000000004,85.8,44.088,81.57600000000001,34.584,75.768,73.656,68.376,59.928000000000004,74.184,88.968,36.168,75.24000000000001,75.768,37.752,79.992,73.656,78.408,50.952000000000005,84.744,80.52000000000001,83.688,61.512,83.688,52.008,78.408,73.656,55.704,26.664,54.648,25.608,30.360000000000003,82.104,39.864000000000004,15.576,85.272,40.92,72.072,68.904,41.448,58.872,81.048,60.984,60.984,22.968,85.272,42.504000000000005,74.712,27.192,17.16,81.57600000000001,53.592000000000006,81.048,17.16,76.296,28.776,79.464,24.024,25.080000000000002,71.544,73.128,56.760000000000005,53.064,43.56,26.664,21.912000000000003,28.248,76.296,60.984,79.464,73.128,79.464,21.384,58.344,74.184,73.128,79.464,60.984,71.544,63.096000000000004,43.56,85.8,19.272000000000002,67.32000000000001,68.904,39.336,74.184,15.576,13.464,66.792,44.616,21.912000000000003,34.584,39.864000000000004,70.488,81.048,11.88,79.992,87.912,13.992,88.968,86.85600000000001,32.472,62.568000000000005,34.056000000000004,20.328,45.672000000000004,54.120000000000005,65.736,52.536,25.608,49.896,24.024,81.048,48.84,27.192,72.072,75.24000000000001,78.408,14.520000000000001,84.744,75.24000000000001,35.112,26.136000000000003,81.048,73.656,47.784,66.26400000000001,15.048,76.824,62.040000000000006,72.60000000000001,83.688,83.16000000000001,40.92,59.400000000000006,50.952000000000005,36.168,82.632,54.648,56.760000000000005,73.128,33.528,11.88,13.464,15.048,69.432,53.592000000000006,24.024,55.704,50.952000000000005,29.832,68.376,31.944000000000003,13.992,78.936,20.328,69.96000000000001,76.296,48.312000000000005,34.584,72.60000000000001,74.712,73.128,10.296000000000001,86.85600000000001,42.504000000000005,13.992,27.192,15.048,14.520000000000001,70.488,24.024,60.456,79.992,69.432,44.616,20.856,11.352,63.624,19.8,67.32000000000001,28.248,33.528,85.272,52.008,13.464,22.968,30.888,14.520000000000001,62.568000000000005,40.92,44.088,76.296,62.040000000000006,28.776,89.49600000000001,24.552,15.048,40.392,37.752,47.784,21.384,81.048,61.512,49.368,77.352,67.32000000000001,85.272,21.384,19.272000000000002,81.048,29.304000000000002,18.744,31.416,25.080000000000002,12.936,14.520000000000001,52.536,17.688000000000002,78.936,11.88,86.328,66.26400000000001,83.688,45.144000000000005,76.824,21.384,81.048,17.16,48.312000000000005,82.632,85.8,15.048,69.96000000000001,78.408,25.608,17.688000000000002,79.992,59.928000000000004,38.28,10.296000000000001,17.16,24.024,77.88000000000001,58.344,20.856,26.136000000000003,71.016,62.568000000000005,78.936,94.77600000000001,45.144000000000005,23.496000000000002,15.048,71.016,82.632,52.536,81.57600000000001,45.144000000000005,75.768,68.904,58.872,87.384,73.128,32.472,19.272000000000002,18.744,12.936,75.24000000000001,10.824,51.480000000000004,18.744,63.096000000000004,77.88000000000001,44.616,84.744,71.544,22.968,28.776,83.688,33.528,11.352,10.296000000000001,53.064,33.528,60.984,15.048,87.912,60.984,70.488,85.272,57.816,76.296,33.528,64.152,43.032000000000004,16.632,57.816,75.768,24.024,67.32000000000001,22.44,48.84,82.632,77.88000000000001,29.832,81.57600000000001,71.544,63.096000000000004,59.928000000000004,37.224000000000004,65.736,46.2,11.352,17.16,28.776,84.744,81.048,69.96000000000001,39.864000000000004,29.832,62.568000000000005,68.904,90.552,18.216,24.024,32.472,22.44,90.024,45.144000000000005,73.128,64.152,82.104,29.832,91.608,49.368,58.344,23.496000000000002,77.352,83.16000000000001,53.064,50.424,31.944000000000003,75.768,49.368,81.048,64.152,27.720000000000002,64.68,20.856,12.408000000000001,83.688,77.88000000000001,22.968,48.312000000000005,58.344,11.88,33.528,36.696000000000005,83.16000000000001,39.864000000000004,75.24000000000001,65.208,10.296000000000001,11.352,13.992,65.736,13.464,29.832,57.288000000000004,57.288000000000004,10.296000000000001,43.032000000000004,76.824,62.568000000000005,11.88,52.008,10.296000000000001,37.752,72.60000000000001,57.816,85.8,24.024,77.352,84.21600000000001,58.872,16.632,88.968,79.992,10.824,50.952000000000005,78.408,67.32000000000001,77.88000000000001,81.048,76.296,17.688000000000002,28.776,21.912000000000003,44.088,10.296000000000001,37.752,48.84,35.64,27.720000000000002,13.464,43.56],\"type\":\"scatter3d\"}],                        {\"template\":{\"data\":{\"bar\":[{\"error_x\":{\"color\":\"#2a3f5f\"},\"error_y\":{\"color\":\"#2a3f5f\"},\"marker\":{\"line\":{\"color\":\"#E5ECF6\",\"width\":0.5},\"pattern\":{\"fillmode\":\"overlay\",\"size\":10,\"solidity\":0.2}},\"type\":\"bar\"}],\"barpolar\":[{\"marker\":{\"line\":{\"color\":\"#E5ECF6\",\"width\":0.5},\"pattern\":{\"fillmode\":\"overlay\",\"size\":10,\"solidity\":0.2}},\"type\":\"barpolar\"}],\"carpet\":[{\"aaxis\":{\"endlinecolor\":\"#2a3f5f\",\"gridcolor\":\"white\",\"linecolor\":\"white\",\"minorgridcolor\":\"white\",\"startlinecolor\":\"#2a3f5f\"},\"baxis\":{\"endlinecolor\":\"#2a3f5f\",\"gridcolor\":\"white\",\"linecolor\":\"white\",\"minorgridcolor\":\"white\",\"startlinecolor\":\"#2a3f5f\"},\"type\":\"carpet\"}],\"choropleth\":[{\"colorbar\":{\"outlinewidth\":0,\"ticks\":\"\"},\"type\":\"choropleth\"}],\"contour\":[{\"colorbar\":{\"outlinewidth\":0,\"ticks\":\"\"},\"colorscale\":[[0.0,\"#0d0887\"],[0.1111111111111111,\"#46039f\"],[0.2222222222222222,\"#7201a8\"],[0.3333333333333333,\"#9c179e\"],[0.4444444444444444,\"#bd3786\"],[0.5555555555555556,\"#d8576b\"],[0.6666666666666666,\"#ed7953\"],[0.7777777777777778,\"#fb9f3a\"],[0.8888888888888888,\"#fdca26\"],[1.0,\"#f0f921\"]],\"type\":\"contour\"}],\"contourcarpet\":[{\"colorbar\":{\"outlinewidth\":0,\"ticks\":\"\"},\"type\":\"contourcarpet\"}],\"heatmap\":[{\"colorbar\":{\"outlinewidth\":0,\"ticks\":\"\"},\"colorscale\":[[0.0,\"#0d0887\"],[0.1111111111111111,\"#46039f\"],[0.2222222222222222,\"#7201a8\"],[0.3333333333333333,\"#9c179e\"],[0.4444444444444444,\"#bd3786\"],[0.5555555555555556,\"#d8576b\"],[0.6666666666666666,\"#ed7953\"],[0.7777777777777778,\"#fb9f3a\"],[0.8888888888888888,\"#fdca26\"],[1.0,\"#f0f921\"]],\"type\":\"heatmap\"}],\"heatmapgl\":[{\"colorbar\":{\"outlinewidth\":0,\"ticks\":\"\"},\"colorscale\":[[0.0,\"#0d0887\"],[0.1111111111111111,\"#46039f\"],[0.2222222222222222,\"#7201a8\"],[0.3333333333333333,\"#9c179e\"],[0.4444444444444444,\"#bd3786\"],[0.5555555555555556,\"#d8576b\"],[0.6666666666666666,\"#ed7953\"],[0.7777777777777778,\"#fb9f3a\"],[0.8888888888888888,\"#fdca26\"],[1.0,\"#f0f921\"]],\"type\":\"heatmapgl\"}],\"histogram\":[{\"marker\":{\"pattern\":{\"fillmode\":\"overlay\",\"size\":10,\"solidity\":0.2}},\"type\":\"histogram\"}],\"histogram2d\":[{\"colorbar\":{\"outlinewidth\":0,\"ticks\":\"\"},\"colorscale\":[[0.0,\"#0d0887\"],[0.1111111111111111,\"#46039f\"],[0.2222222222222222,\"#7201a8\"],[0.3333333333333333,\"#9c179e\"],[0.4444444444444444,\"#bd3786\"],[0.5555555555555556,\"#d8576b\"],[0.6666666666666666,\"#ed7953\"],[0.7777777777777778,\"#fb9f3a\"],[0.8888888888888888,\"#fdca26\"],[1.0,\"#f0f921\"]],\"type\":\"histogram2d\"}],\"histogram2dcontour\":[{\"colorbar\":{\"outlinewidth\":0,\"ticks\":\"\"},\"colorscale\":[[0.0,\"#0d0887\"],[0.1111111111111111,\"#46039f\"],[0.2222222222222222,\"#7201a8\"],[0.3333333333333333,\"#9c179e\"],[0.4444444444444444,\"#bd3786\"],[0.5555555555555556,\"#d8576b\"],[0.6666666666666666,\"#ed7953\"],[0.7777777777777778,\"#fb9f3a\"],[0.8888888888888888,\"#fdca26\"],[1.0,\"#f0f921\"]],\"type\":\"histogram2dcontour\"}],\"mesh3d\":[{\"colorbar\":{\"outlinewidth\":0,\"ticks\":\"\"},\"type\":\"mesh3d\"}],\"parcoords\":[{\"line\":{\"colorbar\":{\"outlinewidth\":0,\"ticks\":\"\"}},\"type\":\"parcoords\"}],\"pie\":[{\"automargin\":true,\"type\":\"pie\"}],\"scatter\":[{\"marker\":{\"colorbar\":{\"outlinewidth\":0,\"ticks\":\"\"}},\"type\":\"scatter\"}],\"scatter3d\":[{\"line\":{\"colorbar\":{\"outlinewidth\":0,\"ticks\":\"\"}},\"marker\":{\"colorbar\":{\"outlinewidth\":0,\"ticks\":\"\"}},\"type\":\"scatter3d\"}],\"scattercarpet\":[{\"marker\":{\"colorbar\":{\"outlinewidth\":0,\"ticks\":\"\"}},\"type\":\"scattercarpet\"}],\"scattergeo\":[{\"marker\":{\"colorbar\":{\"outlinewidth\":0,\"ticks\":\"\"}},\"type\":\"scattergeo\"}],\"scattergl\":[{\"marker\":{\"colorbar\":{\"outlinewidth\":0,\"ticks\":\"\"}},\"type\":\"scattergl\"}],\"scattermapbox\":[{\"marker\":{\"colorbar\":{\"outlinewidth\":0,\"ticks\":\"\"}},\"type\":\"scattermapbox\"}],\"scatterpolar\":[{\"marker\":{\"colorbar\":{\"outlinewidth\":0,\"ticks\":\"\"}},\"type\":\"scatterpolar\"}],\"scatterpolargl\":[{\"marker\":{\"colorbar\":{\"outlinewidth\":0,\"ticks\":\"\"}},\"type\":\"scatterpolargl\"}],\"scatterternary\":[{\"marker\":{\"colorbar\":{\"outlinewidth\":0,\"ticks\":\"\"}},\"type\":\"scatterternary\"}],\"surface\":[{\"colorbar\":{\"outlinewidth\":0,\"ticks\":\"\"},\"colorscale\":[[0.0,\"#0d0887\"],[0.1111111111111111,\"#46039f\"],[0.2222222222222222,\"#7201a8\"],[0.3333333333333333,\"#9c179e\"],[0.4444444444444444,\"#bd3786\"],[0.5555555555555556,\"#d8576b\"],[0.6666666666666666,\"#ed7953\"],[0.7777777777777778,\"#fb9f3a\"],[0.8888888888888888,\"#fdca26\"],[1.0,\"#f0f921\"]],\"type\":\"surface\"}],\"table\":[{\"cells\":{\"fill\":{\"color\":\"#EBF0F8\"},\"line\":{\"color\":\"white\"}},\"header\":{\"fill\":{\"color\":\"#C8D4E3\"},\"line\":{\"color\":\"white\"}},\"type\":\"table\"}]},\"layout\":{\"annotationdefaults\":{\"arrowcolor\":\"#2a3f5f\",\"arrowhead\":0,\"arrowwidth\":1},\"autotypenumbers\":\"strict\",\"coloraxis\":{\"colorbar\":{\"outlinewidth\":0,\"ticks\":\"\"}},\"colorscale\":{\"diverging\":[[0,\"#8e0152\"],[0.1,\"#c51b7d\"],[0.2,\"#de77ae\"],[0.3,\"#f1b6da\"],[0.4,\"#fde0ef\"],[0.5,\"#f7f7f7\"],[0.6,\"#e6f5d0\"],[0.7,\"#b8e186\"],[0.8,\"#7fbc41\"],[0.9,\"#4d9221\"],[1,\"#276419\"]],\"sequential\":[[0.0,\"#0d0887\"],[0.1111111111111111,\"#46039f\"],[0.2222222222222222,\"#7201a8\"],[0.3333333333333333,\"#9c179e\"],[0.4444444444444444,\"#bd3786\"],[0.5555555555555556,\"#d8576b\"],[0.6666666666666666,\"#ed7953\"],[0.7777777777777778,\"#fb9f3a\"],[0.8888888888888888,\"#fdca26\"],[1.0,\"#f0f921\"]],\"sequentialminus\":[[0.0,\"#0d0887\"],[0.1111111111111111,\"#46039f\"],[0.2222222222222222,\"#7201a8\"],[0.3333333333333333,\"#9c179e\"],[0.4444444444444444,\"#bd3786\"],[0.5555555555555556,\"#d8576b\"],[0.6666666666666666,\"#ed7953\"],[0.7777777777777778,\"#fb9f3a\"],[0.8888888888888888,\"#fdca26\"],[1.0,\"#f0f921\"]]},\"colorway\":[\"#636efa\",\"#EF553B\",\"#00cc96\",\"#ab63fa\",\"#FFA15A\",\"#19d3f3\",\"#FF6692\",\"#B6E880\",\"#FF97FF\",\"#FECB52\"],\"font\":{\"color\":\"#2a3f5f\"},\"geo\":{\"bgcolor\":\"white\",\"lakecolor\":\"white\",\"landcolor\":\"#E5ECF6\",\"showlakes\":true,\"showland\":true,\"subunitcolor\":\"white\"},\"hoverlabel\":{\"align\":\"left\"},\"hovermode\":\"closest\",\"mapbox\":{\"style\":\"light\"},\"paper_bgcolor\":\"white\",\"plot_bgcolor\":\"#E5ECF6\",\"polar\":{\"angularaxis\":{\"gridcolor\":\"white\",\"linecolor\":\"white\",\"ticks\":\"\"},\"bgcolor\":\"#E5ECF6\",\"radialaxis\":{\"gridcolor\":\"white\",\"linecolor\":\"white\",\"ticks\":\"\"}},\"scene\":{\"xaxis\":{\"backgroundcolor\":\"#E5ECF6\",\"gridcolor\":\"white\",\"gridwidth\":2,\"linecolor\":\"white\",\"showbackground\":true,\"ticks\":\"\",\"zerolinecolor\":\"white\"},\"yaxis\":{\"backgroundcolor\":\"#E5ECF6\",\"gridcolor\":\"white\",\"gridwidth\":2,\"linecolor\":\"white\",\"showbackground\":true,\"ticks\":\"\",\"zerolinecolor\":\"white\"},\"zaxis\":{\"backgroundcolor\":\"#E5ECF6\",\"gridcolor\":\"white\",\"gridwidth\":2,\"linecolor\":\"white\",\"showbackground\":true,\"ticks\":\"\",\"zerolinecolor\":\"white\"}},\"shapedefaults\":{\"line\":{\"color\":\"#2a3f5f\"}},\"ternary\":{\"aaxis\":{\"gridcolor\":\"white\",\"linecolor\":\"white\",\"ticks\":\"\"},\"baxis\":{\"gridcolor\":\"white\",\"linecolor\":\"white\",\"ticks\":\"\"},\"bgcolor\":\"#E5ECF6\",\"caxis\":{\"gridcolor\":\"white\",\"linecolor\":\"white\",\"ticks\":\"\"}},\"title\":{\"x\":0.05},\"xaxis\":{\"automargin\":true,\"gridcolor\":\"white\",\"linecolor\":\"white\",\"ticks\":\"\",\"title\":{\"standoff\":15},\"zerolinecolor\":\"white\",\"zerolinewidth\":2},\"yaxis\":{\"automargin\":true,\"gridcolor\":\"white\",\"linecolor\":\"white\",\"ticks\":\"\",\"title\":{\"standoff\":15},\"zerolinecolor\":\"white\",\"zerolinewidth\":2}}},\"scene\":{\"zaxis\":{\"nticks\":4,\"range\":[0,150],\"title\":{\"text\":\"z-coordinates in nm\"}},\"xaxis\":{\"title\":{\"text\":\"x-coordinates in nm\"}},\"yaxis\":{\"title\":{\"text\":\"y-coordinates in nm\"}}}},                        {\"responsive\": true}                    ).then(function(){\n",
       "                            \n",
       "var gd = document.getElementById('2f7e56f8-8d1d-43d6-b109-86f9b58df655');\n",
       "var x = new MutationObserver(function (mutations, observer) {{\n",
       "        var display = window.getComputedStyle(gd).display;\n",
       "        if (!display || display === 'none') {{\n",
       "            console.log([gd, 'removed!']);\n",
       "            Plotly.purge(gd);\n",
       "            observer.disconnect();\n",
       "        }}\n",
       "}});\n",
       "\n",
       "// Listen for the removal of the full notebook cells\n",
       "var notebookContainer = gd.closest('#notebook-container');\n",
       "if (notebookContainer) {{\n",
       "    x.observe(notebookContainer, {childList: true});\n",
       "}}\n",
       "\n",
       "// Listen for the clearing of the current output cell\n",
       "var outputEl = gd.closest('.output');\n",
       "if (outputEl) {{\n",
       "    x.observe(outputEl, {childList: true});\n",
       "}}\n",
       "\n",
       "                        })                };                            </script>        </div>\n",
       "</body>\n",
       "</html>"
      ]
     },
     "metadata": {},
     "output_type": "display_data"
    }
   ],
   "source": [
    "showDensityInfo(150, 20, dict_1, df_1, scale=0.528, filter_n=0)"
   ]
  },
  {
   "cell_type": "code",
   "execution_count": 27,
   "metadata": {
    "colab": {
     "base_uri": "https://localhost:8080/",
     "height": 542
    },
    "executionInfo": {
     "elapsed": 4,
     "status": "ok",
     "timestamp": 1666303103186,
     "user": {
      "displayName": "Minrui Li",
      "userId": "16054889870722932426"
     },
     "user_tz": -660
    },
    "id": "HCtn70eUpGr9",
    "outputId": "c8b31cdf-5400-4106-ac37-f7793f73d181"
   },
   "outputs": [
    {
     "data": {
      "text/html": [
       "<html>\n",
       "<head><meta charset=\"utf-8\" /></head>\n",
       "<body>\n",
       "    <div>            <script src=\"https://cdnjs.cloudflare.com/ajax/libs/mathjax/2.7.5/MathJax.js?config=TeX-AMS-MML_SVG\"></script><script type=\"text/javascript\">if (window.MathJax) {MathJax.Hub.Config({SVG: {font: \"STIX-Web\"}});}</script>                <script type=\"text/javascript\">window.PlotlyConfig = {MathJaxConfig: 'local'};</script>\n",
       "        <script src=\"https://cdn.plot.ly/plotly-2.8.3.min.js\"></script>                <div id=\"cf119b18-c5c7-4409-9870-35b6a6752ee7\" class=\"plotly-graph-div\" style=\"height:525px; width:100%;\"></div>            <script type=\"text/javascript\">                                    window.PLOTLYENV=window.PLOTLYENV || {};                                    if (document.getElementById(\"cf119b18-c5c7-4409-9870-35b6a6752ee7\")) {                    Plotly.newPlot(                        \"cf119b18-c5c7-4409-9870-35b6a6752ee7\",                        [{\"marker\":{\"color\":[0.41737,0.44142,0.45503,0.43917,0.44111,0.4056,0.42596,0.48263,0.45364,0.39729,0.42343,0.427,0.42242,0.41921,0.43139,0.40794,0.38371,0.37396,0.40397,0.44601,0.42805,0.43972,0.38109,0.4071,0.42346,0.3819,0.42836,0.42464,0.42503,0.39743,0.42435,0.40727,0.37838,0.37644,0.42856,0.39279,0.45632,0.41769,0.41974,0.37847,0.41126,0.44689,0.40787,0.39951,0.40912,0.43,0.36684,0.40743,0.36032,0.45226,0.4097,0.38065,0.43684,0.38498,0.37821,0.41672,0.39472,0.40308,0.38212,0.41069,0.36261,0.37626,0.40271,0.41343,0.40302,0.3854,0.375,0.41666,0.39826,0.36793,0.37787,0.39115,0.39495,0.42982,0.38729,0.39505,0.37594,0.44337,0.37937,0.4049,0.41594,0.37078,0.36597,0.3805,0.40415,0.37936,0.34303,0.34565,0.35667,0.41401,0.3904,0.32654,0.37484,0.38138,0.36104,0.37414,0.40668,0.3937,0.3722,0.39436,0.38983,0.35072,0.37932,0.35974,0.38526,0.31843,0.37591,0.41114,0.34863,0.33052,0.41422,0.36174,0.40156,0.40144,0.40655,0.32339,0.36745,0.37174,0.31752,0.34637,0.35662,0.36278,0.33194,0.31035,0.41045,0.39951,0.33365,0.34787,0.32714,0.28862,0.33173,0.33305,0.31921,0.33847,0.31283,0.35029,0.31848,0.3637,0.38594,0.38134,0.35697,0.3987,0.3859,0.37106,0.31506,0.33811,0.37603,0.33255,0.40285,0.36432,0.31105,0.37306,0.39571,0.38825,0.35047,0.38091,0.37841,0.41455,0.32672,0.31028,0.35411,0.32561,0.36805,0.35151,0.34725,0.36487,0.37143,0.35354,0.30573,0.34103,0.37028,0.35586,0.33719,0.30503,0.37789,0.34075,0.3408,0.34636,0.32775,0.3298,0.32689,0.32716,0.35932,0.3334,0.3796,0.40648,0.33771,0.32212,0.34425,0.31519,0.30914,0.34439,0.33091,0.37639,0.38849,0.33919,0.29823,0.29735,0.35155,0.29511,0.33109,0.3499,0.34317,0.35418,0.31355,0.34267,0.31164,0.34834,0.34355,0.32054,0.29451,0.36444,0.36022,0.22413,0.37884,0.31651,0.26772,0.3241,0.40874,0.2751,0.31231,0.30024,0.33807,0.3582,0.31222,0.29222,0.30213,0.35269,0.28726,0.325,0.29119,0.2962,0.3121,0.30318,0.31628,0.3534,0.29585,0.32997,0.28215,0.34063,0.34416,0.28284,0.23831,0.32106,0.31264,0.31092,0.27136,0.32136,0.34267,0.28593,0.31423,0.29464,0.31091,0.32621,0.27844,0.32617,0.33153,0.35215,0.36858,0.28239,0.33146,0.27927,0.31339,0.33379,0.29843,0.38273,0.2491,0.27865,0.32467,0.27608,0.31577,0.34937,0.2955,0.34246,0.34657,0.32605,0.28054,0.27769,0.3115,0.28765,0.38543,0.34761,0.35008,0.30979,0.31677,0.30328,0.27897,0.33895,0.30176,0.26047,0.30926,0.32888,0.26773,0.27948,0.35552,0.25906,0.29735,0.38549,0.27961,0.27817,0.33004,0.30123,0.28964,0.26824,0.31046,0.18142,0.28004,0.2511,0.33069,0.27603,0.3381,0.31603,0.28478,0.37812,0.28807,0.27071,0.31358,0.30659,0.28167,0.30839,0.31764,0.33664,0.28712,0.27188,0.31685,0.31682,0.28152,0.31345,0.25714,0.34168,0.27485,0.3494,0.29645,0.31262,0.26387,0.32216,0.26573,0.26932,0.34328,0.31593,0.2651,0.31669,0.25815,0.33037,0.22795,0.30661,0.28285,0.33903,0.33944,0.26574,0.34688,0.29104,0.31176,0.30034,0.30295,0.33308,0.3177,0.2869,0.30826,0.28225,0.26483,0.2634,0.31052,0.31832,0.26921,0.27733,0.26796,0.2237,0.31079,0.33446,0.29248,0.31463,0.35633,0.31274,0.32578,0.29721,0.25754,0.24908,0.27945,0.27416,0.29723,0.2887,0.2994,0.34574,0.27309,0.26574,0.26413,0.30483,0.2569,0.29476,0.32862,0.2726,0.31001,0.3391,0.27652,0.32393,0.27293,0.28985,0.26573,0.3452,0.28855,0.28463,0.28623,0.29076,0.29996,0.20845,0.31605,0.30751,0.26296,0.21431,0.27157,0.2535,0.32833,0.3019,0.27641,0.31552,0.29914,0.32347,0.28319,0.23641,0.24876,0.28167,0.27558,0.18715,0.28648,0.25233,0.29456,0.27998,0.26945,0.28613,0.33675,0.21668,0.26674,0.23652,0.26725,0.29767,0.2273,0.24076,0.18353,0.2928,0.29037,0.23448,0.20898,0.25633,0.25171],\"colorbar\":{\"thickness\":20,\"title\":{\"text\":\"Cross correlation coefficient\"}},\"colorscale\":[[0.0,\"#fee838\"],[0.1111111111111111,\"#e1cc55\"],[0.2222222222222222,\"#c3b369\"],[0.3333333333333333,\"#a59c74\"],[0.4444444444444444,\"#8a8678\"],[0.5555555555555556,\"#707173\"],[0.6666666666666666,\"#575d6d\"],[0.7777777777777778,\"#3b496c\"],[0.8888888888888888,\"#123570\"],[1.0,\"#00224e\"]],\"size\":6},\"mode\":\"markers\",\"name\":\"points\",\"x\":[333.96000000000004,323.928,385.704,285.91200000000003,327.096,386.232,292.776,265.848,334.488,378.312,346.10400000000004,413.68800000000005,278.52000000000004,404.71200000000005,323.40000000000003,360.36,325.512,377.784,356.136,358.776,356.136,329.736,286.44,380.952,274.296,406.296,350.32800000000003,419.49600000000004,278.52000000000004,400.488,362.47200000000004,373.03200000000004,357.192,405.76800000000003,288.024,402.072,292.248,332.904,314.42400000000004,386.232,411.048,347.688,421.08000000000004,343.992,420.024,269.016,286.44,394.15200000000004,283.272,283.8,295.416,383.59200000000004,416.32800000000003,393.096,286.44,379.368,297.0,360.36,399.96000000000004,321.81600000000003,408.93600000000004,346.632,350.856,320.76,363.528,317.064,380.42400000000004,411.048,328.15200000000004,376.728,296.47200000000004,357.192,272.184,307.03200000000004,379.896,356.136,411.576,348.216,282.216,358.776,323.40000000000003,417.384,284.856,324.98400000000004,365.64000000000004,354.552,275.35200000000003,375.144,357.72,420.552,266.37600000000003,419.49600000000004,403.12800000000004,284.856,336.072,337.656,421.08000000000004,288.024,282.744,272.712,290.664,268.488,360.36,265.848,387.81600000000003,379.896,393.624,293.30400000000003,379.896,279.576,307.03200000000004,414.744,291.72,287.49600000000004,294.88800000000003,396.79200000000003,378.84000000000003,370.92,393.624,337.656,284.32800000000003,338.712,289.08000000000004,378.312,277.464,318.648,304.92,375.144,281.16,387.81600000000003,297.528,346.632,414.744,356.136,396.79200000000003,378.84000000000003,334.488,329.736,330.264,405.24,349.8,305.976,338.184,282.744,318.648,365.112,345.576,370.92,291.72,408.408,366.696,304.392,326.56800000000004,391.512,372.504,377.25600000000003,348.216,366.696,310.2,421.08000000000004,352.44,278.52000000000004,411.048,391.512,403.12800000000004,405.76800000000003,345.576,337.12800000000004,373.03200000000004,382.00800000000004,365.64000000000004,271.656,305.976,300.168,338.712,367.224,371.44800000000004,364.584,401.016,389.928,388.344,366.168,303.336,412.632,411.576,310.728,363.0,395.73600000000005,368.28000000000003,398.37600000000003,402.072,329.736,311.25600000000003,272.184,407.88,327.096,348.744,286.44,321.81600000000003,395.208,414.216,299.64,304.92,370.92,390.456,417.384,314.42400000000004,334.488,303.336,331.32,357.192,355.08000000000004,285.91200000000003,386.76,391.512,321.81600000000003,339.24,363.528,417.91200000000003,373.03200000000004,422.136,377.25600000000003,293.832,375.672,289.08000000000004,278.52000000000004,274.296,268.488,367.224,352.44,391.512,402.6,376.20000000000005,354.024,352.968,324.456,295.416,379.368,361.944,377.784,367.752,315.48,378.312,368.808,276.408,377.25600000000003,271.128,278.52000000000004,364.584,407.35200000000003,411.048,310.2,382.536,413.16,358.776,298.584,387.288,363.528,293.832,345.048,418.44,337.656,290.664,304.92,404.71200000000005,292.776,313.368,339.76800000000003,293.30400000000003,283.8,359.30400000000003,355.08000000000004,301.224,392.04,340.296,318.12,293.30400000000003,367.752,414.216,377.784,280.632,386.76,393.624,398.904,276.408,327.624,414.216,326.56800000000004,409.464,294.36,402.072,415.8,408.408,397.32,304.392,369.86400000000003,371.976,340.296,388.872,327.624,295.416,395.208,329.208,399.432,339.76800000000003,300.168,313.896,363.528,352.44,316.536,414.216,334.488,378.312,269.54400000000004,390.456,399.96000000000004,355.608,410.52000000000004,366.168,365.64000000000004,347.16,310.728,379.368,291.72,371.976,303.336,329.208,275.88,277.464,320.76,343.992,373.56,307.03200000000004,267.432,342.93600000000004,397.848,275.88,390.98400000000004,338.712,344.52000000000004,383.59200000000004,371.976,407.35200000000003,410.52000000000004,328.15200000000004,279.048,375.144,361.416,297.528,408.408,337.12800000000004,351.384,420.552,305.44800000000004,293.832,366.168,340.824,405.76800000000003,286.44,380.952,367.224,309.144,360.36,290.664,327.096,311.25600000000003,364.584,352.968,386.232,384.648,418.968,389.928,293.30400000000003,309.144,339.76800000000003,406.824,344.52000000000004,377.784,277.464,401.016,320.232,337.656,359.832,267.96000000000004,268.488,420.552,393.624,413.68800000000005,308.088,412.632,273.76800000000003,397.848,274.296,310.728,305.976,361.944,276.408,323.928,369.336,395.208,265.32,384.648,303.86400000000003,405.76800000000003,410.52000000000004,380.42400000000004,339.24,412.10400000000004,343.992,352.44,273.24,335.016,325.512,316.00800000000004,351.91200000000003,301.752,367.224,375.672,402.6,301.224,314.42400000000004,345.048,288.552,347.16,384.12,367.752,402.072,360.36,360.88800000000003,370.392,420.552,346.632,273.24,389.928,303.86400000000003,384.12,273.76800000000003,347.16,337.12800000000004,386.76,295.944,322.872,300.168,398.37600000000003,326.04],\"y\":[341.88,302.808,385.704,359.30400000000003,366.696,365.64000000000004,379.368,352.44,308.088,380.952,416.32800000000003,281.16,366.696,367.224,365.64000000000004,382.536,274.824,337.656,305.976,349.272,298.584,303.86400000000003,367.752,409.992,333.96000000000004,375.672,387.288,352.44,346.632,291.72,268.488,392.56800000000004,370.92,353.49600000000004,274.296,302.28000000000003,364.05600000000004,276.408,326.56800000000004,293.832,397.848,270.6,404.184,393.096,316.00800000000004,286.44,387.288,279.576,338.712,289.08000000000004,292.248,302.808,316.00800000000004,340.824,420.024,318.12,353.49600000000004,324.98400000000004,318.12,317.064,371.44800000000004,416.856,311.25600000000003,358.776,269.016,415.272,408.408,351.384,398.904,331.848,278.52000000000004,283.8,295.416,270.6,330.79200000000003,362.47200000000004,294.36,324.98400000000004,314.952,379.896,375.144,405.24,419.49600000000004,381.48,292.248,349.8,350.32800000000003,408.93600000000004,399.96000000000004,411.048,349.272,380.42400000000004,397.32,375.144,414.216,299.112,356.66400000000004,303.86400000000003,350.856,370.92,350.32800000000003,388.344,405.24,376.20000000000005,328.68,346.632,392.04,288.024,333.432,321.81600000000003,311.25600000000003,337.12800000000004,348.744,264.264,314.952,385.17600000000004,297.0,365.64000000000004,394.15200000000004,395.208,395.208,330.264,405.24,316.536,341.35200000000003,308.61600000000004,281.688,378.84000000000003,335.54400000000004,411.048,392.56800000000004,277.992,361.416,333.96000000000004,349.272,358.248,339.24,304.392,264.264,412.10400000000004,370.392,301.224,284.32800000000003,300.696,281.16,279.048,304.92,360.36,299.64,322.344,351.384,292.776,374.61600000000004,352.44,268.488,270.6,304.392,287.49600000000004,405.76800000000003,340.296,406.824,399.96000000000004,270.6,351.384,280.104,413.68800000000005,373.03200000000004,267.432,282.744,383.064,377.25600000000003,324.456,293.30400000000003,335.54400000000004,377.25600000000003,414.744,332.904,380.952,359.30400000000003,276.408,342.408,340.824,361.416,398.37600000000003,383.59200000000004,392.04,400.488,357.72,360.36,349.272,402.6,330.264,370.92,280.104,340.824,285.384,346.10400000000004,327.624,266.904,332.37600000000003,322.872,368.808,293.30400000000003,387.81600000000003,319.704,297.528,292.776,287.49600000000004,397.848,304.92,354.552,413.16,322.344,307.56,314.952,365.64000000000004,341.88,334.488,269.016,297.0,324.98400000000004,366.696,362.47200000000004,360.88800000000003,394.68,359.30400000000003,376.728,341.88,379.896,364.05600000000004,311.25600000000003,416.32800000000003,394.68,313.368,340.296,333.96000000000004,398.37600000000003,320.232,332.904,396.79200000000003,267.96000000000004,338.712,267.96000000000004,324.456,399.432,309.144,367.752,330.264,309.672,321.81600000000003,367.752,403.12800000000004,350.856,354.024,275.35200000000003,309.672,329.208,406.824,310.2,302.808,278.52000000000004,312.312,298.05600000000004,294.36,313.368,272.184,279.048,348.744,353.49600000000004,343.992,354.024,301.752,326.56800000000004,332.37600000000003,266.904,290.136,418.44,367.224,319.704,363.528,343.464,271.128,276.408,304.392,403.12800000000004,283.8,361.416,267.432,412.632,379.896,329.736,390.98400000000004,311.784,412.10400000000004,279.576,415.8,403.656,323.928,327.624,328.68,308.61600000000004,303.336,357.72,376.728,403.656,314.42400000000004,333.432,300.696,337.12800000000004,349.8,409.992,396.264,290.664,318.12,388.344,367.752,265.32,389.40000000000003,333.432,300.168,289.08000000000004,266.904,384.12,334.488,336.6,347.16,387.288,305.44800000000004,384.12,372.504,394.68,345.048,284.856,385.704,419.49600000000004,289.608,389.40000000000003,356.136,269.54400000000004,310.728,355.08000000000004,373.03200000000004,338.184,306.504,312.312,317.59200000000004,295.416,305.44800000000004,301.752,289.608,384.648,274.824,402.072,279.576,393.096,369.86400000000003,326.04,354.552,357.192,365.112,350.856,391.512,303.86400000000003,404.184,363.0,368.808,316.00800000000004,280.632,387.288,378.84000000000003,415.8,377.784,312.84000000000003,414.744,322.344,313.368,349.272,394.15200000000004,382.00800000000004,366.696,302.808,294.88800000000003,286.968,332.37600000000003,396.79200000000003,341.88,394.68,369.86400000000003,361.416,264.79200000000003,291.72,344.52000000000004,324.98400000000004,269.016,366.168,294.88800000000003,304.92,387.288,362.47200000000004,417.91200000000003,398.37600000000003,359.30400000000003,333.96000000000004,387.288,407.88,338.712,364.05600000000004,303.86400000000003,375.144,304.92,357.192,348.744,320.232,270.6,265.848,319.704,302.808,367.752,329.736,339.76800000000003,285.91200000000003,402.072,348.216,346.10400000000004,388.344,351.91200000000003,413.68800000000005,341.88,370.92,267.96000000000004,348.216,411.576,417.384,419.49600000000004,318.12,345.576,335.016,272.184,393.096,298.584,280.104,318.12,402.6,386.76,366.696],\"z\":[77.352,84.21600000000001,66.792,53.064,11.352,78.936,81.57600000000001,56.760000000000005,30.360000000000003,85.8,16.104,21.912000000000003,11.352,35.112,82.632,72.60000000000001,82.104,10.824,13.992,27.192,84.744,45.144000000000005,66.792,37.752,69.96000000000001,84.21600000000001,60.456,29.832,36.168,76.296,67.32000000000001,83.16000000000001,69.96000000000001,55.704,63.096000000000004,85.8,44.088,81.57600000000001,34.584,75.768,73.656,68.376,59.928000000000004,74.184,88.968,36.168,75.24000000000001,75.768,37.752,79.992,73.656,78.408,50.952000000000005,84.744,80.52000000000001,83.688,61.512,83.688,52.008,78.408,73.656,55.704,26.664,54.648,25.608,30.360000000000003,82.104,39.864000000000004,15.576,85.272,40.92,72.072,68.904,41.448,58.872,81.048,60.984,60.984,22.968,85.272,42.504000000000005,74.712,27.192,17.16,81.57600000000001,53.592000000000006,81.048,17.16,76.296,28.776,79.464,24.024,25.080000000000002,71.544,73.128,56.760000000000005,53.064,43.56,26.664,21.912000000000003,28.248,76.296,60.984,79.464,73.128,79.464,21.384,58.344,74.184,73.128,79.464,60.984,71.544,63.096000000000004,43.56,85.8,19.272000000000002,67.32000000000001,68.904,39.336,74.184,15.576,13.464,66.792,44.616,21.912000000000003,34.584,39.864000000000004,70.488,81.048,11.88,79.992,87.912,13.992,88.968,86.85600000000001,32.472,62.568000000000005,22.968,34.056000000000004,20.328,45.672000000000004,54.120000000000005,65.736,52.536,25.608,49.896,24.024,81.048,48.84,27.192,72.072,75.24000000000001,78.408,14.520000000000001,84.744,75.24000000000001,35.112,26.136000000000003,81.048,73.656,47.784,66.26400000000001,15.048,76.824,62.040000000000006,72.60000000000001,83.688,83.16000000000001,40.92,59.400000000000006,50.952000000000005,36.168,82.632,54.648,56.760000000000005,73.128,33.528,11.88,13.464,15.048,69.432,53.592000000000006,24.024,55.704,50.952000000000005,29.832,68.376,31.944000000000003,13.992,78.936,20.328,69.96000000000001,76.296,48.312000000000005,34.584,72.60000000000001,74.712,73.128,10.296000000000001,86.85600000000001,42.504000000000005,13.992,27.192,15.048,14.520000000000001,70.488,24.024,60.456,79.992,69.432,44.616,20.856,11.352,63.624,19.8,67.32000000000001,28.248,33.528,85.272,52.008,13.464,22.968,30.888,14.520000000000001,62.568000000000005,40.92,44.088,76.296,62.040000000000006,28.776,89.49600000000001,24.552,15.048,40.392,37.752,47.784,21.384,81.048,61.512,49.368,77.352,67.32000000000001,85.272,21.384,19.272000000000002,81.048,29.304000000000002,18.744,31.416,25.080000000000002,12.936,14.520000000000001,52.536,17.688000000000002,78.936,11.88,86.328,66.26400000000001,83.688,45.144000000000005,76.824,21.384,81.048,17.16,48.312000000000005,82.632,85.8,15.048,69.96000000000001,78.408,25.608,17.688000000000002,79.992,59.928000000000004,38.28,10.296000000000001,17.16,24.024,77.88000000000001,58.344,20.856,26.136000000000003,71.016,62.568000000000005,78.936,94.77600000000001,45.144000000000005,23.496000000000002,15.048,71.016,82.632,52.536,81.57600000000001,45.144000000000005,75.768,68.904,58.872,87.384,73.128,32.472,19.272000000000002,18.744,12.936,75.24000000000001,10.824,51.480000000000004,18.744,63.096000000000004,77.88000000000001,44.616,84.744,71.544,22.968,28.776,83.688,33.528,11.352,10.296000000000001,53.064,33.528,60.984,15.048,87.912,60.984,70.488,85.272,57.816,76.296,33.528,64.152,43.032000000000004,16.632,57.816,75.768,24.024,67.32000000000001,22.44,48.84,82.632,77.88000000000001,29.832,81.57600000000001,71.544,63.096000000000004,59.928000000000004,37.224000000000004,65.736,46.2,11.352,17.16,28.776,84.744,81.048,69.96000000000001,39.864000000000004,29.832,62.568000000000005,68.904,90.552,18.216,24.024,32.472,22.44,90.024,45.144000000000005,73.128,64.152,82.104,29.832,91.608,49.368,58.344,23.496000000000002,77.352,83.16000000000001,53.064,50.424,31.944000000000003,75.768,49.368,81.048,64.152,27.720000000000002,64.68,20.856,12.408000000000001,83.688,77.88000000000001,22.968,48.312000000000005,58.344,11.88,33.528,97.944,36.696000000000005,83.16000000000001,39.864000000000004,75.24000000000001,65.208,10.296000000000001,11.352,13.992,65.736,13.464,29.832,57.288000000000004,57.288000000000004,10.296000000000001,43.032000000000004,76.824,62.568000000000005,11.88,52.008,10.296000000000001,37.752,72.60000000000001,57.816,85.8,24.024,77.352,84.21600000000001,58.872,16.632,88.968,79.992,10.824,50.952000000000005,78.408,67.32000000000001,77.88000000000001,81.048,76.296,17.688000000000002,28.776,21.912000000000003,103.224,44.088,10.296000000000001,37.752,48.84,35.64,27.720000000000002,13.464,43.56],\"type\":\"scatter3d\"}],                        {\"template\":{\"data\":{\"bar\":[{\"error_x\":{\"color\":\"#2a3f5f\"},\"error_y\":{\"color\":\"#2a3f5f\"},\"marker\":{\"line\":{\"color\":\"#E5ECF6\",\"width\":0.5},\"pattern\":{\"fillmode\":\"overlay\",\"size\":10,\"solidity\":0.2}},\"type\":\"bar\"}],\"barpolar\":[{\"marker\":{\"line\":{\"color\":\"#E5ECF6\",\"width\":0.5},\"pattern\":{\"fillmode\":\"overlay\",\"size\":10,\"solidity\":0.2}},\"type\":\"barpolar\"}],\"carpet\":[{\"aaxis\":{\"endlinecolor\":\"#2a3f5f\",\"gridcolor\":\"white\",\"linecolor\":\"white\",\"minorgridcolor\":\"white\",\"startlinecolor\":\"#2a3f5f\"},\"baxis\":{\"endlinecolor\":\"#2a3f5f\",\"gridcolor\":\"white\",\"linecolor\":\"white\",\"minorgridcolor\":\"white\",\"startlinecolor\":\"#2a3f5f\"},\"type\":\"carpet\"}],\"choropleth\":[{\"colorbar\":{\"outlinewidth\":0,\"ticks\":\"\"},\"type\":\"choropleth\"}],\"contour\":[{\"colorbar\":{\"outlinewidth\":0,\"ticks\":\"\"},\"colorscale\":[[0.0,\"#0d0887\"],[0.1111111111111111,\"#46039f\"],[0.2222222222222222,\"#7201a8\"],[0.3333333333333333,\"#9c179e\"],[0.4444444444444444,\"#bd3786\"],[0.5555555555555556,\"#d8576b\"],[0.6666666666666666,\"#ed7953\"],[0.7777777777777778,\"#fb9f3a\"],[0.8888888888888888,\"#fdca26\"],[1.0,\"#f0f921\"]],\"type\":\"contour\"}],\"contourcarpet\":[{\"colorbar\":{\"outlinewidth\":0,\"ticks\":\"\"},\"type\":\"contourcarpet\"}],\"heatmap\":[{\"colorbar\":{\"outlinewidth\":0,\"ticks\":\"\"},\"colorscale\":[[0.0,\"#0d0887\"],[0.1111111111111111,\"#46039f\"],[0.2222222222222222,\"#7201a8\"],[0.3333333333333333,\"#9c179e\"],[0.4444444444444444,\"#bd3786\"],[0.5555555555555556,\"#d8576b\"],[0.6666666666666666,\"#ed7953\"],[0.7777777777777778,\"#fb9f3a\"],[0.8888888888888888,\"#fdca26\"],[1.0,\"#f0f921\"]],\"type\":\"heatmap\"}],\"heatmapgl\":[{\"colorbar\":{\"outlinewidth\":0,\"ticks\":\"\"},\"colorscale\":[[0.0,\"#0d0887\"],[0.1111111111111111,\"#46039f\"],[0.2222222222222222,\"#7201a8\"],[0.3333333333333333,\"#9c179e\"],[0.4444444444444444,\"#bd3786\"],[0.5555555555555556,\"#d8576b\"],[0.6666666666666666,\"#ed7953\"],[0.7777777777777778,\"#fb9f3a\"],[0.8888888888888888,\"#fdca26\"],[1.0,\"#f0f921\"]],\"type\":\"heatmapgl\"}],\"histogram\":[{\"marker\":{\"pattern\":{\"fillmode\":\"overlay\",\"size\":10,\"solidity\":0.2}},\"type\":\"histogram\"}],\"histogram2d\":[{\"colorbar\":{\"outlinewidth\":0,\"ticks\":\"\"},\"colorscale\":[[0.0,\"#0d0887\"],[0.1111111111111111,\"#46039f\"],[0.2222222222222222,\"#7201a8\"],[0.3333333333333333,\"#9c179e\"],[0.4444444444444444,\"#bd3786\"],[0.5555555555555556,\"#d8576b\"],[0.6666666666666666,\"#ed7953\"],[0.7777777777777778,\"#fb9f3a\"],[0.8888888888888888,\"#fdca26\"],[1.0,\"#f0f921\"]],\"type\":\"histogram2d\"}],\"histogram2dcontour\":[{\"colorbar\":{\"outlinewidth\":0,\"ticks\":\"\"},\"colorscale\":[[0.0,\"#0d0887\"],[0.1111111111111111,\"#46039f\"],[0.2222222222222222,\"#7201a8\"],[0.3333333333333333,\"#9c179e\"],[0.4444444444444444,\"#bd3786\"],[0.5555555555555556,\"#d8576b\"],[0.6666666666666666,\"#ed7953\"],[0.7777777777777778,\"#fb9f3a\"],[0.8888888888888888,\"#fdca26\"],[1.0,\"#f0f921\"]],\"type\":\"histogram2dcontour\"}],\"mesh3d\":[{\"colorbar\":{\"outlinewidth\":0,\"ticks\":\"\"},\"type\":\"mesh3d\"}],\"parcoords\":[{\"line\":{\"colorbar\":{\"outlinewidth\":0,\"ticks\":\"\"}},\"type\":\"parcoords\"}],\"pie\":[{\"automargin\":true,\"type\":\"pie\"}],\"scatter\":[{\"marker\":{\"colorbar\":{\"outlinewidth\":0,\"ticks\":\"\"}},\"type\":\"scatter\"}],\"scatter3d\":[{\"line\":{\"colorbar\":{\"outlinewidth\":0,\"ticks\":\"\"}},\"marker\":{\"colorbar\":{\"outlinewidth\":0,\"ticks\":\"\"}},\"type\":\"scatter3d\"}],\"scattercarpet\":[{\"marker\":{\"colorbar\":{\"outlinewidth\":0,\"ticks\":\"\"}},\"type\":\"scattercarpet\"}],\"scattergeo\":[{\"marker\":{\"colorbar\":{\"outlinewidth\":0,\"ticks\":\"\"}},\"type\":\"scattergeo\"}],\"scattergl\":[{\"marker\":{\"colorbar\":{\"outlinewidth\":0,\"ticks\":\"\"}},\"type\":\"scattergl\"}],\"scattermapbox\":[{\"marker\":{\"colorbar\":{\"outlinewidth\":0,\"ticks\":\"\"}},\"type\":\"scattermapbox\"}],\"scatterpolar\":[{\"marker\":{\"colorbar\":{\"outlinewidth\":0,\"ticks\":\"\"}},\"type\":\"scatterpolar\"}],\"scatterpolargl\":[{\"marker\":{\"colorbar\":{\"outlinewidth\":0,\"ticks\":\"\"}},\"type\":\"scatterpolargl\"}],\"scatterternary\":[{\"marker\":{\"colorbar\":{\"outlinewidth\":0,\"ticks\":\"\"}},\"type\":\"scatterternary\"}],\"surface\":[{\"colorbar\":{\"outlinewidth\":0,\"ticks\":\"\"},\"colorscale\":[[0.0,\"#0d0887\"],[0.1111111111111111,\"#46039f\"],[0.2222222222222222,\"#7201a8\"],[0.3333333333333333,\"#9c179e\"],[0.4444444444444444,\"#bd3786\"],[0.5555555555555556,\"#d8576b\"],[0.6666666666666666,\"#ed7953\"],[0.7777777777777778,\"#fb9f3a\"],[0.8888888888888888,\"#fdca26\"],[1.0,\"#f0f921\"]],\"type\":\"surface\"}],\"table\":[{\"cells\":{\"fill\":{\"color\":\"#EBF0F8\"},\"line\":{\"color\":\"white\"}},\"header\":{\"fill\":{\"color\":\"#C8D4E3\"},\"line\":{\"color\":\"white\"}},\"type\":\"table\"}]},\"layout\":{\"annotationdefaults\":{\"arrowcolor\":\"#2a3f5f\",\"arrowhead\":0,\"arrowwidth\":1},\"autotypenumbers\":\"strict\",\"coloraxis\":{\"colorbar\":{\"outlinewidth\":0,\"ticks\":\"\"}},\"colorscale\":{\"diverging\":[[0,\"#8e0152\"],[0.1,\"#c51b7d\"],[0.2,\"#de77ae\"],[0.3,\"#f1b6da\"],[0.4,\"#fde0ef\"],[0.5,\"#f7f7f7\"],[0.6,\"#e6f5d0\"],[0.7,\"#b8e186\"],[0.8,\"#7fbc41\"],[0.9,\"#4d9221\"],[1,\"#276419\"]],\"sequential\":[[0.0,\"#0d0887\"],[0.1111111111111111,\"#46039f\"],[0.2222222222222222,\"#7201a8\"],[0.3333333333333333,\"#9c179e\"],[0.4444444444444444,\"#bd3786\"],[0.5555555555555556,\"#d8576b\"],[0.6666666666666666,\"#ed7953\"],[0.7777777777777778,\"#fb9f3a\"],[0.8888888888888888,\"#fdca26\"],[1.0,\"#f0f921\"]],\"sequentialminus\":[[0.0,\"#0d0887\"],[0.1111111111111111,\"#46039f\"],[0.2222222222222222,\"#7201a8\"],[0.3333333333333333,\"#9c179e\"],[0.4444444444444444,\"#bd3786\"],[0.5555555555555556,\"#d8576b\"],[0.6666666666666666,\"#ed7953\"],[0.7777777777777778,\"#fb9f3a\"],[0.8888888888888888,\"#fdca26\"],[1.0,\"#f0f921\"]]},\"colorway\":[\"#636efa\",\"#EF553B\",\"#00cc96\",\"#ab63fa\",\"#FFA15A\",\"#19d3f3\",\"#FF6692\",\"#B6E880\",\"#FF97FF\",\"#FECB52\"],\"font\":{\"color\":\"#2a3f5f\"},\"geo\":{\"bgcolor\":\"white\",\"lakecolor\":\"white\",\"landcolor\":\"#E5ECF6\",\"showlakes\":true,\"showland\":true,\"subunitcolor\":\"white\"},\"hoverlabel\":{\"align\":\"left\"},\"hovermode\":\"closest\",\"mapbox\":{\"style\":\"light\"},\"paper_bgcolor\":\"white\",\"plot_bgcolor\":\"#E5ECF6\",\"polar\":{\"angularaxis\":{\"gridcolor\":\"white\",\"linecolor\":\"white\",\"ticks\":\"\"},\"bgcolor\":\"#E5ECF6\",\"radialaxis\":{\"gridcolor\":\"white\",\"linecolor\":\"white\",\"ticks\":\"\"}},\"scene\":{\"xaxis\":{\"backgroundcolor\":\"#E5ECF6\",\"gridcolor\":\"white\",\"gridwidth\":2,\"linecolor\":\"white\",\"showbackground\":true,\"ticks\":\"\",\"zerolinecolor\":\"white\"},\"yaxis\":{\"backgroundcolor\":\"#E5ECF6\",\"gridcolor\":\"white\",\"gridwidth\":2,\"linecolor\":\"white\",\"showbackground\":true,\"ticks\":\"\",\"zerolinecolor\":\"white\"},\"zaxis\":{\"backgroundcolor\":\"#E5ECF6\",\"gridcolor\":\"white\",\"gridwidth\":2,\"linecolor\":\"white\",\"showbackground\":true,\"ticks\":\"\",\"zerolinecolor\":\"white\"}},\"shapedefaults\":{\"line\":{\"color\":\"#2a3f5f\"}},\"ternary\":{\"aaxis\":{\"gridcolor\":\"white\",\"linecolor\":\"white\",\"ticks\":\"\"},\"baxis\":{\"gridcolor\":\"white\",\"linecolor\":\"white\",\"ticks\":\"\"},\"bgcolor\":\"#E5ECF6\",\"caxis\":{\"gridcolor\":\"white\",\"linecolor\":\"white\",\"ticks\":\"\"}},\"title\":{\"x\":0.05},\"xaxis\":{\"automargin\":true,\"gridcolor\":\"white\",\"linecolor\":\"white\",\"ticks\":\"\",\"title\":{\"standoff\":15},\"zerolinecolor\":\"white\",\"zerolinewidth\":2},\"yaxis\":{\"automargin\":true,\"gridcolor\":\"white\",\"linecolor\":\"white\",\"ticks\":\"\",\"title\":{\"standoff\":15},\"zerolinecolor\":\"white\",\"zerolinewidth\":2}}},\"scene\":{\"zaxis\":{\"nticks\":4,\"range\":[0,150],\"title\":{\"text\":\"z-coordinates in nm\"}},\"xaxis\":{\"title\":{\"text\":\"x-coordinates in nm\"}},\"yaxis\":{\"title\":{\"text\":\"y-coordinates in nm\"}}}},                        {\"responsive\": true}                    ).then(function(){\n",
       "                            \n",
       "var gd = document.getElementById('cf119b18-c5c7-4409-9870-35b6a6752ee7');\n",
       "var x = new MutationObserver(function (mutations, observer) {{\n",
       "        var display = window.getComputedStyle(gd).display;\n",
       "        if (!display || display === 'none') {{\n",
       "            console.log([gd, 'removed!']);\n",
       "            Plotly.purge(gd);\n",
       "            observer.disconnect();\n",
       "        }}\n",
       "}});\n",
       "\n",
       "// Listen for the removal of the full notebook cells\n",
       "var notebookContainer = gd.closest('#notebook-container');\n",
       "if (notebookContainer) {{\n",
       "    x.observe(notebookContainer, {childList: true});\n",
       "}}\n",
       "\n",
       "// Listen for the clearing of the current output cell\n",
       "var outputEl = gd.closest('.output');\n",
       "if (outputEl) {{\n",
       "    x.observe(outputEl, {childList: true});\n",
       "}}\n",
       "\n",
       "                        })                };                            </script>        </div>\n",
       "</body>\n",
       "</html>"
      ]
     },
     "metadata": {},
     "output_type": "display_data"
    }
   ],
   "source": [
    "plotCC(df_1, z_scale=150, scale=0.528)"
   ]
  },
  {
   "cell_type": "markdown",
   "metadata": {
    "id": "ihPEP-g30ZNN"
   },
   "source": [
    "### Clustering"
   ]
  },
  {
   "cell_type": "markdown",
   "metadata": {
    "id": "kRdde2muTgcq"
   },
   "source": [
    "scale = 0.528"
   ]
  },
  {
   "cell_type": "code",
   "execution_count": 26,
   "metadata": {
    "executionInfo": {
     "elapsed": 455,
     "status": "ok",
     "timestamp": 1666303101387,
     "user": {
      "displayName": "Minrui Li",
      "userId": "16054889870722932426"
     },
     "user_tz": -660
    },
    "id": "owMLP-R7Tf53"
   },
   "outputs": [],
   "source": [
    "df_1['x_nm'] = df_1.x * 0.528\n",
    "df_1['y_nm'] = df_1.y * 0.528\n",
    "df_1['z_nm'] = df_1.z * 0.528"
   ]
  },
  {
   "cell_type": "code",
   "execution_count": 28,
   "metadata": {
    "executionInfo": {
     "elapsed": 773,
     "status": "ok",
     "timestamp": 1666303110218,
     "user": {
      "displayName": "Minrui Li",
      "userId": "16054889870722932426"
     },
     "user_tz": -660
    },
    "id": "3ab5elKB0Ya2"
   },
   "outputs": [],
   "source": [
    "from sklearn.cluster import DBSCAN\n",
    "import numpy as np\n",
    "DBSCAN_cluster = DBSCAN(eps=20, min_samples=8).fit(df_1[['x_nm', 'y_nm', 'z_nm']]) "
   ]
  },
  {
   "cell_type": "code",
   "execution_count": 29,
   "metadata": {
    "executionInfo": {
     "elapsed": 293,
     "status": "ok",
     "timestamp": 1666303111855,
     "user": {
      "displayName": "Minrui Li",
      "userId": "16054889870722932426"
     },
     "user_tz": -660
    },
    "id": "JvreeROW3nEG"
   },
   "outputs": [],
   "source": [
    "df_1['labels'] = DBSCAN_cluster.labels_"
   ]
  },
  {
   "cell_type": "code",
   "execution_count": 30,
   "metadata": {
    "colab": {
     "base_uri": "https://localhost:8080/"
    },
    "executionInfo": {
     "elapsed": 2,
     "status": "ok",
     "timestamp": 1666303113538,
     "user": {
      "displayName": "Minrui Li",
      "userId": "16054889870722932426"
     },
     "user_tz": -660
    },
    "id": "MrGaY7F73vxc",
    "outputId": "2e77e48b-e423-4a4c-9acd-b6499c0a34fb"
   },
   "outputs": [
    {
     "data": {
      "text/plain": [
       " 0    280\n",
       "-1     60\n",
       " 1     51\n",
       " 2     32\n",
       " 4     12\n",
       " 3      8\n",
       " 5      2\n",
       "Name: labels, dtype: int64"
      ]
     },
     "execution_count": 30,
     "metadata": {},
     "output_type": "execute_result"
    }
   ],
   "source": [
    "# Show number of clusters & noise (label=-1)\n",
    "df_1['labels'].value_counts()"
   ]
  },
  {
   "cell_type": "code",
   "execution_count": 31,
   "metadata": {
    "colab": {
     "base_uri": "https://localhost:8080/",
     "height": 542
    },
    "executionInfo": {
     "elapsed": 1245,
     "status": "ok",
     "timestamp": 1666303136450,
     "user": {
      "displayName": "Minrui Li",
      "userId": "16054889870722932426"
     },
     "user_tz": -660
    },
    "id": "kNP0v-GQ9P5f",
    "outputId": "d238a463-06cd-4be6-e6bb-21a4199761c3"
   },
   "outputs": [
    {
     "data": {
      "text/html": [
       "<html>\n",
       "<head><meta charset=\"utf-8\" /></head>\n",
       "<body>\n",
       "    <div>            <script src=\"https://cdnjs.cloudflare.com/ajax/libs/mathjax/2.7.5/MathJax.js?config=TeX-AMS-MML_SVG\"></script><script type=\"text/javascript\">if (window.MathJax) {MathJax.Hub.Config({SVG: {font: \"STIX-Web\"}});}</script>                <script type=\"text/javascript\">window.PlotlyConfig = {MathJaxConfig: 'local'};</script>\n",
       "        <script src=\"https://cdn.plot.ly/plotly-2.8.3.min.js\"></script>                <div id=\"14b14ca0-981f-4701-b1fe-fc715f473093\" class=\"plotly-graph-div\" style=\"height:525px; width:100%;\"></div>            <script type=\"text/javascript\">                                    window.PLOTLYENV=window.PLOTLYENV || {};                                    if (document.getElementById(\"14b14ca0-981f-4701-b1fe-fc715f473093\")) {                    Plotly.newPlot(                        \"14b14ca0-981f-4701-b1fe-fc715f473093\",                        [{\"hovertemplate\":\"x_nm=%{x}<br>y_nm=%{y}<br>z_nm=%{z}<br>labels=%{marker.color}<extra></extra>\",\"legendgroup\":\"\",\"marker\":{\"color\":[0,0,0,0,3,0,0,0,0,0,0,0,1,2,1,0,0,0,0,0,0,0,0,0,0,0,0,0,0,0,0,0,0,0,0,0,0,0,0,0,0,0,0,0,0,0,0,0,0,0,0,0,2,0,2,0,0,3,0,0,0,0,0,0,0,0,0,0,0,5,0,4,3,0,0,0,1,0,1,0,1,1,0,0,0,0,0,0,0,0,0,0,0,0,1,0,0,0,0,0,0,0,0,0,2,0,0,0,4,0,0,0,0,1,0,0,4,0,0,1,0,0,0,1,1,0,0,0,0,2,0,1,0,0,1,0,0,0,2,0,2,4,0,0,0,1,0,0,0,0,0,1,0,0,0,0,0,0,0,1,1,1,0,0,1,1,0,1,1,0,0,0,0,0,0,1,0,0,1,2,0,2,0,0,0,0,2,0,3,0,1,0,0,1,1,4,0,0,0,0,2,0,1,2,0,2,0,0,0,0,0,0,4,2,0,0,2,2,4,1,0,2,0,1,0,0,0,0,0,0,2,0,0,0,0,0,2,0,0,0,0,4,1,0,0,0,0,0,0,0,1,4,0,0,0,0,0,0,0,0,0,0,0,2,1,0,0,2,0,0,0,0,0,1,0,2,1,1,0,2,0,1,0,0,0,0,0,0,3,0,0,0,0,0,2,0,1,0,0,1,0,0,0,0,2,0,0,3,2,0,0,0,1,2,0,0,0,1,3,2,4,5,0,0,0,1,0,1,0,4,0,0,0,1,0,0,0,0,0,0,1,0,0,0,0,0,0,2,0,0,1,0,1,1,0,0,2,0,0,0,0,0,0,0,0,0,0,1,0,0,0,0,0,0,0,0,1,2,3,2,0,0,4,1,0],\"coloraxis\":\"coloraxis\",\"symbol\":\"circle\"},\"mode\":\"markers\",\"name\":\"\",\"scene\":\"scene\",\"showlegend\":false,\"x\":[333.96000000000004,323.928,385.704,285.91200000000003,327.096,386.232,292.776,265.848,334.488,378.312,360.36,325.512,377.784,356.136,358.776,356.136,329.736,286.44,274.296,406.296,350.32800000000003,278.52000000000004,400.488,362.47200000000004,373.03200000000004,357.192,405.76800000000003,288.024,402.072,292.248,332.904,314.42400000000004,386.232,411.048,347.688,421.08000000000004,343.992,286.44,394.15200000000004,283.272,283.8,295.416,383.59200000000004,416.32800000000003,393.096,379.368,297.0,360.36,399.96000000000004,321.81600000000003,408.93600000000004,346.632,350.856,320.76,363.528,380.42400000000004,411.048,328.15200000000004,376.728,296.47200000000004,357.192,272.184,307.03200000000004,379.896,356.136,411.576,348.216,282.216,358.776,323.40000000000003,417.384,284.856,324.98400000000004,365.64000000000004,354.552,275.35200000000003,375.144,357.72,420.552,266.37600000000003,419.49600000000004,403.12800000000004,284.856,336.072,337.656,421.08000000000004,288.024,282.744,290.664,268.488,360.36,265.848,387.81600000000003,379.896,393.624,293.30400000000003,379.896,279.576,307.03200000000004,414.744,291.72,287.49600000000004,294.88800000000003,396.79200000000003,378.84000000000003,370.92,393.624,284.32800000000003,289.08000000000004,378.312,277.464,318.648,304.92,375.144,281.16,387.81600000000003,297.528,346.632,414.744,356.136,396.79200000000003,378.84000000000003,329.736,405.24,349.8,305.976,338.184,282.744,318.648,365.112,345.576,370.92,291.72,408.408,366.696,304.392,326.56800000000004,391.512,372.504,348.216,366.696,310.2,421.08000000000004,352.44,278.52000000000004,391.512,403.12800000000004,405.76800000000003,345.576,337.12800000000004,373.03200000000004,382.00800000000004,365.64000000000004,271.656,305.976,300.168,338.712,367.224,371.44800000000004,364.584,401.016,388.344,366.168,303.336,412.632,363.0,395.73600000000005,368.28000000000003,398.37600000000003,402.072,407.88,327.096,348.744,286.44,321.81600000000003,395.208,414.216,299.64,370.92,390.456,314.42400000000004,334.488,331.32,357.192,355.08000000000004,285.91200000000003,386.76,391.512,321.81600000000003,339.24,363.528,373.03200000000004,422.136,377.25600000000003,375.672,289.08000000000004,278.52000000000004,268.488,367.224,352.44,391.512,402.6,376.20000000000005,354.024,352.968,379.368,361.944,377.784,367.752,315.48,378.312,368.808,276.408,377.25600000000003,271.128,278.52000000000004,364.584,407.35200000000003,310.2,382.536,413.16,358.776,298.584,387.288,363.528,293.832,345.048,337.656,290.664,304.92,404.71200000000005,292.776,313.368,339.76800000000003,283.8,359.30400000000003,355.08000000000004,301.224,392.04,340.296,318.12,293.30400000000003,367.752,377.784,280.632,398.904,276.408,327.624,414.216,326.56800000000004,409.464,294.36,402.072,415.8,408.408,397.32,304.392,369.86400000000003,371.976,340.296,388.872,327.624,295.416,395.208,399.432,339.76800000000003,300.168,363.528,352.44,316.536,334.488,378.312,269.54400000000004,390.456,399.96000000000004,355.608,410.52000000000004,366.168,365.64000000000004,347.16,310.728,379.368,291.72,371.976,303.336,329.208,275.88,277.464,320.76,343.992,373.56,307.03200000000004,267.432,342.93600000000004,397.848,275.88,390.98400000000004,344.52000000000004,383.59200000000004,371.976,407.35200000000003,410.52000000000004,328.15200000000004,279.048,375.144,361.416,297.528,337.12800000000004,351.384,420.552,305.44800000000004,293.832,366.168,340.824,405.76800000000003,286.44,380.952,367.224,309.144,360.36,290.664,311.25600000000003,364.584,352.968,386.232,384.648,418.968,389.928,293.30400000000003,309.144,339.76800000000003,406.824,344.52000000000004,377.784,401.016,320.232,337.656,359.832,267.96000000000004,268.488,393.624,413.68800000000005,308.088,273.76800000000003,397.848,274.296,310.728,361.944,276.408,369.336,384.648,405.76800000000003,410.52000000000004,380.42400000000004,339.24,412.10400000000004,352.44,273.24,335.016,316.00800000000004,301.752,367.224,375.672,402.6,314.42400000000004,345.048,288.552,347.16,384.12,367.752,360.36,360.88800000000003,370.392,420.552,346.632,303.86400000000003,384.12,347.16,337.12800000000004,386.76,295.944,322.872,300.168,398.37600000000003,326.04],\"y\":[341.88,302.808,385.704,359.30400000000003,366.696,365.64000000000004,379.368,352.44,308.088,380.952,382.536,274.824,337.656,305.976,349.272,298.584,303.86400000000003,367.752,333.96000000000004,375.672,387.288,346.632,291.72,268.488,392.56800000000004,370.92,353.49600000000004,274.296,302.28000000000003,364.05600000000004,276.408,326.56800000000004,293.832,397.848,270.6,404.184,393.096,387.288,279.576,338.712,289.08000000000004,292.248,302.808,316.00800000000004,340.824,318.12,353.49600000000004,324.98400000000004,318.12,317.064,371.44800000000004,416.856,311.25600000000003,358.776,269.016,408.408,351.384,398.904,331.848,278.52000000000004,283.8,295.416,270.6,330.79200000000003,362.47200000000004,294.36,324.98400000000004,314.952,379.896,375.144,405.24,419.49600000000004,381.48,292.248,349.8,350.32800000000003,408.93600000000004,399.96000000000004,411.048,349.272,380.42400000000004,397.32,375.144,414.216,299.112,356.66400000000004,303.86400000000003,350.856,350.32800000000003,388.344,405.24,376.20000000000005,328.68,346.632,392.04,288.024,333.432,321.81600000000003,311.25600000000003,337.12800000000004,348.744,264.264,314.952,385.17600000000004,297.0,365.64000000000004,394.15200000000004,395.208,405.24,316.536,341.35200000000003,308.61600000000004,281.688,378.84000000000003,335.54400000000004,411.048,392.56800000000004,277.992,361.416,333.96000000000004,349.272,358.248,304.392,412.10400000000004,370.392,301.224,284.32800000000003,300.696,281.16,279.048,304.92,360.36,299.64,322.344,351.384,292.776,374.61600000000004,352.44,268.488,304.392,287.49600000000004,405.76800000000003,340.296,406.824,399.96000000000004,351.384,280.104,413.68800000000005,373.03200000000004,267.432,282.744,383.064,377.25600000000003,324.456,293.30400000000003,335.54400000000004,377.25600000000003,414.744,332.904,380.952,359.30400000000003,342.408,340.824,361.416,398.37600000000003,400.488,357.72,360.36,349.272,402.6,340.824,285.384,346.10400000000004,327.624,266.904,332.37600000000003,322.872,368.808,387.81600000000003,319.704,292.776,287.49600000000004,304.92,354.552,413.16,322.344,307.56,314.952,365.64000000000004,341.88,334.488,297.0,324.98400000000004,366.696,360.88800000000003,394.68,359.30400000000003,341.88,379.896,364.05600000000004,311.25600000000003,416.32800000000003,394.68,313.368,340.296,320.232,332.904,396.79200000000003,267.96000000000004,338.712,267.96000000000004,324.456,399.432,309.144,367.752,330.264,309.672,321.81600000000003,403.12800000000004,350.856,354.024,275.35200000000003,309.672,329.208,406.824,310.2,302.808,312.312,298.05600000000004,294.36,313.368,272.184,279.048,348.744,343.992,354.024,301.752,326.56800000000004,332.37600000000003,266.904,290.136,418.44,367.224,363.528,343.464,304.392,403.12800000000004,283.8,361.416,267.432,412.632,379.896,329.736,390.98400000000004,311.784,412.10400000000004,279.576,415.8,403.656,323.928,327.624,328.68,308.61600000000004,303.336,376.728,403.656,314.42400000000004,300.696,337.12800000000004,349.8,396.264,290.664,318.12,388.344,367.752,265.32,389.40000000000003,333.432,300.168,289.08000000000004,266.904,384.12,334.488,336.6,347.16,387.288,305.44800000000004,384.12,372.504,394.68,345.048,284.856,385.704,419.49600000000004,289.608,389.40000000000003,356.136,310.728,355.08000000000004,373.03200000000004,338.184,306.504,312.312,317.59200000000004,295.416,305.44800000000004,301.752,384.648,274.824,402.072,279.576,393.096,369.86400000000003,326.04,354.552,357.192,365.112,350.856,391.512,303.86400000000003,404.184,368.808,316.00800000000004,280.632,387.288,378.84000000000003,415.8,377.784,312.84000000000003,414.744,322.344,313.368,349.272,394.15200000000004,366.696,302.808,294.88800000000003,286.968,332.37600000000003,396.79200000000003,394.68,369.86400000000003,361.416,291.72,344.52000000000004,324.98400000000004,269.016,294.88800000000003,304.92,362.47200000000004,359.30400000000003,387.288,407.88,338.712,364.05600000000004,303.86400000000003,304.92,357.192,348.744,270.6,319.704,302.808,367.752,329.736,285.91200000000003,402.072,348.216,346.10400000000004,388.344,351.91200000000003,341.88,370.92,267.96000000000004,348.216,411.576,318.12,345.576,272.184,393.096,298.584,280.104,318.12,402.6,386.76,366.696],\"z\":[77.352,84.21600000000001,66.792,53.064,11.352,78.936,81.57600000000001,56.760000000000005,30.360000000000003,85.8,72.60000000000001,82.104,10.824,13.992,27.192,84.744,45.144000000000005,66.792,69.96000000000001,84.21600000000001,60.456,36.168,76.296,67.32000000000001,83.16000000000001,69.96000000000001,55.704,63.096000000000004,85.8,44.088,81.57600000000001,34.584,75.768,73.656,68.376,59.928000000000004,74.184,75.24000000000001,75.768,37.752,79.992,73.656,78.408,50.952000000000005,84.744,83.688,61.512,83.688,52.008,78.408,73.656,55.704,26.664,54.648,25.608,82.104,39.864000000000004,15.576,85.272,40.92,72.072,68.904,41.448,58.872,81.048,60.984,60.984,22.968,85.272,42.504000000000005,74.712,27.192,17.16,81.57600000000001,53.592000000000006,81.048,17.16,76.296,28.776,79.464,24.024,25.080000000000002,71.544,73.128,56.760000000000005,53.064,43.56,26.664,28.248,76.296,60.984,79.464,73.128,79.464,21.384,58.344,74.184,73.128,79.464,60.984,71.544,63.096000000000004,43.56,85.8,19.272000000000002,67.32000000000001,68.904,74.184,13.464,66.792,44.616,21.912000000000003,34.584,39.864000000000004,70.488,81.048,11.88,79.992,87.912,13.992,88.968,86.85600000000001,62.568000000000005,34.056000000000004,20.328,45.672000000000004,54.120000000000005,65.736,52.536,25.608,49.896,24.024,81.048,48.84,27.192,72.072,75.24000000000001,78.408,14.520000000000001,75.24000000000001,35.112,26.136000000000003,81.048,73.656,47.784,15.048,76.824,62.040000000000006,72.60000000000001,83.688,83.16000000000001,40.92,59.400000000000006,50.952000000000005,36.168,82.632,54.648,56.760000000000005,73.128,33.528,11.88,15.048,69.432,53.592000000000006,24.024,29.832,68.376,31.944000000000003,13.992,78.936,48.312000000000005,34.584,72.60000000000001,74.712,73.128,10.296000000000001,86.85600000000001,42.504000000000005,27.192,15.048,70.488,24.024,79.992,69.432,44.616,20.856,11.352,63.624,19.8,67.32000000000001,28.248,85.272,52.008,13.464,30.888,14.520000000000001,62.568000000000005,44.088,76.296,62.040000000000006,28.776,89.49600000000001,24.552,15.048,40.392,21.384,81.048,61.512,49.368,77.352,67.32000000000001,85.272,21.384,19.272000000000002,81.048,29.304000000000002,18.744,31.416,12.936,14.520000000000001,52.536,17.688000000000002,78.936,11.88,86.328,66.26400000000001,83.688,76.824,21.384,81.048,17.16,48.312000000000005,82.632,85.8,69.96000000000001,78.408,25.608,17.688000000000002,79.992,59.928000000000004,38.28,10.296000000000001,17.16,77.88000000000001,58.344,71.016,62.568000000000005,78.936,94.77600000000001,45.144000000000005,23.496000000000002,15.048,71.016,82.632,52.536,81.57600000000001,45.144000000000005,75.768,68.904,58.872,87.384,73.128,32.472,19.272000000000002,12.936,75.24000000000001,10.824,18.744,63.096000000000004,77.88000000000001,84.744,71.544,22.968,28.776,83.688,33.528,11.352,10.296000000000001,53.064,33.528,60.984,15.048,87.912,60.984,70.488,85.272,57.816,76.296,33.528,64.152,43.032000000000004,16.632,57.816,75.768,24.024,67.32000000000001,22.44,82.632,77.88000000000001,29.832,81.57600000000001,71.544,63.096000000000004,59.928000000000004,37.224000000000004,65.736,46.2,17.16,28.776,84.744,81.048,69.96000000000001,39.864000000000004,29.832,62.568000000000005,68.904,90.552,18.216,24.024,32.472,22.44,45.144000000000005,73.128,64.152,82.104,29.832,91.608,49.368,58.344,23.496000000000002,77.352,83.16000000000001,53.064,50.424,75.768,49.368,81.048,64.152,27.720000000000002,64.68,12.408000000000001,83.688,77.88000000000001,48.312000000000005,58.344,11.88,33.528,36.696000000000005,83.16000000000001,75.24000000000001,11.352,65.736,13.464,29.832,57.288000000000004,57.288000000000004,43.032000000000004,76.824,62.568000000000005,52.008,37.752,72.60000000000001,57.816,85.8,77.352,84.21600000000001,58.872,16.632,88.968,79.992,50.952000000000005,78.408,67.32000000000001,77.88000000000001,81.048,28.776,21.912000000000003,44.088,10.296000000000001,37.752,48.84,35.64,27.720000000000002,13.464,43.56],\"type\":\"scatter3d\"}],                        {\"template\":{\"data\":{\"bar\":[{\"error_x\":{\"color\":\"#2a3f5f\"},\"error_y\":{\"color\":\"#2a3f5f\"},\"marker\":{\"line\":{\"color\":\"#E5ECF6\",\"width\":0.5},\"pattern\":{\"fillmode\":\"overlay\",\"size\":10,\"solidity\":0.2}},\"type\":\"bar\"}],\"barpolar\":[{\"marker\":{\"line\":{\"color\":\"#E5ECF6\",\"width\":0.5},\"pattern\":{\"fillmode\":\"overlay\",\"size\":10,\"solidity\":0.2}},\"type\":\"barpolar\"}],\"carpet\":[{\"aaxis\":{\"endlinecolor\":\"#2a3f5f\",\"gridcolor\":\"white\",\"linecolor\":\"white\",\"minorgridcolor\":\"white\",\"startlinecolor\":\"#2a3f5f\"},\"baxis\":{\"endlinecolor\":\"#2a3f5f\",\"gridcolor\":\"white\",\"linecolor\":\"white\",\"minorgridcolor\":\"white\",\"startlinecolor\":\"#2a3f5f\"},\"type\":\"carpet\"}],\"choropleth\":[{\"colorbar\":{\"outlinewidth\":0,\"ticks\":\"\"},\"type\":\"choropleth\"}],\"contour\":[{\"colorbar\":{\"outlinewidth\":0,\"ticks\":\"\"},\"colorscale\":[[0.0,\"#0d0887\"],[0.1111111111111111,\"#46039f\"],[0.2222222222222222,\"#7201a8\"],[0.3333333333333333,\"#9c179e\"],[0.4444444444444444,\"#bd3786\"],[0.5555555555555556,\"#d8576b\"],[0.6666666666666666,\"#ed7953\"],[0.7777777777777778,\"#fb9f3a\"],[0.8888888888888888,\"#fdca26\"],[1.0,\"#f0f921\"]],\"type\":\"contour\"}],\"contourcarpet\":[{\"colorbar\":{\"outlinewidth\":0,\"ticks\":\"\"},\"type\":\"contourcarpet\"}],\"heatmap\":[{\"colorbar\":{\"outlinewidth\":0,\"ticks\":\"\"},\"colorscale\":[[0.0,\"#0d0887\"],[0.1111111111111111,\"#46039f\"],[0.2222222222222222,\"#7201a8\"],[0.3333333333333333,\"#9c179e\"],[0.4444444444444444,\"#bd3786\"],[0.5555555555555556,\"#d8576b\"],[0.6666666666666666,\"#ed7953\"],[0.7777777777777778,\"#fb9f3a\"],[0.8888888888888888,\"#fdca26\"],[1.0,\"#f0f921\"]],\"type\":\"heatmap\"}],\"heatmapgl\":[{\"colorbar\":{\"outlinewidth\":0,\"ticks\":\"\"},\"colorscale\":[[0.0,\"#0d0887\"],[0.1111111111111111,\"#46039f\"],[0.2222222222222222,\"#7201a8\"],[0.3333333333333333,\"#9c179e\"],[0.4444444444444444,\"#bd3786\"],[0.5555555555555556,\"#d8576b\"],[0.6666666666666666,\"#ed7953\"],[0.7777777777777778,\"#fb9f3a\"],[0.8888888888888888,\"#fdca26\"],[1.0,\"#f0f921\"]],\"type\":\"heatmapgl\"}],\"histogram\":[{\"marker\":{\"pattern\":{\"fillmode\":\"overlay\",\"size\":10,\"solidity\":0.2}},\"type\":\"histogram\"}],\"histogram2d\":[{\"colorbar\":{\"outlinewidth\":0,\"ticks\":\"\"},\"colorscale\":[[0.0,\"#0d0887\"],[0.1111111111111111,\"#46039f\"],[0.2222222222222222,\"#7201a8\"],[0.3333333333333333,\"#9c179e\"],[0.4444444444444444,\"#bd3786\"],[0.5555555555555556,\"#d8576b\"],[0.6666666666666666,\"#ed7953\"],[0.7777777777777778,\"#fb9f3a\"],[0.8888888888888888,\"#fdca26\"],[1.0,\"#f0f921\"]],\"type\":\"histogram2d\"}],\"histogram2dcontour\":[{\"colorbar\":{\"outlinewidth\":0,\"ticks\":\"\"},\"colorscale\":[[0.0,\"#0d0887\"],[0.1111111111111111,\"#46039f\"],[0.2222222222222222,\"#7201a8\"],[0.3333333333333333,\"#9c179e\"],[0.4444444444444444,\"#bd3786\"],[0.5555555555555556,\"#d8576b\"],[0.6666666666666666,\"#ed7953\"],[0.7777777777777778,\"#fb9f3a\"],[0.8888888888888888,\"#fdca26\"],[1.0,\"#f0f921\"]],\"type\":\"histogram2dcontour\"}],\"mesh3d\":[{\"colorbar\":{\"outlinewidth\":0,\"ticks\":\"\"},\"type\":\"mesh3d\"}],\"parcoords\":[{\"line\":{\"colorbar\":{\"outlinewidth\":0,\"ticks\":\"\"}},\"type\":\"parcoords\"}],\"pie\":[{\"automargin\":true,\"type\":\"pie\"}],\"scatter\":[{\"marker\":{\"colorbar\":{\"outlinewidth\":0,\"ticks\":\"\"}},\"type\":\"scatter\"}],\"scatter3d\":[{\"line\":{\"colorbar\":{\"outlinewidth\":0,\"ticks\":\"\"}},\"marker\":{\"colorbar\":{\"outlinewidth\":0,\"ticks\":\"\"}},\"type\":\"scatter3d\"}],\"scattercarpet\":[{\"marker\":{\"colorbar\":{\"outlinewidth\":0,\"ticks\":\"\"}},\"type\":\"scattercarpet\"}],\"scattergeo\":[{\"marker\":{\"colorbar\":{\"outlinewidth\":0,\"ticks\":\"\"}},\"type\":\"scattergeo\"}],\"scattergl\":[{\"marker\":{\"colorbar\":{\"outlinewidth\":0,\"ticks\":\"\"}},\"type\":\"scattergl\"}],\"scattermapbox\":[{\"marker\":{\"colorbar\":{\"outlinewidth\":0,\"ticks\":\"\"}},\"type\":\"scattermapbox\"}],\"scatterpolar\":[{\"marker\":{\"colorbar\":{\"outlinewidth\":0,\"ticks\":\"\"}},\"type\":\"scatterpolar\"}],\"scatterpolargl\":[{\"marker\":{\"colorbar\":{\"outlinewidth\":0,\"ticks\":\"\"}},\"type\":\"scatterpolargl\"}],\"scatterternary\":[{\"marker\":{\"colorbar\":{\"outlinewidth\":0,\"ticks\":\"\"}},\"type\":\"scatterternary\"}],\"surface\":[{\"colorbar\":{\"outlinewidth\":0,\"ticks\":\"\"},\"colorscale\":[[0.0,\"#0d0887\"],[0.1111111111111111,\"#46039f\"],[0.2222222222222222,\"#7201a8\"],[0.3333333333333333,\"#9c179e\"],[0.4444444444444444,\"#bd3786\"],[0.5555555555555556,\"#d8576b\"],[0.6666666666666666,\"#ed7953\"],[0.7777777777777778,\"#fb9f3a\"],[0.8888888888888888,\"#fdca26\"],[1.0,\"#f0f921\"]],\"type\":\"surface\"}],\"table\":[{\"cells\":{\"fill\":{\"color\":\"#EBF0F8\"},\"line\":{\"color\":\"white\"}},\"header\":{\"fill\":{\"color\":\"#C8D4E3\"},\"line\":{\"color\":\"white\"}},\"type\":\"table\"}]},\"layout\":{\"annotationdefaults\":{\"arrowcolor\":\"#2a3f5f\",\"arrowhead\":0,\"arrowwidth\":1},\"autotypenumbers\":\"strict\",\"coloraxis\":{\"colorbar\":{\"outlinewidth\":0,\"ticks\":\"\"}},\"colorscale\":{\"diverging\":[[0,\"#8e0152\"],[0.1,\"#c51b7d\"],[0.2,\"#de77ae\"],[0.3,\"#f1b6da\"],[0.4,\"#fde0ef\"],[0.5,\"#f7f7f7\"],[0.6,\"#e6f5d0\"],[0.7,\"#b8e186\"],[0.8,\"#7fbc41\"],[0.9,\"#4d9221\"],[1,\"#276419\"]],\"sequential\":[[0.0,\"#0d0887\"],[0.1111111111111111,\"#46039f\"],[0.2222222222222222,\"#7201a8\"],[0.3333333333333333,\"#9c179e\"],[0.4444444444444444,\"#bd3786\"],[0.5555555555555556,\"#d8576b\"],[0.6666666666666666,\"#ed7953\"],[0.7777777777777778,\"#fb9f3a\"],[0.8888888888888888,\"#fdca26\"],[1.0,\"#f0f921\"]],\"sequentialminus\":[[0.0,\"#0d0887\"],[0.1111111111111111,\"#46039f\"],[0.2222222222222222,\"#7201a8\"],[0.3333333333333333,\"#9c179e\"],[0.4444444444444444,\"#bd3786\"],[0.5555555555555556,\"#d8576b\"],[0.6666666666666666,\"#ed7953\"],[0.7777777777777778,\"#fb9f3a\"],[0.8888888888888888,\"#fdca26\"],[1.0,\"#f0f921\"]]},\"colorway\":[\"#636efa\",\"#EF553B\",\"#00cc96\",\"#ab63fa\",\"#FFA15A\",\"#19d3f3\",\"#FF6692\",\"#B6E880\",\"#FF97FF\",\"#FECB52\"],\"font\":{\"color\":\"#2a3f5f\"},\"geo\":{\"bgcolor\":\"white\",\"lakecolor\":\"white\",\"landcolor\":\"#E5ECF6\",\"showlakes\":true,\"showland\":true,\"subunitcolor\":\"white\"},\"hoverlabel\":{\"align\":\"left\"},\"hovermode\":\"closest\",\"mapbox\":{\"style\":\"light\"},\"paper_bgcolor\":\"white\",\"plot_bgcolor\":\"#E5ECF6\",\"polar\":{\"angularaxis\":{\"gridcolor\":\"white\",\"linecolor\":\"white\",\"ticks\":\"\"},\"bgcolor\":\"#E5ECF6\",\"radialaxis\":{\"gridcolor\":\"white\",\"linecolor\":\"white\",\"ticks\":\"\"}},\"scene\":{\"xaxis\":{\"backgroundcolor\":\"#E5ECF6\",\"gridcolor\":\"white\",\"gridwidth\":2,\"linecolor\":\"white\",\"showbackground\":true,\"ticks\":\"\",\"zerolinecolor\":\"white\"},\"yaxis\":{\"backgroundcolor\":\"#E5ECF6\",\"gridcolor\":\"white\",\"gridwidth\":2,\"linecolor\":\"white\",\"showbackground\":true,\"ticks\":\"\",\"zerolinecolor\":\"white\"},\"zaxis\":{\"backgroundcolor\":\"#E5ECF6\",\"gridcolor\":\"white\",\"gridwidth\":2,\"linecolor\":\"white\",\"showbackground\":true,\"ticks\":\"\",\"zerolinecolor\":\"white\"}},\"shapedefaults\":{\"line\":{\"color\":\"#2a3f5f\"}},\"ternary\":{\"aaxis\":{\"gridcolor\":\"white\",\"linecolor\":\"white\",\"ticks\":\"\"},\"baxis\":{\"gridcolor\":\"white\",\"linecolor\":\"white\",\"ticks\":\"\"},\"bgcolor\":\"#E5ECF6\",\"caxis\":{\"gridcolor\":\"white\",\"linecolor\":\"white\",\"ticks\":\"\"}},\"title\":{\"x\":0.05},\"xaxis\":{\"automargin\":true,\"gridcolor\":\"white\",\"linecolor\":\"white\",\"ticks\":\"\",\"title\":{\"standoff\":15},\"zerolinecolor\":\"white\",\"zerolinewidth\":2},\"yaxis\":{\"automargin\":true,\"gridcolor\":\"white\",\"linecolor\":\"white\",\"ticks\":\"\",\"title\":{\"standoff\":15},\"zerolinecolor\":\"white\",\"zerolinewidth\":2}}},\"scene\":{\"domain\":{\"x\":[0.0,1.0],\"y\":[0.0,1.0]},\"xaxis\":{\"title\":{\"text\":\"x_nm\"}},\"yaxis\":{\"title\":{\"text\":\"y_nm\"}},\"zaxis\":{\"title\":{\"text\":\"z_nm\"}}},\"coloraxis\":{\"colorbar\":{\"title\":{\"text\":\"labels\"}},\"colorscale\":[[0.0,\"#0d0887\"],[0.1111111111111111,\"#46039f\"],[0.2222222222222222,\"#7201a8\"],[0.3333333333333333,\"#9c179e\"],[0.4444444444444444,\"#bd3786\"],[0.5555555555555556,\"#d8576b\"],[0.6666666666666666,\"#ed7953\"],[0.7777777777777778,\"#fb9f3a\"],[0.8888888888888888,\"#fdca26\"],[1.0,\"#f0f921\"]]},\"legend\":{\"tracegroupgap\":0},\"margin\":{\"t\":60}},                        {\"responsive\": true}                    ).then(function(){\n",
       "                            \n",
       "var gd = document.getElementById('14b14ca0-981f-4701-b1fe-fc715f473093');\n",
       "var x = new MutationObserver(function (mutations, observer) {{\n",
       "        var display = window.getComputedStyle(gd).display;\n",
       "        if (!display || display === 'none') {{\n",
       "            console.log([gd, 'removed!']);\n",
       "            Plotly.purge(gd);\n",
       "            observer.disconnect();\n",
       "        }}\n",
       "}});\n",
       "\n",
       "// Listen for the removal of the full notebook cells\n",
       "var notebookContainer = gd.closest('#notebook-container');\n",
       "if (notebookContainer) {{\n",
       "    x.observe(notebookContainer, {childList: true});\n",
       "}}\n",
       "\n",
       "// Listen for the clearing of the current output cell\n",
       "var outputEl = gd.closest('.output');\n",
       "if (outputEl) {{\n",
       "    x.observe(outputEl, {childList: true});\n",
       "}}\n",
       "\n",
       "                        })                };                            </script>        </div>\n",
       "</body>\n",
       "</html>"
      ]
     },
     "metadata": {},
     "output_type": "display_data"
    }
   ],
   "source": [
    "# Without noise\n",
    "import plotly.express as px\n",
    "\n",
    "fig = px.scatter_3d(df_1[df_1['labels']!=-1], x='x_nm', y='y_nm', z='z_nm',\n",
    "              color='labels')\n",
    "fig.show()"
   ]
  },
  {
   "cell_type": "code",
   "execution_count": 32,
   "metadata": {
    "colab": {
     "base_uri": "https://localhost:8080/",
     "height": 542
    },
    "executionInfo": {
     "elapsed": 326,
     "status": "ok",
     "timestamp": 1666303144605,
     "user": {
      "displayName": "Minrui Li",
      "userId": "16054889870722932426"
     },
     "user_tz": -660
    },
    "id": "39XlXlc29ZQz",
    "outputId": "3f0fd7b3-6786-44b1-c9cb-1fbf847751d2"
   },
   "outputs": [
    {
     "data": {
      "text/html": [
       "<html>\n",
       "<head><meta charset=\"utf-8\" /></head>\n",
       "<body>\n",
       "    <div>            <script src=\"https://cdnjs.cloudflare.com/ajax/libs/mathjax/2.7.5/MathJax.js?config=TeX-AMS-MML_SVG\"></script><script type=\"text/javascript\">if (window.MathJax) {MathJax.Hub.Config({SVG: {font: \"STIX-Web\"}});}</script>                <script type=\"text/javascript\">window.PlotlyConfig = {MathJaxConfig: 'local'};</script>\n",
       "        <script src=\"https://cdn.plot.ly/plotly-2.8.3.min.js\"></script>                <div id=\"ccf7aa10-d4b2-4bbb-a95a-4792078be4d9\" class=\"plotly-graph-div\" style=\"height:525px; width:100%;\"></div>            <script type=\"text/javascript\">                                    window.PLOTLYENV=window.PLOTLYENV || {};                                    if (document.getElementById(\"ccf7aa10-d4b2-4bbb-a95a-4792078be4d9\")) {                    Plotly.newPlot(                        \"ccf7aa10-d4b2-4bbb-a95a-4792078be4d9\",                        [{\"hovertemplate\":\"x_nm=%{x}<br>y_nm=%{y}<br>z_nm=%{z}<br>labels=%{marker.color}<extra></extra>\",\"legendgroup\":\"\",\"marker\":{\"color\":[0,0,0,0,3,0,0,0,0,0,-1,-1,-1,-1,-1,0,0,1,2,1,0,0,0,-1,0,0,0,-1,0,0,0,0,0,0,0,0,0,0,0,0,0,0,0,0,-1,-1,0,0,0,0,0,0,0,0,-1,0,0,0,0,0,0,0,2,0,2,-1,0,0,3,0,0,0,0,0,0,0,0,0,0,0,5,0,4,3,0,0,0,1,0,1,0,1,1,0,0,0,0,0,0,-1,0,0,0,0,0,0,1,0,0,0,0,0,0,0,0,0,2,0,0,-1,0,-1,4,0,0,0,0,1,0,0,4,0,0,1,0,0,-1,0,-1,1,1,0,0,0,0,2,0,1,0,0,1,0,0,0,2,-1,0,2,4,0,0,0,-1,1,0,0,0,0,0,1,0,0,0,0,0,0,0,1,1,-1,1,0,0,1,-1,-1,1,0,1,1,0,-1,-1,-1,0,0,0,0,0,1,0,0,-1,1,2,-1,0,2,-1,0,0,0,0,2,0,3,0,1,-1,0,0,1,-1,1,4,0,-1,0,0,0,2,0,1,2,0,-1,-1,2,0,0,0,0,0,0,4,2,0,0,2,2,-1,4,1,0,2,0,1,0,0,0,-1,0,0,0,2,0,0,0,-1,0,0,2,0,0,0,0,4,1,-1,0,0,-1,-1,0,0,0,0,0,1,4,0,0,0,0,0,0,0,0,0,0,0,2,-1,1,0,0,-1,2,0,0,-1,0,0,0,1,0,2,1,1,0,2,0,1,0,0,0,0,0,0,3,0,0,0,0,0,2,0,1,-1,0,0,1,0,0,0,0,2,0,0,-1,3,2,0,0,0,1,2,0,0,0,1,3,2,4,-1,5,0,0,0,1,0,1,0,4,0,0,0,1,-1,0,0,0,0,0,0,-1,1,0,0,-1,0,0,0,0,-1,2,0,-1,0,-1,-1,1,-1,0,1,1,0,0,-1,2,0,0,-1,0,-1,0,0,0,0,-1,0,0,0,1,0,0,-1,0,0,0,0,0,-1,-1,0,1,-1,2,3,2,0,0,4,1,0],\"coloraxis\":\"coloraxis\",\"symbol\":\"circle\"},\"mode\":\"markers\",\"name\":\"\",\"scene\":\"scene\",\"showlegend\":false,\"x\":[333.96000000000004,323.928,385.704,285.91200000000003,327.096,386.232,292.776,265.848,334.488,378.312,346.10400000000004,413.68800000000005,278.52000000000004,404.71200000000005,323.40000000000003,360.36,325.512,377.784,356.136,358.776,356.136,329.736,286.44,380.952,274.296,406.296,350.32800000000003,419.49600000000004,278.52000000000004,400.488,362.47200000000004,373.03200000000004,357.192,405.76800000000003,288.024,402.072,292.248,332.904,314.42400000000004,386.232,411.048,347.688,421.08000000000004,343.992,420.024,269.016,286.44,394.15200000000004,283.272,283.8,295.416,383.59200000000004,416.32800000000003,393.096,286.44,379.368,297.0,360.36,399.96000000000004,321.81600000000003,408.93600000000004,346.632,350.856,320.76,363.528,317.064,380.42400000000004,411.048,328.15200000000004,376.728,296.47200000000004,357.192,272.184,307.03200000000004,379.896,356.136,411.576,348.216,282.216,358.776,323.40000000000003,417.384,284.856,324.98400000000004,365.64000000000004,354.552,275.35200000000003,375.144,357.72,420.552,266.37600000000003,419.49600000000004,403.12800000000004,284.856,336.072,337.656,421.08000000000004,288.024,282.744,272.712,290.664,268.488,360.36,265.848,387.81600000000003,379.896,393.624,293.30400000000003,379.896,279.576,307.03200000000004,414.744,291.72,287.49600000000004,294.88800000000003,396.79200000000003,378.84000000000003,370.92,393.624,337.656,284.32800000000003,338.712,289.08000000000004,378.312,277.464,318.648,304.92,375.144,281.16,387.81600000000003,297.528,346.632,414.744,356.136,396.79200000000003,378.84000000000003,334.488,329.736,330.264,405.24,349.8,305.976,338.184,282.744,318.648,365.112,345.576,370.92,291.72,408.408,366.696,304.392,326.56800000000004,391.512,372.504,377.25600000000003,348.216,366.696,310.2,421.08000000000004,352.44,278.52000000000004,411.048,391.512,403.12800000000004,405.76800000000003,345.576,337.12800000000004,373.03200000000004,382.00800000000004,365.64000000000004,271.656,305.976,300.168,338.712,367.224,371.44800000000004,364.584,401.016,389.928,388.344,366.168,303.336,412.632,411.576,310.728,363.0,395.73600000000005,368.28000000000003,398.37600000000003,402.072,329.736,311.25600000000003,272.184,407.88,327.096,348.744,286.44,321.81600000000003,395.208,414.216,299.64,304.92,370.92,390.456,417.384,314.42400000000004,334.488,303.336,331.32,357.192,355.08000000000004,285.91200000000003,386.76,391.512,321.81600000000003,339.24,363.528,417.91200000000003,373.03200000000004,422.136,377.25600000000003,293.832,375.672,289.08000000000004,278.52000000000004,274.296,268.488,367.224,352.44,391.512,402.6,376.20000000000005,354.024,352.968,324.456,295.416,379.368,361.944,377.784,367.752,315.48,378.312,368.808,276.408,377.25600000000003,271.128,278.52000000000004,364.584,407.35200000000003,411.048,310.2,382.536,413.16,358.776,298.584,387.288,363.528,293.832,345.048,418.44,337.656,290.664,304.92,404.71200000000005,292.776,313.368,339.76800000000003,293.30400000000003,283.8,359.30400000000003,355.08000000000004,301.224,392.04,340.296,318.12,293.30400000000003,367.752,414.216,377.784,280.632,386.76,393.624,398.904,276.408,327.624,414.216,326.56800000000004,409.464,294.36,402.072,415.8,408.408,397.32,304.392,369.86400000000003,371.976,340.296,388.872,327.624,295.416,395.208,329.208,399.432,339.76800000000003,300.168,313.896,363.528,352.44,316.536,414.216,334.488,378.312,269.54400000000004,390.456,399.96000000000004,355.608,410.52000000000004,366.168,365.64000000000004,347.16,310.728,379.368,291.72,371.976,303.336,329.208,275.88,277.464,320.76,343.992,373.56,307.03200000000004,267.432,342.93600000000004,397.848,275.88,390.98400000000004,338.712,344.52000000000004,383.59200000000004,371.976,407.35200000000003,410.52000000000004,328.15200000000004,279.048,375.144,361.416,297.528,408.408,337.12800000000004,351.384,420.552,305.44800000000004,293.832,366.168,340.824,405.76800000000003,286.44,380.952,367.224,309.144,360.36,290.664,327.096,311.25600000000003,364.584,352.968,386.232,384.648,418.968,389.928,293.30400000000003,309.144,339.76800000000003,406.824,344.52000000000004,377.784,277.464,401.016,320.232,337.656,359.832,267.96000000000004,268.488,420.552,393.624,413.68800000000005,308.088,412.632,273.76800000000003,397.848,274.296,310.728,305.976,361.944,276.408,323.928,369.336,395.208,265.32,384.648,303.86400000000003,405.76800000000003,410.52000000000004,380.42400000000004,339.24,412.10400000000004,343.992,352.44,273.24,335.016,325.512,316.00800000000004,351.91200000000003,301.752,367.224,375.672,402.6,301.224,314.42400000000004,345.048,288.552,347.16,384.12,367.752,402.072,360.36,360.88800000000003,370.392,420.552,346.632,273.24,389.928,303.86400000000003,384.12,273.76800000000003,347.16,337.12800000000004,386.76,295.944,322.872,300.168,398.37600000000003,326.04],\"y\":[341.88,302.808,385.704,359.30400000000003,366.696,365.64000000000004,379.368,352.44,308.088,380.952,416.32800000000003,281.16,366.696,367.224,365.64000000000004,382.536,274.824,337.656,305.976,349.272,298.584,303.86400000000003,367.752,409.992,333.96000000000004,375.672,387.288,352.44,346.632,291.72,268.488,392.56800000000004,370.92,353.49600000000004,274.296,302.28000000000003,364.05600000000004,276.408,326.56800000000004,293.832,397.848,270.6,404.184,393.096,316.00800000000004,286.44,387.288,279.576,338.712,289.08000000000004,292.248,302.808,316.00800000000004,340.824,420.024,318.12,353.49600000000004,324.98400000000004,318.12,317.064,371.44800000000004,416.856,311.25600000000003,358.776,269.016,415.272,408.408,351.384,398.904,331.848,278.52000000000004,283.8,295.416,270.6,330.79200000000003,362.47200000000004,294.36,324.98400000000004,314.952,379.896,375.144,405.24,419.49600000000004,381.48,292.248,349.8,350.32800000000003,408.93600000000004,399.96000000000004,411.048,349.272,380.42400000000004,397.32,375.144,414.216,299.112,356.66400000000004,303.86400000000003,350.856,370.92,350.32800000000003,388.344,405.24,376.20000000000005,328.68,346.632,392.04,288.024,333.432,321.81600000000003,311.25600000000003,337.12800000000004,348.744,264.264,314.952,385.17600000000004,297.0,365.64000000000004,394.15200000000004,395.208,395.208,330.264,405.24,316.536,341.35200000000003,308.61600000000004,281.688,378.84000000000003,335.54400000000004,411.048,392.56800000000004,277.992,361.416,333.96000000000004,349.272,358.248,339.24,304.392,264.264,412.10400000000004,370.392,301.224,284.32800000000003,300.696,281.16,279.048,304.92,360.36,299.64,322.344,351.384,292.776,374.61600000000004,352.44,268.488,270.6,304.392,287.49600000000004,405.76800000000003,340.296,406.824,399.96000000000004,270.6,351.384,280.104,413.68800000000005,373.03200000000004,267.432,282.744,383.064,377.25600000000003,324.456,293.30400000000003,335.54400000000004,377.25600000000003,414.744,332.904,380.952,359.30400000000003,276.408,342.408,340.824,361.416,398.37600000000003,383.59200000000004,392.04,400.488,357.72,360.36,349.272,402.6,330.264,370.92,280.104,340.824,285.384,346.10400000000004,327.624,266.904,332.37600000000003,322.872,368.808,293.30400000000003,387.81600000000003,319.704,297.528,292.776,287.49600000000004,397.848,304.92,354.552,413.16,322.344,307.56,314.952,365.64000000000004,341.88,334.488,269.016,297.0,324.98400000000004,366.696,362.47200000000004,360.88800000000003,394.68,359.30400000000003,376.728,341.88,379.896,364.05600000000004,311.25600000000003,416.32800000000003,394.68,313.368,340.296,333.96000000000004,398.37600000000003,320.232,332.904,396.79200000000003,267.96000000000004,338.712,267.96000000000004,324.456,399.432,309.144,367.752,330.264,309.672,321.81600000000003,367.752,403.12800000000004,350.856,354.024,275.35200000000003,309.672,329.208,406.824,310.2,302.808,278.52000000000004,312.312,298.05600000000004,294.36,313.368,272.184,279.048,348.744,353.49600000000004,343.992,354.024,301.752,326.56800000000004,332.37600000000003,266.904,290.136,418.44,367.224,319.704,363.528,343.464,271.128,276.408,304.392,403.12800000000004,283.8,361.416,267.432,412.632,379.896,329.736,390.98400000000004,311.784,412.10400000000004,279.576,415.8,403.656,323.928,327.624,328.68,308.61600000000004,303.336,357.72,376.728,403.656,314.42400000000004,333.432,300.696,337.12800000000004,349.8,409.992,396.264,290.664,318.12,388.344,367.752,265.32,389.40000000000003,333.432,300.168,289.08000000000004,266.904,384.12,334.488,336.6,347.16,387.288,305.44800000000004,384.12,372.504,394.68,345.048,284.856,385.704,419.49600000000004,289.608,389.40000000000003,356.136,269.54400000000004,310.728,355.08000000000004,373.03200000000004,338.184,306.504,312.312,317.59200000000004,295.416,305.44800000000004,301.752,289.608,384.648,274.824,402.072,279.576,393.096,369.86400000000003,326.04,354.552,357.192,365.112,350.856,391.512,303.86400000000003,404.184,363.0,368.808,316.00800000000004,280.632,387.288,378.84000000000003,415.8,377.784,312.84000000000003,414.744,322.344,313.368,349.272,394.15200000000004,382.00800000000004,366.696,302.808,294.88800000000003,286.968,332.37600000000003,396.79200000000003,341.88,394.68,369.86400000000003,361.416,264.79200000000003,291.72,344.52000000000004,324.98400000000004,269.016,366.168,294.88800000000003,304.92,387.288,362.47200000000004,417.91200000000003,398.37600000000003,359.30400000000003,333.96000000000004,387.288,407.88,338.712,364.05600000000004,303.86400000000003,375.144,304.92,357.192,348.744,320.232,270.6,265.848,319.704,302.808,367.752,329.736,339.76800000000003,285.91200000000003,402.072,348.216,346.10400000000004,388.344,351.91200000000003,413.68800000000005,341.88,370.92,267.96000000000004,348.216,411.576,417.384,419.49600000000004,318.12,345.576,335.016,272.184,393.096,298.584,280.104,318.12,402.6,386.76,366.696],\"z\":[77.352,84.21600000000001,66.792,53.064,11.352,78.936,81.57600000000001,56.760000000000005,30.360000000000003,85.8,16.104,21.912000000000003,11.352,35.112,82.632,72.60000000000001,82.104,10.824,13.992,27.192,84.744,45.144000000000005,66.792,37.752,69.96000000000001,84.21600000000001,60.456,29.832,36.168,76.296,67.32000000000001,83.16000000000001,69.96000000000001,55.704,63.096000000000004,85.8,44.088,81.57600000000001,34.584,75.768,73.656,68.376,59.928000000000004,74.184,88.968,36.168,75.24000000000001,75.768,37.752,79.992,73.656,78.408,50.952000000000005,84.744,80.52000000000001,83.688,61.512,83.688,52.008,78.408,73.656,55.704,26.664,54.648,25.608,30.360000000000003,82.104,39.864000000000004,15.576,85.272,40.92,72.072,68.904,41.448,58.872,81.048,60.984,60.984,22.968,85.272,42.504000000000005,74.712,27.192,17.16,81.57600000000001,53.592000000000006,81.048,17.16,76.296,28.776,79.464,24.024,25.080000000000002,71.544,73.128,56.760000000000005,53.064,43.56,26.664,21.912000000000003,28.248,76.296,60.984,79.464,73.128,79.464,21.384,58.344,74.184,73.128,79.464,60.984,71.544,63.096000000000004,43.56,85.8,19.272000000000002,67.32000000000001,68.904,39.336,74.184,15.576,13.464,66.792,44.616,21.912000000000003,34.584,39.864000000000004,70.488,81.048,11.88,79.992,87.912,13.992,88.968,86.85600000000001,32.472,62.568000000000005,22.968,34.056000000000004,20.328,45.672000000000004,54.120000000000005,65.736,52.536,25.608,49.896,24.024,81.048,48.84,27.192,72.072,75.24000000000001,78.408,14.520000000000001,84.744,75.24000000000001,35.112,26.136000000000003,81.048,73.656,47.784,66.26400000000001,15.048,76.824,62.040000000000006,72.60000000000001,83.688,83.16000000000001,40.92,59.400000000000006,50.952000000000005,36.168,82.632,54.648,56.760000000000005,73.128,33.528,11.88,13.464,15.048,69.432,53.592000000000006,24.024,55.704,50.952000000000005,29.832,68.376,31.944000000000003,13.992,78.936,20.328,69.96000000000001,76.296,48.312000000000005,34.584,72.60000000000001,74.712,73.128,10.296000000000001,86.85600000000001,42.504000000000005,13.992,27.192,15.048,14.520000000000001,70.488,24.024,60.456,79.992,69.432,44.616,20.856,11.352,63.624,19.8,67.32000000000001,28.248,33.528,85.272,52.008,13.464,22.968,30.888,14.520000000000001,62.568000000000005,40.92,44.088,76.296,62.040000000000006,28.776,89.49600000000001,24.552,15.048,40.392,37.752,47.784,21.384,81.048,61.512,49.368,77.352,67.32000000000001,85.272,21.384,19.272000000000002,81.048,29.304000000000002,18.744,31.416,25.080000000000002,12.936,14.520000000000001,52.536,17.688000000000002,78.936,11.88,86.328,66.26400000000001,83.688,45.144000000000005,76.824,21.384,81.048,17.16,48.312000000000005,82.632,85.8,15.048,69.96000000000001,78.408,25.608,17.688000000000002,79.992,59.928000000000004,38.28,10.296000000000001,17.16,24.024,77.88000000000001,58.344,20.856,26.136000000000003,71.016,62.568000000000005,78.936,94.77600000000001,45.144000000000005,23.496000000000002,15.048,71.016,82.632,52.536,81.57600000000001,45.144000000000005,75.768,68.904,58.872,87.384,73.128,32.472,19.272000000000002,18.744,12.936,75.24000000000001,10.824,51.480000000000004,18.744,63.096000000000004,77.88000000000001,44.616,84.744,71.544,22.968,28.776,83.688,33.528,11.352,10.296000000000001,53.064,33.528,60.984,15.048,87.912,60.984,70.488,85.272,57.816,76.296,33.528,64.152,43.032000000000004,16.632,57.816,75.768,24.024,67.32000000000001,22.44,48.84,82.632,77.88000000000001,29.832,81.57600000000001,71.544,63.096000000000004,59.928000000000004,37.224000000000004,65.736,46.2,11.352,17.16,28.776,84.744,81.048,69.96000000000001,39.864000000000004,29.832,62.568000000000005,68.904,90.552,18.216,24.024,32.472,22.44,90.024,45.144000000000005,73.128,64.152,82.104,29.832,91.608,49.368,58.344,23.496000000000002,77.352,83.16000000000001,53.064,50.424,31.944000000000003,75.768,49.368,81.048,64.152,27.720000000000002,64.68,20.856,12.408000000000001,83.688,77.88000000000001,22.968,48.312000000000005,58.344,11.88,33.528,97.944,36.696000000000005,83.16000000000001,39.864000000000004,75.24000000000001,65.208,10.296000000000001,11.352,13.992,65.736,13.464,29.832,57.288000000000004,57.288000000000004,10.296000000000001,43.032000000000004,76.824,62.568000000000005,11.88,52.008,10.296000000000001,37.752,72.60000000000001,57.816,85.8,24.024,77.352,84.21600000000001,58.872,16.632,88.968,79.992,10.824,50.952000000000005,78.408,67.32000000000001,77.88000000000001,81.048,76.296,17.688000000000002,28.776,21.912000000000003,103.224,44.088,10.296000000000001,37.752,48.84,35.64,27.720000000000002,13.464,43.56],\"type\":\"scatter3d\"}],                        {\"template\":{\"data\":{\"bar\":[{\"error_x\":{\"color\":\"#2a3f5f\"},\"error_y\":{\"color\":\"#2a3f5f\"},\"marker\":{\"line\":{\"color\":\"#E5ECF6\",\"width\":0.5},\"pattern\":{\"fillmode\":\"overlay\",\"size\":10,\"solidity\":0.2}},\"type\":\"bar\"}],\"barpolar\":[{\"marker\":{\"line\":{\"color\":\"#E5ECF6\",\"width\":0.5},\"pattern\":{\"fillmode\":\"overlay\",\"size\":10,\"solidity\":0.2}},\"type\":\"barpolar\"}],\"carpet\":[{\"aaxis\":{\"endlinecolor\":\"#2a3f5f\",\"gridcolor\":\"white\",\"linecolor\":\"white\",\"minorgridcolor\":\"white\",\"startlinecolor\":\"#2a3f5f\"},\"baxis\":{\"endlinecolor\":\"#2a3f5f\",\"gridcolor\":\"white\",\"linecolor\":\"white\",\"minorgridcolor\":\"white\",\"startlinecolor\":\"#2a3f5f\"},\"type\":\"carpet\"}],\"choropleth\":[{\"colorbar\":{\"outlinewidth\":0,\"ticks\":\"\"},\"type\":\"choropleth\"}],\"contour\":[{\"colorbar\":{\"outlinewidth\":0,\"ticks\":\"\"},\"colorscale\":[[0.0,\"#0d0887\"],[0.1111111111111111,\"#46039f\"],[0.2222222222222222,\"#7201a8\"],[0.3333333333333333,\"#9c179e\"],[0.4444444444444444,\"#bd3786\"],[0.5555555555555556,\"#d8576b\"],[0.6666666666666666,\"#ed7953\"],[0.7777777777777778,\"#fb9f3a\"],[0.8888888888888888,\"#fdca26\"],[1.0,\"#f0f921\"]],\"type\":\"contour\"}],\"contourcarpet\":[{\"colorbar\":{\"outlinewidth\":0,\"ticks\":\"\"},\"type\":\"contourcarpet\"}],\"heatmap\":[{\"colorbar\":{\"outlinewidth\":0,\"ticks\":\"\"},\"colorscale\":[[0.0,\"#0d0887\"],[0.1111111111111111,\"#46039f\"],[0.2222222222222222,\"#7201a8\"],[0.3333333333333333,\"#9c179e\"],[0.4444444444444444,\"#bd3786\"],[0.5555555555555556,\"#d8576b\"],[0.6666666666666666,\"#ed7953\"],[0.7777777777777778,\"#fb9f3a\"],[0.8888888888888888,\"#fdca26\"],[1.0,\"#f0f921\"]],\"type\":\"heatmap\"}],\"heatmapgl\":[{\"colorbar\":{\"outlinewidth\":0,\"ticks\":\"\"},\"colorscale\":[[0.0,\"#0d0887\"],[0.1111111111111111,\"#46039f\"],[0.2222222222222222,\"#7201a8\"],[0.3333333333333333,\"#9c179e\"],[0.4444444444444444,\"#bd3786\"],[0.5555555555555556,\"#d8576b\"],[0.6666666666666666,\"#ed7953\"],[0.7777777777777778,\"#fb9f3a\"],[0.8888888888888888,\"#fdca26\"],[1.0,\"#f0f921\"]],\"type\":\"heatmapgl\"}],\"histogram\":[{\"marker\":{\"pattern\":{\"fillmode\":\"overlay\",\"size\":10,\"solidity\":0.2}},\"type\":\"histogram\"}],\"histogram2d\":[{\"colorbar\":{\"outlinewidth\":0,\"ticks\":\"\"},\"colorscale\":[[0.0,\"#0d0887\"],[0.1111111111111111,\"#46039f\"],[0.2222222222222222,\"#7201a8\"],[0.3333333333333333,\"#9c179e\"],[0.4444444444444444,\"#bd3786\"],[0.5555555555555556,\"#d8576b\"],[0.6666666666666666,\"#ed7953\"],[0.7777777777777778,\"#fb9f3a\"],[0.8888888888888888,\"#fdca26\"],[1.0,\"#f0f921\"]],\"type\":\"histogram2d\"}],\"histogram2dcontour\":[{\"colorbar\":{\"outlinewidth\":0,\"ticks\":\"\"},\"colorscale\":[[0.0,\"#0d0887\"],[0.1111111111111111,\"#46039f\"],[0.2222222222222222,\"#7201a8\"],[0.3333333333333333,\"#9c179e\"],[0.4444444444444444,\"#bd3786\"],[0.5555555555555556,\"#d8576b\"],[0.6666666666666666,\"#ed7953\"],[0.7777777777777778,\"#fb9f3a\"],[0.8888888888888888,\"#fdca26\"],[1.0,\"#f0f921\"]],\"type\":\"histogram2dcontour\"}],\"mesh3d\":[{\"colorbar\":{\"outlinewidth\":0,\"ticks\":\"\"},\"type\":\"mesh3d\"}],\"parcoords\":[{\"line\":{\"colorbar\":{\"outlinewidth\":0,\"ticks\":\"\"}},\"type\":\"parcoords\"}],\"pie\":[{\"automargin\":true,\"type\":\"pie\"}],\"scatter\":[{\"marker\":{\"colorbar\":{\"outlinewidth\":0,\"ticks\":\"\"}},\"type\":\"scatter\"}],\"scatter3d\":[{\"line\":{\"colorbar\":{\"outlinewidth\":0,\"ticks\":\"\"}},\"marker\":{\"colorbar\":{\"outlinewidth\":0,\"ticks\":\"\"}},\"type\":\"scatter3d\"}],\"scattercarpet\":[{\"marker\":{\"colorbar\":{\"outlinewidth\":0,\"ticks\":\"\"}},\"type\":\"scattercarpet\"}],\"scattergeo\":[{\"marker\":{\"colorbar\":{\"outlinewidth\":0,\"ticks\":\"\"}},\"type\":\"scattergeo\"}],\"scattergl\":[{\"marker\":{\"colorbar\":{\"outlinewidth\":0,\"ticks\":\"\"}},\"type\":\"scattergl\"}],\"scattermapbox\":[{\"marker\":{\"colorbar\":{\"outlinewidth\":0,\"ticks\":\"\"}},\"type\":\"scattermapbox\"}],\"scatterpolar\":[{\"marker\":{\"colorbar\":{\"outlinewidth\":0,\"ticks\":\"\"}},\"type\":\"scatterpolar\"}],\"scatterpolargl\":[{\"marker\":{\"colorbar\":{\"outlinewidth\":0,\"ticks\":\"\"}},\"type\":\"scatterpolargl\"}],\"scatterternary\":[{\"marker\":{\"colorbar\":{\"outlinewidth\":0,\"ticks\":\"\"}},\"type\":\"scatterternary\"}],\"surface\":[{\"colorbar\":{\"outlinewidth\":0,\"ticks\":\"\"},\"colorscale\":[[0.0,\"#0d0887\"],[0.1111111111111111,\"#46039f\"],[0.2222222222222222,\"#7201a8\"],[0.3333333333333333,\"#9c179e\"],[0.4444444444444444,\"#bd3786\"],[0.5555555555555556,\"#d8576b\"],[0.6666666666666666,\"#ed7953\"],[0.7777777777777778,\"#fb9f3a\"],[0.8888888888888888,\"#fdca26\"],[1.0,\"#f0f921\"]],\"type\":\"surface\"}],\"table\":[{\"cells\":{\"fill\":{\"color\":\"#EBF0F8\"},\"line\":{\"color\":\"white\"}},\"header\":{\"fill\":{\"color\":\"#C8D4E3\"},\"line\":{\"color\":\"white\"}},\"type\":\"table\"}]},\"layout\":{\"annotationdefaults\":{\"arrowcolor\":\"#2a3f5f\",\"arrowhead\":0,\"arrowwidth\":1},\"autotypenumbers\":\"strict\",\"coloraxis\":{\"colorbar\":{\"outlinewidth\":0,\"ticks\":\"\"}},\"colorscale\":{\"diverging\":[[0,\"#8e0152\"],[0.1,\"#c51b7d\"],[0.2,\"#de77ae\"],[0.3,\"#f1b6da\"],[0.4,\"#fde0ef\"],[0.5,\"#f7f7f7\"],[0.6,\"#e6f5d0\"],[0.7,\"#b8e186\"],[0.8,\"#7fbc41\"],[0.9,\"#4d9221\"],[1,\"#276419\"]],\"sequential\":[[0.0,\"#0d0887\"],[0.1111111111111111,\"#46039f\"],[0.2222222222222222,\"#7201a8\"],[0.3333333333333333,\"#9c179e\"],[0.4444444444444444,\"#bd3786\"],[0.5555555555555556,\"#d8576b\"],[0.6666666666666666,\"#ed7953\"],[0.7777777777777778,\"#fb9f3a\"],[0.8888888888888888,\"#fdca26\"],[1.0,\"#f0f921\"]],\"sequentialminus\":[[0.0,\"#0d0887\"],[0.1111111111111111,\"#46039f\"],[0.2222222222222222,\"#7201a8\"],[0.3333333333333333,\"#9c179e\"],[0.4444444444444444,\"#bd3786\"],[0.5555555555555556,\"#d8576b\"],[0.6666666666666666,\"#ed7953\"],[0.7777777777777778,\"#fb9f3a\"],[0.8888888888888888,\"#fdca26\"],[1.0,\"#f0f921\"]]},\"colorway\":[\"#636efa\",\"#EF553B\",\"#00cc96\",\"#ab63fa\",\"#FFA15A\",\"#19d3f3\",\"#FF6692\",\"#B6E880\",\"#FF97FF\",\"#FECB52\"],\"font\":{\"color\":\"#2a3f5f\"},\"geo\":{\"bgcolor\":\"white\",\"lakecolor\":\"white\",\"landcolor\":\"#E5ECF6\",\"showlakes\":true,\"showland\":true,\"subunitcolor\":\"white\"},\"hoverlabel\":{\"align\":\"left\"},\"hovermode\":\"closest\",\"mapbox\":{\"style\":\"light\"},\"paper_bgcolor\":\"white\",\"plot_bgcolor\":\"#E5ECF6\",\"polar\":{\"angularaxis\":{\"gridcolor\":\"white\",\"linecolor\":\"white\",\"ticks\":\"\"},\"bgcolor\":\"#E5ECF6\",\"radialaxis\":{\"gridcolor\":\"white\",\"linecolor\":\"white\",\"ticks\":\"\"}},\"scene\":{\"xaxis\":{\"backgroundcolor\":\"#E5ECF6\",\"gridcolor\":\"white\",\"gridwidth\":2,\"linecolor\":\"white\",\"showbackground\":true,\"ticks\":\"\",\"zerolinecolor\":\"white\"},\"yaxis\":{\"backgroundcolor\":\"#E5ECF6\",\"gridcolor\":\"white\",\"gridwidth\":2,\"linecolor\":\"white\",\"showbackground\":true,\"ticks\":\"\",\"zerolinecolor\":\"white\"},\"zaxis\":{\"backgroundcolor\":\"#E5ECF6\",\"gridcolor\":\"white\",\"gridwidth\":2,\"linecolor\":\"white\",\"showbackground\":true,\"ticks\":\"\",\"zerolinecolor\":\"white\"}},\"shapedefaults\":{\"line\":{\"color\":\"#2a3f5f\"}},\"ternary\":{\"aaxis\":{\"gridcolor\":\"white\",\"linecolor\":\"white\",\"ticks\":\"\"},\"baxis\":{\"gridcolor\":\"white\",\"linecolor\":\"white\",\"ticks\":\"\"},\"bgcolor\":\"#E5ECF6\",\"caxis\":{\"gridcolor\":\"white\",\"linecolor\":\"white\",\"ticks\":\"\"}},\"title\":{\"x\":0.05},\"xaxis\":{\"automargin\":true,\"gridcolor\":\"white\",\"linecolor\":\"white\",\"ticks\":\"\",\"title\":{\"standoff\":15},\"zerolinecolor\":\"white\",\"zerolinewidth\":2},\"yaxis\":{\"automargin\":true,\"gridcolor\":\"white\",\"linecolor\":\"white\",\"ticks\":\"\",\"title\":{\"standoff\":15},\"zerolinecolor\":\"white\",\"zerolinewidth\":2}}},\"scene\":{\"domain\":{\"x\":[0.0,1.0],\"y\":[0.0,1.0]},\"xaxis\":{\"title\":{\"text\":\"x_nm\"}},\"yaxis\":{\"title\":{\"text\":\"y_nm\"}},\"zaxis\":{\"title\":{\"text\":\"z_nm\"}}},\"coloraxis\":{\"colorbar\":{\"title\":{\"text\":\"labels\"}},\"colorscale\":[[0.0,\"#0d0887\"],[0.1111111111111111,\"#46039f\"],[0.2222222222222222,\"#7201a8\"],[0.3333333333333333,\"#9c179e\"],[0.4444444444444444,\"#bd3786\"],[0.5555555555555556,\"#d8576b\"],[0.6666666666666666,\"#ed7953\"],[0.7777777777777778,\"#fb9f3a\"],[0.8888888888888888,\"#fdca26\"],[1.0,\"#f0f921\"]]},\"legend\":{\"tracegroupgap\":0},\"margin\":{\"t\":60}},                        {\"responsive\": true}                    ).then(function(){\n",
       "                            \n",
       "var gd = document.getElementById('ccf7aa10-d4b2-4bbb-a95a-4792078be4d9');\n",
       "var x = new MutationObserver(function (mutations, observer) {{\n",
       "        var display = window.getComputedStyle(gd).display;\n",
       "        if (!display || display === 'none') {{\n",
       "            console.log([gd, 'removed!']);\n",
       "            Plotly.purge(gd);\n",
       "            observer.disconnect();\n",
       "        }}\n",
       "}});\n",
       "\n",
       "// Listen for the removal of the full notebook cells\n",
       "var notebookContainer = gd.closest('#notebook-container');\n",
       "if (notebookContainer) {{\n",
       "    x.observe(notebookContainer, {childList: true});\n",
       "}}\n",
       "\n",
       "// Listen for the clearing of the current output cell\n",
       "var outputEl = gd.closest('.output');\n",
       "if (outputEl) {{\n",
       "    x.observe(outputEl, {childList: true});\n",
       "}}\n",
       "\n",
       "                        })                };                            </script>        </div>\n",
       "</body>\n",
       "</html>"
      ]
     },
     "metadata": {},
     "output_type": "display_data"
    }
   ],
   "source": [
    "# With noise\n",
    "import plotly.express as px\n",
    "\n",
    "fig = px.scatter_3d(df_1, x='x_nm', y='y_nm', z='z_nm',\n",
    "              color='labels')\n",
    "fig.show()"
   ]
  },
  {
   "cell_type": "markdown",
   "metadata": {
    "id": "JA60PVK75tcp"
   },
   "source": [
    "## Output file "
   ]
  },
  {
   "cell_type": "code",
   "execution_count": null,
   "metadata": {
    "id": "Oy35xjfiNa8w"
   },
   "outputs": [],
   "source": [
    "# Convert xyz pixel to Angstrom!!\n",
    "df_1['x'] = df_1['x'] * 5.28\n",
    "df_1['y'] = df_1['y'] * 5.28\n",
    "df_1['z'] = df_1['z'] * 5.28"
   ]
  },
  {
   "cell_type": "code",
   "execution_count": null,
   "metadata": {
    "id": "AeI4hlc8SsGs"
   },
   "outputs": [],
   "source": [
    "# output matrix\n",
    "matrixFile = \"slice_matrix.txt\"\n",
    "outputMatFile(df_1, matrixFile=matrixFile)"
   ]
  },
  {
   "cell_type": "code",
   "execution_count": null,
   "metadata": {
    "id": "ONeQmLif64HA"
   },
   "outputs": [],
   "source": [
    "# Output command\n",
    "cmd_str = 'open'\n",
    "# temp_str = r' C:\\Users\\Minrui\\Desktop\\NEW\\invert_temp_8140.mrc' * len(df_1)\n",
    "temp_str = r' /home/mlii0159/be57_scratch/Minrui/untitledFolder/slices/1kx4_template_orientation.pdb' * len(df_1)\n",
    "\n",
    "# change the text file for different tables\n",
    "# cmd_str = cmd_str + temp_str + '\\n' + 'matrixset ' + r'C:\\Users\\Minrui\\Desktop\\NEW\\matrix.txt' + '\\n' + 'focus'\n",
    "cmd_str = cmd_str + temp_str + '\\n' + 'matrixset ' + r'/home/mlii0159/be57_scratch/Minrui/untitledFolder/slices/slice_matrix.txt' + '\\n' + 'focus'"
   ]
  },
  {
   "cell_type": "code",
   "execution_count": null,
   "metadata": {
    "id": "xonUcpDoT-mY"
   },
   "outputs": [],
   "source": [
    "# write command to text\n",
    "with open('slice_script.txt', 'w') as f:\n",
    "    lines = f.write(cmd_str)"
   ]
  }
 ],
 "metadata": {
  "colab": {
   "authorship_tag": "ABX9TyOQWezj77m9lDqD1YhQOxzX",
   "collapsed_sections": [],
   "provenance": [],
   "toc_visible": true
  },
  "kernelspec": {
   "display_name": "Python 3",
   "language": "python",
   "name": "python3"
  },
  "language_info": {
   "codemirror_mode": {
    "name": "ipython",
    "version": 3
   },
   "file_extension": ".py",
   "mimetype": "text/x-python",
   "name": "python",
   "nbconvert_exporter": "python",
   "pygments_lexer": "ipython3",
   "version": "3.8.5"
  }
 },
 "nbformat": 4,
 "nbformat_minor": 1
}
